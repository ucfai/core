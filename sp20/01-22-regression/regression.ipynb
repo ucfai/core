{
 "cells": [
  {
   "cell_type": "markdown",
   "metadata": {
    "tags": [
     "nb-title",
     "template"
    ],
    "title": "Starting with the Basics, Regression"
   },
   "source": [
    "<img src=\"https://ucfai.org/core/sp20/regression/banner.png\">\n",
    "\n",
    "<div class=\"col-12\">\n",
    "    <h1> Starting with the Basics, Regression </h1>\n",
    "    <hr>\n",
    "</div>\n",
    "\n",
    "<div style=\"line-height: 2em;\">\n",
    "    <p>by: \n",
    "        <a href=\"https://ucfai.org/authors/JarvisEQ\">@JarvisEQ</a>\n",
    "        and\n",
    "        \n",
    "        <a href=\"https://ucfai.org/authors/bb912\">@bb912</a>\n",
    "        \n",
    "         on Jan 22, 2020</p>\n",
    "</div>"
   ]
  },
  {
   "cell_type": "code",
   "execution_count": null,
   "metadata": {
    "language": "python",
    "tags": [
     "template"
    ]
   },
   "outputs": [],
   "source": [
    "from pathlib import Path\n",
    "\n",
    "DATA_DIR = Path(\"/kaggle/input\")\n",
    "if (DATA_DIR / \"ucfai-core-sp20-regression\").exists():\n",
    "    DATA_DIR /= \"ucfai-core-sp20-regression\"\n",
    "else:\n",
    "    # You'll need to download the data from Kaggle and place it in the `data/`\n",
    "    #   directory beside this notebook.\n",
    "    # The data should be here: https://kaggle.com/c/ucfai-core-sp20-regression/data\n",
    "    DATA_DIR = Path(\"data\")"
   ]
  }
 ],
 "metadata": {
  "autobot": {
   "abstract": "You always start with the basics, and with AI it's no different! We'll be getting our feet wet with some simple, but powerful, models and demonstrate their power by applying them to real world data.",
   "authors": [
    "JarvisEQ",
    "bb912"
   ],
   "date": "2020-01-22T17:30:00",
   "group": "core",
   "semester": "sp20",
   "tags": [
    "regression",
    "linear regression",
    "logistic regression"
   ],
   "title": "Starting with the Basics, Regression"
  }
 },
 "nbformat": 4,
 "nbformat_minor": 4
}
