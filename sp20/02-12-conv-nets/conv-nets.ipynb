{
 "cells": [
  {
   "cell_type": "markdown",
   "metadata": {
    "tags": [
     "nb-title",
     "template"
    ],
    "title": "How We Can Give Our Computers Eyes and Ears"
   },
   "source": [
    "<img src=\"https://ucfai.org/core/sp20/conv-nets/banner.png\">\n",
    "\n",
    "<div class=\"col-12\">\n",
    "    <h1> How We Can Give Our Computers Eyes and Ears </h1>\n",
    "    <hr>\n",
    "</div>\n",
    "\n",
    "<div style=\"line-height: 2em;\">\n",
    "    <p>by: \n",
    "        <a href=\"https://ucfai.org/authors/danielzgsilva\">@danielzgsilva</a>\n",
    "        \n",
    "         on Feb 12, 2020</p>\n",
    "</div>"
   ]
  },
  {
   "cell_type": "code",
   "execution_count": null,
   "metadata": {
    "language": "python",
    "tags": [
     "template"
    ]
   },
   "outputs": [],
   "source": [
    "from pathlib import Path\n",
    "\n",
    "DATA_DIR = Path(\"/kaggle/input\")\n",
    "if (DATA_DIR / \"ucfai-core-sp20-conv-nets\").exists():\n",
    "    DATA_DIR /= \"ucfai-core-sp20-conv-nets\"\n",
    "else:\n",
    "    # You'll need to download the data from Kaggle and place it in the `data/`\n",
    "    #   directory beside this notebook.\n",
    "    # The data should be here: https://kaggle.com/c/ucfai-core-sp20-conv-nets/data\n",
    "    DATA_DIR = Path(\"data\")"
   ]
  }
 ],
 "metadata": {
  "autobot": {
   "abstract": "Ever wonder how Facebook tells you which friends to tag in your photos, or how Siri can even understand your request? In this meeting we'll dive into convolutional neural networks and give you all the tools to build smart systems such as these. Join us in learning how we can grant our computers the gifts of hearing and sight!",
   "authors": [
    "danielzgsilva"
   ],
   "date": "2020-02-12T17:30:00",
   "group": "core",
   "semester": "sp20",
   "tags": [
    "Convolutional Networks",
    "Image Processing",
    "Feature Extraction"
   ],
   "title": "How We Can Give Our Computers Eyes and Ears"
  }
 },
 "nbformat": 4,
 "nbformat_minor": 4
}
