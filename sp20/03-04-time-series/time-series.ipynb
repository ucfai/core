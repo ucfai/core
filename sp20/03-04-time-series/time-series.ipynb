{
 "cells": [
  {
   "cell_type": "markdown",
   "metadata": {
    "tags": [
     "nb-title",
     "template"
    ],
    "title": "Time Series Analysis"
   },
   "source": [
    "<img src=\"https://ucfai.org/core/sp20/time-series/banner.png\">\n",
    "\n",
    "<div class=\"col-12\">\n",
    "    <h1> Time Series Analysis </h1>\n",
    "    <hr>\n",
    "</div>\n",
    "\n",
    "<div style=\"line-height: 2em;\">\n",
    "    <p>by: \n",
    "        <a href=\"https://ucfai.org/authors/nspeer12\">@nspeer12</a>\n",
    "        \n",
    "         on Mar 04, 2020</p>\n",
    "</div>"
   ]
  },
  {
   "cell_type": "code",
   "execution_count": null,
   "metadata": {
    "language": "python",
    "tags": [
     "template"
    ]
   },
   "outputs": [],
   "source": [
    "from pathlib import Path\n",
    "\n",
    "DATA_DIR = Path(\"/kaggle/input\")\n",
    "if (DATA_DIR / \"ucfai-core-sp20-time-series\").exists():\n",
    "    DATA_DIR /= \"ucfai-core-sp20-time-series\"\n",
    "else:\n",
    "    # You'll need to download the data from Kaggle and place it in the `data/`\n",
    "    #   directory beside this notebook.\n",
    "    # The data should be here: https://kaggle.com/c/ucfai-core-sp20-time-series/data\n",
    "    DATA_DIR = Path(\"data\")"
   ]
  }
 ],
 "metadata": {
  "autobot": {
   "abstract": "How can we infer on the past to predict the future? In this meeting we are going to be learning about time series data and its unique qualities. After we sharpen up our data science skills, we will be putting them to good use by analyzing and predicting the spread of the Coronavirus!",
   "authors": [
    "nspeer12"
   ],
   "date": "2020-03-04T17:30:00",
   "group": "core",
   "semester": "sp20",
   "tags": [
    "Time Series",
    "Temporal Predictions",
    "Coronavirus"
   ],
   "title": "Time Series Analysis"
  }
 },
 "nbformat": 4,
 "nbformat_minor": 4
}
