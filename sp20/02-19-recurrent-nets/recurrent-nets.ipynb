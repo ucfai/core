{
 "cells": [
  {
   "cell_type": "markdown",
   "metadata": {
    "tags": [
     "nb-title",
     "template"
    ],
    "title": "Writer's Block? RNNs Can Help!"
   },
   "source": [
    "<img src=\"https://ucfai.org/core/sp20/recurrent-nets/banner.png\">\n",
    "\n",
    "<div class=\"col-12\">\n",
    "    <h1> Writer's Block? RNNs Can Help! </h1>\n",
    "    <hr>\n",
    "</div>\n",
    "\n",
    "<div style=\"line-height: 2em;\">\n",
    "    <p>by: \n",
    "        <a href=\"https://ucfai.org/authors/brandons209\">@brandons209</a>\n",
    "        \n",
    "        ,\n",
    "        <a href=\"https://ucfai.org/authors/DillonNotDylan\">@DillonNotDylan</a>\n",
    "        and\n",
    "        ,\n",
    "        <a href=\"https://ucfai.org/authors/ionlights\">@ionlights</a>\n",
    "        \n",
    "         on Feb 19, 2020</p>\n",
    "</div>"
   ]
  },
  {
   "cell_type": "code",
   "execution_count": null,
   "metadata": {
    "language": "python",
    "tags": [
     "template"
    ]
   },
   "outputs": [],
   "source": [
    "from pathlib import Path\n",
    "\n",
    "DATA_DIR = Path(\"/kaggle/input\")\n",
    "if (DATA_DIR / \"ucfai-core-sp20-recurrent-nets\").exists():\n",
    "    DATA_DIR /= \"ucfai-core-sp20-recurrent-nets\"\n",
    "else:\n",
    "    # You'll need to download the data from Kaggle and place it in the `data/`\n",
    "    #   directory beside this notebook.\n",
    "    # The data should be here: https://kaggle.com/c/ucfai-core-sp20-recurrent-nets/data\n",
    "    DATA_DIR = Path(\"data\")"
   ]
  }
 ],
 "metadata": {
  "autobot": {
   "abstract": "This lecture is all about Recurrent Neural Networks. These are networks with memory, which means they can learn from sequential data such as speech, text, videos, and more. Different types of RNNs and strategies for building them will also be covered. The project will be building a LSTM-RNN to generate new original scripts for the TV series \"The Simpsons\". Come and find out if our networks can become better writers for the show!",
   "authors": [
    "brandons209",
    "DillonNotDylan",
    "ionlights"
   ],
   "date": "2020-02-19T17:30:00",
   "group": "core",
   "semester": "sp20",
   "tags": [
    "Recurrent Networks",
    "Natural Language Processing",
    "Text Generation"
   ],
   "title": "Writer's Block? RNNs Can Help!"
  }
 },
 "nbformat": 4,
 "nbformat_minor": 4
}
