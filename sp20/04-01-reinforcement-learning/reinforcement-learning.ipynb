{
 "cells": [
  {
   "cell_type": "markdown",
   "metadata": {
    "tags": [
     "nb-title",
     "template"
    ],
    "title": "Training Machines to Learn From Experience"
   },
   "source": [
    "<img src=\"https://ucfai.org/core/sp20/reinforcement-learning/banner.png\">\n",
    "\n",
    "<div class=\"col-12\">\n",
    "    <h1> Training Machines to Learn From Experience </h1>\n",
    "    <hr>\n",
    "</div>\n",
    "\n",
    "<div style=\"line-height: 2em;\">\n",
    "    <p>by: \n",
    "        <a href=\"https://ucfai.org/authors/danielzgsilva\">@danielzgsilva</a>\n",
    "        \n",
    "        ,\n",
    "        <a href=\"https://ucfai.org/authors/JarvisEQ\">@JarvisEQ</a>\n",
    "        and\n",
    "        ,\n",
    "        <a href=\"https://ucfai.org/authors/ionlights\">@ionlights</a>\n",
    "        \n",
    "         on Apr 01, 2020</p>\n",
    "</div>"
   ]
  },
  {
   "cell_type": "code",
   "execution_count": null,
   "metadata": {
    "language": "python",
    "tags": [
     "template"
    ]
   },
   "outputs": [],
   "source": [
    "from pathlib import Path\n",
    "\n",
    "DATA_DIR = Path(\"/kaggle/input\")\n",
    "if (DATA_DIR / \"ucfai-core-sp20-reinforcement-learning\").exists():\n",
    "    DATA_DIR /= \"ucfai-core-sp20-reinforcement-learning\"\n",
    "else:\n",
    "    # You'll need to download the data from Kaggle and place it in the `data/`\n",
    "    #   directory beside this notebook.\n",
    "    # The data should be here: https://kaggle.com/c/ucfai-core-sp20-reinforcement-learning/data\n",
    "    DATA_DIR = Path(\"data\")"
   ]
  }
 ],
 "metadata": {
  "autobot": {
   "abstract": "We all remember when DeepMind’s AlphaGo beat Lee Sedol, but what actually made the program powerful enough to outperform an international champion? In this lecture, we’ll dive into the mechanics of reinforcement learning and its applications.",
   "authors": [
    "danielzgsilva",
    "JarvisEQ",
    "ionlights"
   ],
   "date": "2020-04-01T17:30:00",
   "group": "core",
   "semester": "sp20",
   "tags": [
    "Reinforcement Learning",
    "Q-learning",
    "OpenAI Gym"
   ],
   "title": "Training Machines to Learn From Experience"
  }
 },
 "nbformat": 4,
 "nbformat_minor": 4
}
