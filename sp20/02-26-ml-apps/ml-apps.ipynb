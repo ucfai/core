{
 "cells": [
  {
   "cell_type": "markdown",
   "metadata": {
    "tags": [
     "nb-title",
     "template"
    ],
    "title": "Machine Learning Applications"
   },
   "source": [
    "<img src=\"https://ucfai.org/core/sp20/ml-apps/banner.png\">\n",
    "\n",
    "<div class=\"col-12\">\n",
    "    <h1> Machine Learning Applications </h1>\n",
    "    <hr>\n",
    "</div>\n",
    "\n",
    "<div style=\"line-height: 2em;\">\n",
    "    <p>by: \n",
    "        <a href=\"https://ucfai.org/authors/brandons209\">@brandons209</a>\n",
    "        and\n",
    "        \n",
    "        <a href=\"https://ucfai.org/authors/nspeer12\">@nspeer12</a>\n",
    "        \n",
    "         on Feb 26, 2020</p>\n",
    "</div>"
   ]
  },
  {
   "cell_type": "code",
   "execution_count": null,
   "metadata": {
    "language": "python",
    "tags": [
     "template"
    ]
   },
   "outputs": [],
   "source": [
    "from pathlib import Path\n",
    "\n",
    "DATA_DIR = Path(\"/kaggle/input\")\n",
    "if (DATA_DIR / \"ucfai-core-sp20-ml-apps\").exists():\n",
    "    DATA_DIR /= \"ucfai-core-sp20-ml-apps\"\n",
    "else:\n",
    "    # You'll need to download the data from Kaggle and place it in the `data/`\n",
    "    #   directory beside this notebook.\n",
    "    # The data should be here: https://kaggle.com/c/ucfai-core-sp20-ml-apps/data\n",
    "    DATA_DIR = Path(\"data\")"
   ]
  }
 ],
 "metadata": {
  "autobot": {
   "abstract": "It's time to put what you have learned into action. Here, we have prepared some datasets for you to build a a model to solve. This is different from past meetings, as it will be a full workshop. We provide the data sets and a notebook that gets you started, but it is up to you to build a model to solve the problem. So, what will you be doing? We have two datasets, one is using planetary data to predict if a planet is an exoplanet or not, so your model can help us find more Earth-like planets that could contain life! The second dataset will be used to build a model that mimics a pokedex! Well, not fully, but the goal is to predict the name of a pokemon and also predict its type (such as electric, fire, etc.) This will be extremely fun and give you a chance to apply what you have learned, with us here to help!",
   "authors": [
    "brandons209",
    "nspeer12"
   ],
   "date": "2020-02-26T17:30:00",
   "group": "core",
   "semester": "sp20",
   "tags": [
    "Applications",
    "Pokémon",
    "Pokédex",
    "Expolanets",
    "Machine Learning"
   ],
   "title": "Machine Learning Applications"
  }
 },
 "nbformat": 4,
 "nbformat_minor": 4
}
