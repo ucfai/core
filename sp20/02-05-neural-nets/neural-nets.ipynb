{
 "cells": [
  {
   "cell_type": "markdown",
   "metadata": {
    "tags": [
     "nb-title",
     "template"
    ],
    "title": "Introduction to Neural Networks"
   },
   "source": [
    "<img src=\"https://ucfai.org/core/sp20/neural-nets/banner.png\">\n",
    "\n",
    "<div class=\"col-12\">\n",
    "    <h1> Introduction to Neural Networks </h1>\n",
    "    <hr>\n",
    "</div>\n",
    "\n",
    "<div style=\"line-height: 2em;\">\n",
    "    <p>by: \n",
    "        <a href=\"https://ucfai.org/authors/JarvisEQ\">@JarvisEQ</a>\n",
    "        and\n",
    "        \n",
    "        <a href=\"https://ucfai.org/authors/DillonNotDylan\">@DillonNotDylan</a>\n",
    "        \n",
    "         on Feb 05, 2020</p>\n",
    "</div>"
   ]
  },
  {
   "cell_type": "code",
   "execution_count": null,
   "metadata": {
    "language": "python",
    "tags": [
     "template"
    ]
   },
   "outputs": [],
   "source": [
    "from pathlib import Path\n",
    "\n",
    "DATA_DIR = Path(\"/kaggle/input\")\n",
    "if (DATA_DIR / \"ucfai-core-sp20-neural-nets\").exists():\n",
    "    DATA_DIR /= \"ucfai-core-sp20-neural-nets\"\n",
    "else:\n",
    "    # You'll need to download the data from Kaggle and place it in the `data/`\n",
    "    #   directory beside this notebook.\n",
    "    # The data should be here: https://kaggle.com/c/ucfai-core-sp20-neural-nets/data\n",
    "    DATA_DIR = Path(\"data\")"
   ]
  }
 ],
 "metadata": {
  "autobot": {
   "abstract": "You've heard about them: Beating humans at all types of games, driving cars, and recommending your next Netflix series to watch, but what ARE neural networks? In this lecture, you'll actually learn step by step how neural networks function and learn. Then, you'll deploy one yourself!",
   "authors": [
    "JarvisEQ",
    "DillonNotDylan"
   ],
   "date": "2020-02-05T17:30:00",
   "group": "core",
   "semester": "sp20",
   "tags": [
    "Neural Networks",
    "Gradient Descent",
    "Backpropagation",
    "Deep Learning"
   ],
   "title": "Introduction to Neural Networks"
  }
 },
 "nbformat": 4,
 "nbformat_minor": 4
}
