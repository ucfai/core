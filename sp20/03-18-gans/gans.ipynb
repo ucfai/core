{
 "cells": [
  {
   "cell_type": "markdown",
   "metadata": {
    "tags": [
     "nb-title",
     "template"
    ],
    "title": "A Look Behind DeepFake ~ GANs"
   },
   "source": [
    "<img src=\"https://ucfai.org/core/sp20/gans/banner.png\">\n",
    "\n",
    "<div class=\"col-12\">\n",
    "    <h1> A Look Behind DeepFake ~ GANs </h1>\n",
    "    <hr>\n",
    "</div>\n",
    "\n",
    "<div style=\"line-height: 2em;\">\n",
    "    <p>by: \n",
    "        <a href=\"https://ucfai.org/authors/brandons209\">@brandons209</a>\n",
    "        and\n",
    "        \n",
    "        <a href=\"https://ucfai.org/authors/bb912\">@bb912</a>\n",
    "        \n",
    "         on Mar 18, 2020</p>\n",
    "</div>"
   ]
  },
  {
   "cell_type": "code",
   "execution_count": null,
   "metadata": {
    "language": "python",
    "tags": [
     "template"
    ]
   },
   "outputs": [],
   "source": [
    "from pathlib import Path\n",
    "\n",
    "DATA_DIR = Path(\"/kaggle/input\")\n",
    "if (DATA_DIR / \"ucfai-core-sp20-gans\").exists():\n",
    "    DATA_DIR /= \"ucfai-core-sp20-gans\"\n",
    "else:\n",
    "    # You'll need to download the data from Kaggle and place it in the `data/`\n",
    "    #   directory beside this notebook.\n",
    "    # The data should be here: https://kaggle.com/c/ucfai-core-sp20-gans/data\n",
    "    DATA_DIR = Path(\"data\")"
   ]
  }
 ],
 "metadata": {
  "autobot": {
   "abstract": "GANs are relativity new in the machine learning world, but they have proven to be a very powerful architecture. Recently, they made headlines in the DeepFake network, being able to mimic someone else in real time in both video and audio. There has also been cycleGAN, which takes one domain (horses) and makes it look like something similar (zebras). Come and learn the secret behind these type of networks, you will be surprised how intuitive it is! The lecture will cover the basics of GANs and different types, with the workshop covering how we can generate human faces, cats, dogs, and other cute creatures!",
   "authors": [
    "brandons209",
    "bb912"
   ],
   "date": "2020-03-18T17:30:00",
   "group": "core",
   "semester": "sp20",
   "tags": [
    "DeepFake",
    "GANs",
    "CycleGANs",
    "generative models"
   ],
   "title": "A Look Behind DeepFake ~ GANs"
  }
 },
 "nbformat": 4,
 "nbformat_minor": 4
}
