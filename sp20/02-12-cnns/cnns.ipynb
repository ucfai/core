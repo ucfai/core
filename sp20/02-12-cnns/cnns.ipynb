{
 "cells": [
  {
   "cell_type": "markdown",
   "metadata": {
    "tags": [
     "nb-title"
    ],
    "title": "How We Can Give Our Computers Eyes and Ears"
   },
   "source": [
    "<img src=\"https://ucfai.org/groups/core/sp20/02-12-cnns/cnns/banner.png\">\n",
    "\n",
    "<div class=\"col-12\">\n",
    "    <span class=\"btn btn-success btn-block\">\n",
    "        Meeting in-person? Have you signed in?\n",
    "    </span>\n",
    "</div>\n",
    "\n",
    "<div class=\"col-12\">\n",
    "    <h1> How We Can Give Our Computers Eyes and Ears </h1>\n",
    "    <hr>\n",
    "</div>\n",
    "\n",
    "<div style=\"line-height: 2em;\">\n",
    "    <p>by: \n",
    "        <strong> None</strong>\n",
    "        (<a href=\"https://github.com/danielzgsilva\">@danielzgsilva</a>)\n",
    "     on 2020-02-12</p>\n",
    "</div>"
   ]
  }
 ],
 "metadata": {},
 "nbformat": 4,
 "nbformat_minor": 4
}
