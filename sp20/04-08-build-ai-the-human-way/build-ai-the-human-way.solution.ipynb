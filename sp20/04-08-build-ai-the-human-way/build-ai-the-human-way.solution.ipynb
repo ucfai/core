{
 "cells": [
  {
   "cell_type": "markdown",
   "metadata": {
    "tags": [
     "nb-title",
     "template"
    ],
    "title": "Building AI, the Human Way"
   },
   "source": [
    "<img src=\"https://ucfai.org/core/sp20/build-ai-the-human-way/banner.png\">\n",
    "\n",
    "<div class=\"col-12\">\n",
    "    <h1> Building AI, the Human Way </h1>\n",
    "    <hr>\n",
    "</div>\n",
    "\n",
    "<div style=\"line-height: 2em;\">\n",
    "    <p>by: \n",
    "        <a href=\"https://ucfai.org/authors/ionlights\">@ionlights</a>\n",
    "        \n",
    "         on Apr 08, 2020</p>\n",
    "</div>"
   ]
  },
  {
   "cell_type": "code",
   "execution_count": null,
   "metadata": {
    "language": "python",
    "tags": [
     "template"
    ]
   },
   "outputs": [],
   "source": [
    "from pathlib import Path\n",
    "\n",
    "DATA_DIR = Path(\"/kaggle/input\")\n",
    "if (DATA_DIR / \"ucfai-core-sp20-build-ai-the-human-way\").exists():\n",
    "    DATA_DIR /= \"ucfai-core-sp20-build-ai-the-human-way\"\n",
    "else:\n",
    "    # You'll need to download the data from Kaggle and place it in the `data/`\n",
    "    #   directory beside this notebook.\n",
    "    # The data should be here: https://kaggle.com/c/ucfai-core-sp20-build-ai-the-human-way/data\n",
    "    DATA_DIR = Path(\"data\")"
   ]
  }
 ],
 "metadata": {
  "autobot": {
   "abstract": "We've learned about linear and statistical models as well as different training paradigms, but we've yet to think about how it all began. In Cognitive Computational Neuroscience, we look at AI and ML from the perspective of using them as tools to learn about human cognition, in the hopes of building better AI systems, but more importantly, in the hopes of better understanding ourselves.",
   "authors": [
    "ionlights"
   ],
   "date": "2020-04-08T17:30:00",
   "group": "core",
   "semester": "sp20",
   "tags": [
    "Machine Learning",
    "Common Sense AI",
    "Computational Cognitive Science",
    "CoCoSci",
    "Cognitive Science",
    "Probabilistic Programming",
    "Program Induction",
    "Intuitive Theories",
    "Intuitive Physics",
    "Intuitive Psychology"
   ],
   "title": "Building AI, the Human Way"
  }
 },
 "nbformat": 4,
 "nbformat_minor": 2
}
