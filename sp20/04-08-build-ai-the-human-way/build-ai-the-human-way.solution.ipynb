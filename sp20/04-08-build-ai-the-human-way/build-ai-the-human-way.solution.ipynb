{
 "cells": [
  {
   "cell_type": "markdown",
   "metadata": {
    "tags": [
     "nb-title",
     "template"
    ],
    "title": "meeting10"
   },
   "source": [
    "<img src=\"https://ucfai.org/core Group/Spring 2020//banner.png\">\n",
    "\n",
    "<div class=\"col-12\">\n",
    "    <h1> meeting10 </h1>\n",
    "    <hr>\n",
    "</div>\n",
    "\n",
    "<div style=\"line-height: 2em;\">\n",
    "    <p>by:  on 2020-04-08 17:30:00</p>\n",
    "</div>"
   ]
  },
  {
   "cell_type": "code",
   "execution_count": null,
   "metadata": {
    "language": "python",
    "tags": [
     "template"
    ]
   },
   "outputs": [],
   "source": [
    "from pathlib import Path\n",
    "\n",
    "DATA_DIR = Path(\"/kaggle/input\")\n",
    "if (DATA_DIR / \"ucfai-core-sp20-meeting10\").exists():\n",
    "    DATA_DIR /= \"ucfai-core-sp20-meeting10\"\n",
    "else:\n",
    "    # You'll need to download the data from Kaggle and place it in the `data/`\n",
    "    #   directory beside this notebook.\n",
    "    # The data should be here: https://kaggle.com/c/ucfai-core-sp20-meeting10/data\n",
    "    DATA_DIR = Path(\"data\")"
   ]
  }
 ],
 "metadata": {
  "autobot": {
   "abstract": "",
   "authors": [],
   "categories": [
    "sp20"
   ],
   "date": "2020-04-08 17:30:00",
   "group": "core",
   "semester": "sp20",
   "tags": [],
   "title": "meeting10"
  }
 },
 "nbformat": 4,
 "nbformat_minor": 2
}
