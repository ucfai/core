{
 "cells": [
  {
   "cell_type": "markdown",
   "metadata": {
    "tags": [
     "nb-title",
     "template"
    ],
    "title": "Workshop: Convolving a Neural Network"
   },
   "source": [
    "<img\n",
    "    style=\"border-radius: 0.5em;\"\n",
    "    src=\"https://ucfai.org/groups/core/sp18/conv-nets-workshop/banner.png\">\n",
    "\n",
    "<div class=\"col-12\">\n",
    "    <h1> Workshop: Convolving a Neural Network </h1>\n",
    "    <hr>\n",
    "</div>\n",
    "\n",
    "<div style=\"line-height: 2em;\">\n",
    "    <p>by: \n",
    "        <a href=\"https://ucfai.org/authors/dibaccory\">@dibaccory</a> on Mar 01, 2018</p>\n",
    "</div>"
   ]
  },
  {
   "cell_type": "code",
   "execution_count": null,
   "metadata": {
    "language": "python",
    "tags": [
     "template"
    ]
   },
   "outputs": [],
   "source": [
    "from pathlib import Path\n",
    "\n",
    "DATA_DIR = Path(\"/kaggle/input\")\n",
    "if (DATA_DIR / \"ucfai-core-sp18-conv-nets-workshop\").exists():\n",
    "    DATA_DIR /= \"ucfai-core-sp18-conv-nets-workshop\"\n",
    "elif DATA_DIR.exists():\n",
    "    # no-op to keep the proper data path for Kaggle\n",
    "    pass\n",
    "else:\n",
    "    # You'll need to download the data from Kaggle and place it in the `data/`\n",
    "    #   directory beside this notebook.\n",
    "    # The data should be here: https://kaggle.com/c/ucfai-core-sp18-conv-nets-workshop/data\n",
    "    DATA_DIR = Path(\"data\")"
   ]
  }
 ],
 "metadata": {
  "autobot": {
   "abstract": "We're filling this out!",
   "authors": [
    "dibaccory"
   ],
   "date": "2018-03-01T19:30:00",
   "group": "core",
   "semester": "sp18",
   "tags": [
    "convolutional networks",
    "deep learning",
    "machine learning",
    "computer vision"
   ],
   "title": "Workshop: Convolving a Neural Network"
  }
 },
 "nbformat": 4,
 "nbformat_minor": 4
}
