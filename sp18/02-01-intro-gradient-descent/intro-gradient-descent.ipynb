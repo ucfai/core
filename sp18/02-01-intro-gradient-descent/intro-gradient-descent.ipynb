{
 "cells": [
  {
   "cell_type": "markdown",
   "metadata": {
    "tags": [
     "nb-title",
     "template"
    ],
    "title": "Welcome back to SIGAI, featuring Gradient Descent"
   },
   "source": [
    "<img src=\"https://ucfai.org/core/sp18/intro-gradient-descent/banner.png\">\n",
    "\n",
    "<div class=\"col-12\">\n",
    "    <h1> Welcome back to SIGAI, featuring Gradient Descent </h1>\n",
    "    <hr>\n",
    "</div>\n",
    "\n",
    "<div style=\"line-height: 2em;\">\n",
    "    <p>by: \n",
    "        <a href=\"https://ucfai.org/authors/ionlights\">@ionlights</a>\n",
    "        \n",
    "         on Feb 01, 2018</p>\n",
    "</div>"
   ]
  },
  {
   "cell_type": "code",
   "execution_count": null,
   "metadata": {
    "language": "python",
    "tags": [
     "template"
    ]
   },
   "outputs": [],
   "source": [
    "from pathlib import Path\n",
    "\n",
    "DATA_DIR = Path(\"/kaggle/input\")\n",
    "if (DATA_DIR / \"ucfai-core-sp18-intro-gradient-descent\").exists():\n",
    "    DATA_DIR /= \"ucfai-core-sp18-intro-gradient-descent\"\n",
    "else:\n",
    "    # You'll need to download the data from Kaggle and place it in the `data/`\n",
    "    #   directory beside this notebook.\n",
    "    # The data should be here: https://kaggle.com/c/ucfai-core-sp18-intro-gradient-descent/data\n",
    "    DATA_DIR = Path(\"data\")"
   ]
  }
 ],
 "metadata": {
  "autobot": {
   "abstract": "Welcome back to SIGAI! We'll be covering some administrative needs – like how we're doing lectures/workshops and what we expect of coordinators, since we'll have elections in March. Then we'll go over some math to check everyone's background so you're uber prepared for next week! Once we've covered that, we'll go over Gradient Descent and get a rough idea of how it works – this is integral to almost all our content this semester.",
   "authors": [
    "ionlights"
   ],
   "date": "2018-02-01T19:30:00",
   "group": "core",
   "semester": "sp18",
   "tags": [
    "gradient descent",
    "optimization",
    "machine learning"
   ],
   "title": "Welcome back to SIGAI, featuring Gradient Descent"
  }
 },
 "nbformat": 4,
 "nbformat_minor": 4
}
