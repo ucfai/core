{
 "cells": [
  {
   "cell_type": "markdown",
   "metadata": {
    "tags": [
     "nb-title",
     "template"
    ],
    "title": "Workshop: Building an Extensible ANN"
   },
   "source": [
    "<img src=\"https://ucfai.org/core/sp18/neural-nets-workshop/banner.png\">\n",
    "\n",
    "<div class=\"col-12\">\n",
    "    <h1> Workshop: Building an Extensible ANN </h1>\n",
    "    <hr>\n",
    "</div>\n",
    "\n",
    "<div style=\"line-height: 2em;\">\n",
    "    <p>by: \n",
    "        <a href=\"https://ucfai.org/authors/ionlights\">@ionlights</a>\n",
    "        \n",
    "         on Feb 15, 2018</p>\n",
    "</div>"
   ]
  },
  {
   "cell_type": "code",
   "execution_count": null,
   "metadata": {
    "language": "python",
    "tags": [
     "template"
    ]
   },
   "outputs": [],
   "source": [
    "from pathlib import Path\n",
    "\n",
    "DATA_DIR = Path(\"/kaggle/input\")\n",
    "if (DATA_DIR / \"ucfai-core-sp18-neural-nets-workshop\").exists():\n",
    "    DATA_DIR /= \"ucfai-core-sp18-neural-nets-workshop\"\n",
    "else:\n",
    "    # You'll need to download the data from Kaggle and place it in the `data/`\n",
    "    #   directory beside this notebook.\n",
    "    # The data should be here: https://kaggle.com/c/ucfai-core-sp18-neural-nets-workshop/data\n",
    "    DATA_DIR = Path(\"data\")"
   ]
  }
 ],
 "metadata": {
  "autobot": {
   "abstract": "We'll take what we learned last week and actually write up a Neural Network to train on the MNIST dataset, to recognize hand-written digits with about 92% accuracy.",
   "authors": [
    "ionlights"
   ],
   "date": "2018-02-15T19:30:00",
   "group": "core",
   "semester": "sp18",
   "tags": [],
   "title": "Workshop: Building an Extensible ANN"
  }
 },
 "nbformat": 4,
 "nbformat_minor": 4
}
