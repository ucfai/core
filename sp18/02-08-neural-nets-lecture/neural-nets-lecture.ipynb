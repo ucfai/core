{
 "cells": [
  {
   "cell_type": "markdown",
   "metadata": {
    "tags": [
     "nb-title",
     "template"
    ],
    "title": "Lecture: An Intro to Neural Networks (ANNs)"
   },
   "source": [
    "<img src=\"https://ucfai.org/core/sp18/neural-nets-lecture/banner.png\">\n",
    "\n",
    "<div class=\"col-12\">\n",
    "    <h1> Lecture: An Intro to Neural Networks (ANNs) </h1>\n",
    "    <hr>\n",
    "</div>\n",
    "\n",
    "<div style=\"line-height: 2em;\">\n",
    "    <p>by: \n",
    "        <a href=\"https://ucfai.org/authors/ionlights\">@ionlights</a>\n",
    "        \n",
    "         on Feb 08, 2018</p>\n",
    "</div>"
   ]
  },
  {
   "cell_type": "code",
   "execution_count": null,
   "metadata": {
    "language": "python",
    "tags": [
     "template"
    ]
   },
   "outputs": [],
   "source": [
    "from pathlib import Path\n",
    "\n",
    "DATA_DIR = Path(\"/kaggle/input\")\n",
    "if (DATA_DIR / \"ucfai-core-sp18-neural-nets-lecture\").exists():\n",
    "    DATA_DIR /= \"ucfai-core-sp18-neural-nets-lecture\"\n",
    "else:\n",
    "    # You'll need to download the data from Kaggle and place it in the `data/`\n",
    "    #   directory beside this notebook.\n",
    "    # The data should be here: https://kaggle.com/c/ucfai-core-sp18-neural-nets-lecture/data\n",
    "    DATA_DIR = Path(\"data\")"
   ]
  }
 ],
 "metadata": {
  "autobot": {
   "abstract": "Here, we'll dive, head first, into the nitty-gritty of Neural Networks, how they work, what Gradient Descent achieves for them, and how Neural Networks act on the feedback that Gradient Descent derives.",
   "authors": [
    "ionlights"
   ],
   "date": "2018-02-08T19:30:00",
   "group": "core",
   "semester": "sp18",
   "tags": [
    "neural networks",
    "deep learning",
    "MNIST"
   ],
   "title": "Lecture: An Intro to Neural Networks (ANNs)"
  }
 },
 "nbformat": 4,
 "nbformat_minor": 4
}
