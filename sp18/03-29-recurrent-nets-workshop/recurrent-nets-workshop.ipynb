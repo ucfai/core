{
 "cells": [
  {
   "cell_type": "markdown",
   "metadata": {
    "tags": [
     "nb-title",
     "template"
    ],
    "title": "Workshop: Do We Need English Lit Anymore?"
   },
   "source": [
    "<img src=\"https://ucfai.org/core/sp18/recurrent-nets-workshop/banner.png\">\n",
    "\n",
    "<div class=\"col-12\">\n",
    "    <h1> Workshop: Do We Need English Lit Anymore? </h1>\n",
    "    <hr>\n",
    "</div>\n",
    "\n",
    "<div style=\"line-height: 2em;\">\n",
    "    <p>by: \n",
    "        <a href=\"https://ucfai.org/authors/ionlights\">@ionlights</a>\n",
    "        \n",
    "         on Mar 29, 2018</p>\n",
    "</div>"
   ]
  },
  {
   "cell_type": "code",
   "execution_count": null,
   "metadata": {
    "language": "python",
    "tags": [
     "template"
    ]
   },
   "outputs": [],
   "source": [
    "from pathlib import Path\n",
    "\n",
    "DATA_DIR = Path(\"/kaggle/input\")\n",
    "if (DATA_DIR / \"ucfai-core-sp18-recurrent-nets-workshop\").exists():\n",
    "    DATA_DIR /= \"ucfai-core-sp18-recurrent-nets-workshop\"\n",
    "else:\n",
    "    # You'll need to download the data from Kaggle and place it in the `data/`\n",
    "    #   directory beside this notebook.\n",
    "    # The data should be here: https://kaggle.com/c/ucfai-core-sp18-recurrent-nets-workshop/data\n",
    "    DATA_DIR = Path(\"data\")"
   ]
  }
 ],
 "metadata": {
  "autobot": {
   "abstract": "We're filling this out!",
   "authors": [
    "ionlights"
   ],
   "date": "2018-03-29T19:30:00",
   "group": "core",
   "semester": "sp18",
   "tags": [],
   "title": "Workshop: Do We Need English Lit Anymore?"
  }
 },
 "nbformat": 4,
 "nbformat_minor": 4
}
