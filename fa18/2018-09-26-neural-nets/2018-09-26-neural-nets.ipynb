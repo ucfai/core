{
 "cells": [
  {
   "cell_type": "markdown",
   "metadata": {
    "type": "signup-banner"
   },
   "source": [
    "<img style=\"border-radius: 0.5rem;\" src=\"banner.jpg\" />\n",
    "<a style=\"margin-top: 1rem;\" class=\"btn btn-lg btn-block btn-success\" href=\"https://dsg.ucfsigai.org/fa18/signin/\">\n",
    "    Sign in (https://dsg.ucfsigai.org/fa18/signin/)\n",
    "</a>"
   ]
  },
  {
   "cell_type": "markdown",
   "metadata": {
    "name": "Flowering your Pokémon Predictions, with Neural Networks",
    "type": "sigai_heading"
   },
   "source": [
    "# Intro to Neural Nets, featuring PyTorch\n",
    "---\n",
    "by: John Muchovej \\([@ionlights](github.com/ionlights/)\\), Chas Kane \\([@ChasKane](github.com/ChasKane/)\\), on 26 Sep 2018"
   ]
  },
  {
   "cell_type": "markdown",
   "metadata": {},
   "source": [
    "## Dependencies\n",
    "\n",
    "As with every lecture, we're loading up dependencies and configurations as well."
   ]
  },
  {
   "cell_type": "code",
   "execution_count": 1,
   "metadata": {},
   "outputs": [],
   "source": [
    "# lines with '%' in front are called \"Jupyter Magic Commands\"\n",
    "#   they effectively set certain properties of Jupyter Notebooks \n",
    "#   for you, and allow the Notebook to be more usable\n",
    "%matplotlib inline\n",
    "# this is for high-density displays, so that matplotlib doesn't\n",
    "#   render oversized plots on newer displays\n",
    "%config InlineBackend.figure_format = 'retina'\n",
    "\n",
    "# these two snippets allow for modules loaded from\n",
    "#     `import X` or `from X import Y`\n",
    "#   to be reloaded whenever the source file changes, without \n",
    "#   having to re-run the code cell\n",
    "%load_ext autoreload\n",
    "%autoreload 2"
   ]
  },
  {
   "cell_type": "markdown",
   "metadata": {},
   "source": [
    "---\n",
    "## The actual lecture\n",
    "\n",
    "We're going to load-up a model which has already been prepared for you. We'll train it, look at it's output, and then we'll peel back the layers to understand what's happening."
   ]
  },
  {
   "cell_type": "code",
   "execution_count": 2,
   "metadata": {},
   "outputs": [
    {
     "name": "stderr",
     "output_type": "stream",
     "text": [
      "/home/john/.conda/envs/sigai-fa18/lib/python3.6/importlib/_bootstrap.py:219: RuntimeWarning: numpy.dtype size changed, may indicate binary incompatibility. Expected 96, got 88\n",
      "  return f(*args, **kwds)\n"
     ]
    }
   ],
   "source": [
    "from mnist_model import MnistModel\n",
    "model = MnistModel()\n",
    "model.prepare()"
   ]
  },
  {
   "cell_type": "markdown",
   "metadata": {},
   "source": [
    "**What just happened here?**\n",
    "1. We loaded in a magical class, called `MnistModel`.\n",
    "1. Ran some `MnistModel.prepare()` function (and saw something download).\n",
    "\n",
    "We'll get to what `MnistModel` consists of in a bit. In the mean time, `prepare` just grabs the MNIST dataset (handwritten digits from 0-9) and sets it up so that the `MnistModel` can access it."
   ]
  },
  {
   "cell_type": "code",
   "execution_count": 3,
   "metadata": {
    "scrolled": false
   },
   "outputs": [
    {
     "data": {
      "image/png": "[encoded data removed]",
      "text/plain": [
       "<Figure size 432x648 with 2 Axes>"
      ]
     },
     "metadata": {
      "image/png": {
       "height": 224,
       "width": 423
      },
      "needs_background": "light"
     },
     "output_type": "display_data"
    }
   ],
   "source": [
    "model.test()"
   ]
  },
  {
   "cell_type": "markdown",
   "metadata": {},
   "source": [
    "`MnistModel.test()` grabs a random image from our dataset, then hands it off to the Neural Network to classify as one of 10 digits \\[0-9\\]. As you can see, it has no idea what it's doing."
   ]
  },
  {
   "cell_type": "markdown",
   "metadata": {},
   "source": [
    "**What's classification?**\n",
    "\n",
    "Oh, right; so, Neural Networks are class of algorithms which are really well suited to two tasks.\n",
    "1. Classification – imagine you have a bunch of images and want to sort them into boxes, each box is a \"class\" that an image belongs to. Putting an image into a box is \"classification.\"\n",
    "2. Regression – Snapchat filters do something similar, they take images of your face, do some fancy stuff, and eventually return coordinates for the filter to map onto your face. This last bit is regression – it's taking an input and outputting real-valued data, like coordinate pairs."
   ]
  },
  {
   "cell_type": "markdown",
   "metadata": {},
   "source": [
    "---\n",
    "### Training the model\n",
    "\n",
    "Let's train the model, this shouldn't take more than 5-10 minutes, on a processor made in the last 3 years. It'll use your graphics card if you have one, but no worries if you don't. :) (We'll dissect this in a bit.)"
   ]
  },
  {
   "cell_type": "code",
   "execution_count": 4,
   "metadata": {
    "scrolled": false
   },
   "outputs": [
    {
     "data": {
      "application/vnd.jupyter.widget-view+json": {
       "model_id": "1f341feee52b4aa3867f5a074880c0c2",
       "version_major": 2,
       "version_minor": 0
      },
      "text/plain": [
       "HBox(children=(IntProgress(value=0, max=10), HTML(value='')))"
      ]
     },
     "metadata": {},
     "output_type": "display_data"
    },
    {
     "name": "stdout",
     "output_type": "stream",
     "text": [
      "Epoch:  1, Average Loss: 0.695, Accuracy: 0.921\n",
      "Epoch:  2, Average Loss: 0.230, Accuracy: 0.946\n",
      "Epoch:  3, Average Loss: 0.155, Accuracy: 0.960\n",
      "Epoch:  4, Average Loss: 0.117, Accuracy: 0.964\n",
      "Epoch:  5, Average Loss: 0.092, Accuracy: 0.969\n",
      "Epoch:  6, Average Loss: 0.075, Accuracy: 0.973\n",
      "Epoch:  7, Average Loss: 0.064, Accuracy: 0.968\n",
      "Epoch:  8, Average Loss: 0.055, Accuracy: 0.975\n",
      "Epoch:  9, Average Loss: 0.045, Accuracy: 0.973\n",
      "Epoch: 10, Average Loss: 0.040, Accuracy: 0.973\n",
      "\n"
     ]
    }
   ],
   "source": [
    "model.fit()"
   ]
  },
  {
   "cell_type": "markdown",
   "metadata": {},
   "source": [
    "So, you just saw this run for 10 epochs, and there were a few numbers that just plopped out. We'll consider what those numbers mean a bit later on. Run the next code cell to see how the network does on a random image from the dataset."
   ]
  },
  {
   "cell_type": "code",
   "execution_count": 5,
   "metadata": {},
   "outputs": [
    {
     "data": {
      "image/png": "[encoded data removed]",
      "text/plain": [
       "<Figure size 432x648 with 2 Axes>"
      ]
     },
     "metadata": {
      "image/png": {
       "height": 224,
       "width": 423
      },
      "needs_background": "light"
     },
     "output_type": "display_data"
    }
   ],
   "source": [
    "model.test()"
   ]
  },
  {
   "cell_type": "markdown",
   "metadata": {},
   "source": [
    "WHOA. That looks a LOT better. Now we're getting pretty close to 100% certainty on what class the image falls in to. :D"
   ]
  },
  {
   "cell_type": "markdown",
   "metadata": {},
   "source": [
    "---\n",
    "### Let's break this down\n",
    "\n",
    "As it shows in the `model.fit()` snippet; there were 10 epochs. One **epoch** corresponds to *one* loop through our entire dataset. So what's our dataset, you might ask?\n",
    "\n",
    "Well, let's take a look."
   ]
  },
  {
   "cell_type": "code",
   "execution_count": 6,
   "metadata": {},
   "outputs": [
    {
     "data": {
      "text/plain": [
       "60000"
      ]
     },
     "execution_count": 6,
     "metadata": {},
     "output_type": "execute_result"
    }
   ],
   "source": [
    "len(model.loader_train.dataset)"
   ]
  },
  {
   "cell_type": "markdown",
   "metadata": {},
   "source": [
    "That's 60,000 images :astonished:, all handwritten digits from \\[0-9\\]. These digits form what's called our training set – that's what that progress bar above was, too. Neural Networks, like most machine learning algorithms, need to be trained on data, only then can they make predictions.\n",
    "\n",
    "There's another dataset, too; it's the testing dataset. These are where the two images that have been shown with `model.test()` came from – they're also how the graph (\"Average Accuracy, per Epoch\") was generated*.\n",
    "\n",
    "\\* If you run the code two cells below, you'll see the plot being referred to."
   ]
  },
  {
   "cell_type": "code",
   "execution_count": 7,
   "metadata": {},
   "outputs": [
    {
     "data": {
      "text/plain": [
       "10000"
      ]
     },
     "execution_count": 7,
     "metadata": {},
     "output_type": "execute_result"
    }
   ],
   "source": [
    "len(model.loader_test.dataset)"
   ]
  },
  {
   "cell_type": "markdown",
   "metadata": {},
   "source": [
    "The testing dataset only has 10,000 images. It's quite the norm to have a smaller testing set than training set, simply because Neural Networks chew through quite a bit of data, quite a few times, before they get a handle on their goals. This makes having a large training set more important than having a large testing set."
   ]
  },
  {
   "cell_type": "code",
   "execution_count": 8,
   "metadata": {
    "scrolled": true
   },
   "outputs": [
    {
     "data": {
      "image/png": "[encoded data removed]",
      "text/plain": [
       "<Figure size 864x288 with 2 Axes>"
      ]
     },
     "metadata": {
      "image/png": {
       "height": 279,
       "width": 856
      }
     },
     "output_type": "display_data"
    }
   ],
   "source": [
    "model.plot()"
   ]
  },
  {
   "cell_type": "markdown",
   "metadata": {},
   "source": [
    "**So what do these graphs mean?**\n",
    "\n",
    "Well, the first (\"Average Loss, per Epoch\") is a graph of loss over the course of training. **Loss** is the feedback that a Neural Network receives; this feedback is then used to \"learn from it's mistakes\" – this is akin to a professor giving a multiple choice exam, marking the questions you got wrong while telling you what the correct answer is, then using this new information to move closer to getting a perfect score (while having to take different tests every time). Sounds complex, right? (No worries, we'll break it down in a bit.) **NOTE:** A loss of `0.5234` doesn't mean we got `0.4766` solutions correct, this value can go well above `1`.\n",
    "\n",
    "As for the second... (\"Average Accuracy, per Epoch\"), this takes the network at the end of each epoch and tests it on the test dataset (`model.loader_test.dataset` from earlier). Initially, we start in the low 90s, and eventually move up to right around `97%` accuracy! :smiley: For a first Neural Network, that's a pretty great attempt.\n",
    "\n",
    "But now, time to move away from just running cells and actually understand what's going on inside this network."
   ]
  },
  {
   "cell_type": "markdown",
   "metadata": {},
   "source": [
    "---\n",
    "### Breaking into the network\n",
    "\n",
    "Beware, **_math_** follows. (Don't fret, it's pretty straightfoward, and it'll be well explained. If you still find it difficult, just ping #halp on Slack, and someone will come to your rescue.)\n",
    "\n",
    "Before diving into math, though, let's take a look at information flow.\n",
    "\n",
    "When you run the cell below, try to have the text below it in view – this will walk you through interacting with this `IFrame`. (It may require use of a phone, or another window, sorry! :confused:)"
   ]
  },
  {
   "cell_type": "code",
   "execution_count": 9,
   "metadata": {},
   "outputs": [
    {
     "data": {
      "text/html": [
       "\n",
       "        <iframe\n",
       "            width=\"732\"\n",
       "            height=\"538\"\n",
       "            src=\"assets/fwd.html\"\n",
       "            frameborder=\"0\"\n",
       "            allowfullscreen\n",
       "        ></iframe>\n",
       "        "
      ],
      "text/plain": [
       "<IPython.lib.display.IFrame at 0x7f9dfc0e9400>"
      ]
     },
     "execution_count": 9,
     "metadata": {},
     "output_type": "execute_result"
    }
   ],
   "source": [
    "from IPython.display import IFrame\n",
    "import math\n",
    "NN_SVG_W = 732\n",
    "NN_SVG_H = math.ceil(NN_SVG_W * 0.7076502732) + 20\n",
    "IFrame(\"assets/fwd.html\", width=NN_SVG_W, height=NN_SVG_H)"
   ]
  },
  {
   "cell_type": "markdown",
   "metadata": {},
   "source": [
    "Alright, this is a Neural Network (you might also see this called a \"Fully Connected Network\" – \"FCN\" or \"Feedforward Neural Network\" – \"FFNN\"). \n",
    "\n",
    "1. Looking at the first column (from the left), click on one of the `x`s. What's just been selected is called a `Layer` in Neural Networks. Within each `Layer`, you'll also find many `Unit`s.\n",
    "1. If you now click in the white-space between the first two layers, you'll see a mass of grey-ish lines link up with all the `Unit`s in the next `Layer`. These grey-ish lines are called `Weights`, and they are what the network trains to be able to do things, like classify the digits we saw earlier.\n",
    "1. If you repeat the process:\n",
    "   - click on one of the `Unit`s in a `Layer` followed by...\n",
    "   - click on the white-space between `Layer`s, you'll see that this same idea propagates through the network."
   ]
  },
  {
   "cell_type": "markdown",
   "metadata": {},
   "source": [
    "So, to clear up some confusion, let's introduce some notation:\n",
    "1. The left-most `Layer`, let's call it the \"Input Layer\" and represent is with a vector (named: $\\vec{x}$).\n",
    "1. The first `Layer` with the \"h\"s, let's call that the \"**First** Hidden Layer\" and represent that as a vector (named: $\\vec{h}_1$).\n",
    "1. The second `Layer` with the \"h\"s, let's call it the \"**Second** Hidden Layer\" and represent it as a vector (named: $\\vec{h}_2$).\n",
    "1. The last `Layer`, the one with \"o\"s, let's call it the \"Output Layer\" and represent it with a vector (named: $\\vec{o}$).\n",
    "\n",
    "\n",
    "- **Whoa! What's a vector?!** Oh, right; just think of it like an array in Python. :smiley:\n",
    "- **Why do we need vectors?** You'll see. :smiley: They also make life simpler when we want to perform operations on an entire `Layer`s and `Weights`.\n",
    "\n",
    "Now, let's think about the `Weights` connecting each layer to the next. To avoid deviating from notation you'll see in research, we'll only refer to weights as $W$, and rely on context to know **_which_** set of weights we're talking about."
   ]
  },
  {
   "cell_type": "markdown",
   "metadata": {},
   "source": [
    "**Talking about the `Input Layer` ($\\vec{x}$)**\n",
    "\n",
    "Our images in the MNIST dataset are 28x28 pixels. We have a slight problem if we want to represent these images in a way the Neural Network can consume, though. Recall from the last block of text that we have an \"Input Layer\" ($\\vec{x}$), this is how we feed in our images.\n",
    "\n",
    "This is how we might represent an image of a 6 in memory, but this takes the form of a matrix (a 2D array).\n",
    "\n",
    "<center>\n",
    "    <img src=\"https://mmlind.github.io/images/mnist-image.svg\" />\n",
    "    <small>Image credit: <A href=\"https://mmlind.github.io/images/mnist-image.svg\">https://mmlind.github.io/images/mnist-image.svg</a></small>\n",
    "</center>\n",
    "\n",
    "So, instead of trying to pass this in, we'll flatten this image. You might observe that if we flatten this image, we'll loose a lot of spacial information because each row will just be appended to a single vector (a 1D array).\n",
    "\n",
    "This is something we'll expand on in the CNN lecture next week.\n",
    "\n",
    "But, now that we have a flattened image in our \"Input Layer\" ($\\vec{x}$), we can set up it's weight matrix to pass it through to $\\vec{h_1}$.\n",
    "\n",
    "**Before we hop into the math surrounding $\\vec{x} \\rightarrow \\vec{h_1}$, let's figure out what `Weights` do**\n",
    "\n",
    "So, `Weights` were the lines connecting one layer to the next – in the animation above. In FCNs (Fully Connect Networks), each weight modifies a copy of the input by some amount and passes it on to the node in the next layer it's connected to.\n",
    "\n",
    "Let's display the figure again, then talk about it more mathematically."
   ]
  },
  {
   "cell_type": "code",
   "execution_count": 10,
   "metadata": {},
   "outputs": [
    {
     "data": {
      "text/html": [
       "\n",
       "        <iframe\n",
       "            width=\"732\"\n",
       "            height=\"538\"\n",
       "            src=\"assets/fwd.html\"\n",
       "            frameborder=\"0\"\n",
       "            allowfullscreen\n",
       "        ></iframe>\n",
       "        "
      ],
      "text/plain": [
       "<IPython.lib.display.IFrame at 0x7f9dfc9f5748>"
      ]
     },
     "execution_count": 10,
     "metadata": {},
     "output_type": "execute_result"
    }
   ],
   "source": [
    "IFrame(\"assets/fwd.html\", width=NN_SVG_W, height=NN_SVG_H)"
   ]
  },
  {
   "cell_type": "markdown",
   "metadata": {},
   "source": [
    "We can think of the input to $h_{1,1}$ ($h_1$'s top node) as... $x_1 \\cdot w_{1,1} + x_2 \\cdot w_{2,1} + x_3 \\cdot w_{3,1}$. \n",
    "\n",
    "$x_n$ just refers to the node in $\\vec{x}$ (the \"Input Layer\"), while $w_{nm}$ refers to the weight from $x_n$ going to $h_{1,m}$ (which in our case, is $h_1$).\n",
    "\n",
    "More concretely:\n",
    "\n",
    "$h_{1,1} = x_1 \\cdot w_{1,1} + x_2 \\cdot w_{2,1} + x_3 \\cdot w_{3,1}$\n",
    "\n",
    "$h_{1,2} = x_1 \\cdot w_{1,2} + x_2 \\cdot w_{2,2} + x_3 \\cdot w_{3,2}$\n",
    "\n",
    "$h_{1,3} = x_1 \\cdot w_{1,3} + x_2 \\cdot w_{2,3} + x_3 \\cdot w_{3,3}$\n",
    "\n",
    "$h_{1,4} = x_1 \\cdot w_{1,4} + x_2 \\cdot w_{2,4} + x_3 \\cdot w_{3,4}$\n",
    "\n",
    "Do you see a pattern here? (Hint: think of each operation in terms of the columns!)\n",
    "\n",
    "If we do some `%%latex` magic..."
   ]
  },
  {
   "cell_type": "code",
   "execution_count": 11,
   "metadata": {},
   "outputs": [
    {
     "data": {
      "text/latex": [
       "\\begin{align*}\n",
       "    \\begin{bmatrix} h_{1,1} \\\\ h_{1,2} \\\\ h_{1,3} \\\\ h_{1,4} \\\\ \\end{bmatrix} = \n",
       "    x_{1} \\cdot \\begin{bmatrix} w_{1,1} \\\\ w_{1,2} \\\\ w_{1,3} \\\\ w_{1,4} \\\\ \\end{bmatrix} +\n",
       "    x_{2} \\cdot \\begin{bmatrix} w_{2,1} \\\\ w_{2,2} \\\\ w_{2,3} \\\\ w_{2,4} \\\\ \\end{bmatrix} +\n",
       "    x_{3} \\cdot \\begin{bmatrix} w_{1,1} \\\\ w_{1,2} \\\\ w_{1,3} \\\\ w_{1,4} \\\\ \\end{bmatrix}\n",
       "\\end{align*}"
      ],
      "text/plain": [
       "<IPython.core.display.Latex object>"
      ]
     },
     "metadata": {},
     "output_type": "display_data"
    }
   ],
   "source": [
    "%%latex\n",
    "\\begin{align*}\n",
    "    \\begin{bmatrix} h_{1,1} \\\\ h_{1,2} \\\\ h_{1,3} \\\\ h_{1,4} \\\\ \\end{bmatrix} = \n",
    "    x_{1} \\cdot \\begin{bmatrix} w_{1,1} \\\\ w_{1,2} \\\\ w_{1,3} \\\\ w_{1,4} \\\\ \\end{bmatrix} +\n",
    "    x_{2} \\cdot \\begin{bmatrix} w_{2,1} \\\\ w_{2,2} \\\\ w_{2,3} \\\\ w_{2,4} \\\\ \\end{bmatrix} +\n",
    "    x_{3} \\cdot \\begin{bmatrix} w_{1,1} \\\\ w_{1,2} \\\\ w_{1,3} \\\\ w_{1,4} \\\\ \\end{bmatrix}\n",
    "\\end{align*}"
   ]
  },
  {
   "cell_type": "markdown",
   "metadata": {},
   "source": [
    "We get, this! \n",
    "\n",
    "An observation that may not be immediately obvious is that we can represent sets of vectors as a matrix. There's a computational efficiency reason behind using matrix-vector dot products (which I shan't cover), but doing this preserves our ability to apply activations and backprop! :D"
   ]
  },
  {
   "cell_type": "code",
   "execution_count": 12,
   "metadata": {
    "scrolled": true
   },
   "outputs": [
    {
     "data": {
      "text/latex": [
       "\\begin{align*}\n",
       "    \\begin{bmatrix} h_{1,1} \\\\ h_{1,2} \\\\ h_{1,3} \\\\ h_{1,4} \\\\ \\end{bmatrix} = \n",
       "    \\begin{bmatrix} \n",
       "        w_{1,1} \\quad w_{2,1} \\quad w_{3,1} \\\\\n",
       "        w_{1,2} \\quad w_{2,2} \\quad w_{3,2} \\\\\n",
       "        w_{1,3} \\quad w_{2,3} \\quad w_{3,3} \\\\\n",
       "        w_{1,4} \\quad w_{2,4} \\quad w_{3,4} \\\\\n",
       "    \\end{bmatrix} \\cdot\n",
       "    \\begin{bmatrix} x_{1} \\\\ x_{2} \\\\ x_{3} \\\\ \\end{bmatrix}\n",
       "\\end{align*}"
      ],
      "text/plain": [
       "<IPython.core.display.Latex object>"
      ]
     },
     "metadata": {},
     "output_type": "display_data"
    }
   ],
   "source": [
    "%%latex\n",
    "\\begin{align*}\n",
    "    \\begin{bmatrix} h_{1,1} \\\\ h_{1,2} \\\\ h_{1,3} \\\\ h_{1,4} \\\\ \\end{bmatrix} = \n",
    "    \\begin{bmatrix} \n",
    "        w_{1,1} \\quad w_{2,1} \\quad w_{3,1} \\\\\n",
    "        w_{1,2} \\quad w_{2,2} \\quad w_{3,2} \\\\\n",
    "        w_{1,3} \\quad w_{2,3} \\quad w_{3,3} \\\\\n",
    "        w_{1,4} \\quad w_{2,4} \\quad w_{3,4} \\\\\n",
    "    \\end{bmatrix} \\cdot\n",
    "    \\begin{bmatrix} x_{1} \\\\ x_{2} \\\\ x_{3} \\\\ \\end{bmatrix}\n",
    "\\end{align*}"
   ]
  },
  {
   "cell_type": "markdown",
   "metadata": {},
   "source": [
    "Here's what the dot-product looks like, in terms of math. What you end up getting out is a vector, which corresponds to $h_1$ (in this case). We can then apply some activation function (that's the next thing we'll talk about)."
   ]
  },
  {
   "cell_type": "code",
   "execution_count": 13,
   "metadata": {},
   "outputs": [
    {
     "name": "stdout",
     "output_type": "stream",
     "text": [
      "    def forward(self, x):\r\n",
      "        \r\n",
      "        x = torch.sigmoid(self.x_(x))\r\n",
      "        \r\n",
      "        x = torch.sigmoid(self.h1(x))\r\n",
      "        \r\n",
      "        x = torch.sigmoid(self.h2(x))\r\n",
      "        \r\n",
      "        x = F.log_softmax(self.o_(x), dim=1)\r\n",
      "        \r\n",
      "        return x\r\n"
     ]
    }
   ],
   "source": [
    "!head -n 52 mnist_model.py | tail -n 11"
   ]
  },
  {
   "cell_type": "markdown",
   "metadata": {},
   "source": [
    "Above is a really crude way to look at the source code. BUT... we can see a few things:\n",
    "1. There are references to `self.x_`, `self.h1`, `self.h2`, `self.o_` – these are the layers (will output in next code cell)\n",
    "2. There's some `torch.`**`sigmoid`** function\n",
    "3. There's some `F.`**`log_softmax`** function"
   ]
  },
  {
   "cell_type": "code",
   "execution_count": 14,
   "metadata": {},
   "outputs": [
    {
     "name": "stdout",
     "output_type": "stream",
     "text": [
      "MnistModel(\n",
      "  (x_): Linear(in_features=784, out_features=512, bias=True)\n",
      "  (h1): Linear(in_features=512, out_features=256, bias=True)\n",
      "  (h2): Linear(in_features=256, out_features=128, bias=True)\n",
      "  (o_): Linear(in_features=128, out_features=10, bias=True)\n",
      "  (criterion): NLLLoss()\n",
      ")\n"
     ]
    }
   ],
   "source": [
    "print(model)"
   ]
  },
  {
   "cell_type": "markdown",
   "metadata": {},
   "source": [
    "We won't talk much about `softmax` (or `log_softmax`) today. However, this and `sigmoid` are called \"activation functions.\" Without going to deep into the history of Neural Nets / Multi-Layer Perceptrons (see the Appendix), we learned that the neurons in the pile of mush reading this will accumulate some input and, eventually, fire with some magnitude (e.g. the neuron may fire strongly, or could fire weakly).\n",
    "\n",
    "To mimic this, we use activation functions – so **all** `Unit`s fire, but they fire with different magnitudes. \n",
    "\n",
    "For instance, with a `sigmoid` function..."
   ]
  },
  {
   "cell_type": "code",
   "execution_count": 15,
   "metadata": {},
   "outputs": [],
   "source": [
    "import torch"
   ]
  },
  {
   "cell_type": "code",
   "execution_count": 16,
   "metadata": {},
   "outputs": [
    {
     "data": {
      "text/plain": [
       "tensor([1.])"
      ]
     },
     "execution_count": 16,
     "metadata": {},
     "output_type": "execute_result"
    }
   ],
   "source": [
    "torch.sigmoid(torch.Tensor([340427593085348]))"
   ]
  },
  {
   "cell_type": "code",
   "execution_count": 17,
   "metadata": {},
   "outputs": [
    {
     "data": {
      "text/plain": [
       "tensor([0.7311])"
      ]
     },
     "execution_count": 17,
     "metadata": {},
     "output_type": "execute_result"
    }
   ],
   "source": [
    "torch.sigmoid(torch.Tensor([1]))"
   ]
  },
  {
   "cell_type": "code",
   "execution_count": 18,
   "metadata": {},
   "outputs": [
    {
     "data": {
      "text/plain": [
       "tensor([0.5000])"
      ]
     },
     "execution_count": 18,
     "metadata": {},
     "output_type": "execute_result"
    }
   ],
   "source": [
    "torch.sigmoid(torch.Tensor([0]))"
   ]
  },
  {
   "cell_type": "code",
   "execution_count": 19,
   "metadata": {},
   "outputs": [
    {
     "data": {
      "text/plain": [
       "tensor([0.2689])"
      ]
     },
     "execution_count": 19,
     "metadata": {},
     "output_type": "execute_result"
    }
   ],
   "source": [
    "torch.sigmoid(torch.Tensor([-1]))"
   ]
  },
  {
   "cell_type": "code",
   "execution_count": 20,
   "metadata": {},
   "outputs": [
    {
     "data": {
      "text/plain": [
       "tensor([0.])"
      ]
     },
     "execution_count": 20,
     "metadata": {},
     "output_type": "execute_result"
    }
   ],
   "source": [
    "torch.sigmoid(torch.Tensor([-340427593085348]))"
   ]
  },
  {
   "cell_type": "markdown",
   "metadata": {},
   "source": [
    "As you can see, putting in different values gets us between `[0, 1]`, so our `Unit`s will fire with greater magnitudes when they have higher positive values, and very weakly with highly negative values.\n",
    "\n",
    "To give you a better idea, here's a better picture of a sigmoid function:\n",
    "\n",
    "<center>\n",
    "<img src=\"https://upload.wikimedia.org/wikipedia/commons/thumb/5/53/Sigmoid-function-2.svg/2000px-Sigmoid-function-2.svg.png\">\n",
    "<small>Image credit: <a href=\"https://upload.wikimedia.org/wikipedia/commons/thumb/5/53/Sigmoid-function-2.svg/2000px-Sigmoid-function-2.svg.png\">Wikipedia</a></small>\n",
    "</center>"
   ]
  },
  {
   "cell_type": "markdown",
   "metadata": {},
   "source": [
    "For more info on activation functions, take a gander at the Appendix. The important things to remeber is that activation functions normally modify the next layer's  and they're crucial in giving us a means by which the Neural Network can learn."
   ]
  },
  {
   "cell_type": "markdown",
   "metadata": {},
   "source": [
    "**To summarize:**\n",
    "\n",
    "Neural Networks are composed of `Layers` and `Weights`, which connect the layers together (in a one-way fashion). We can represent `Layers` as vectors and `Weights` as matrices; this allows us to do some cool mathematical tricks to speed up computation and more concisely represent them.\n",
    "\n",
    "Once we've calculate the dot-product on `Weights` $\\cdot$ `Layer`, we get another vector which we can then apply an `Activation Function` to. This `Activation Function` serves two purposes – it allows each `Unit` in the next layer to \"fire\" with some compressed value, rather than just passing along it's raw input, **AND** it lets us perform the learning step (more on this in a bit)."
   ]
  },
  {
   "cell_type": "markdown",
   "metadata": {},
   "source": [
    "---\n",
    "## How data flows *back* through the network\n",
    "\n",
    "We just covered the first of a \"two-step process\" in Neural Networks. First, out input flows through the network, and we get some output. Then we're told how poorly it did, and that difference (between our guess and the right answer) is then used to update all the weights in the network.\n",
    "\n",
    "This second step (getting the difference and updating the weights) is called backpropagation (or backprop, for short)."
   ]
  },
  {
   "cell_type": "markdown",
   "metadata": {},
   "source": [
    "Before we take a look at the network ready to go, below, let's recap on some annotation to for familiarity.\n",
    "1. The left-most `Layer`, it's called the \"Input Layer\" and is represented by the vector $\\vec{x}$.\n",
    "1. The first `Layer` with the \"h\"s is called the \"**First** Hidden Layer\" and is represented with the vector $\\vec{h}_1$.\n",
    "1. The second `Layer` with the \"h\"s, is called the \"**Second** Hidden Layer\" and we represent it by the vector $\\vec{h}_2$.\n",
    "1. The last `Layer`, the one with \"o\"s, is called the \"Output Layer\" and it's represented by vector $\\vec{o}$."
   ]
  },
  {
   "cell_type": "code",
   "execution_count": 21,
   "metadata": {
    "scrolled": false
   },
   "outputs": [
    {
     "data": {
      "text/html": [
       "\n",
       "        <iframe\n",
       "            width=\"732\"\n",
       "            height=\"538\"\n",
       "            src=\"assets/bkp.html\"\n",
       "            frameborder=\"0\"\n",
       "            allowfullscreen\n",
       "        ></iframe>\n",
       "        "
      ],
      "text/plain": [
       "<IPython.lib.display.IFrame at 0x7f9dfc177630>"
      ]
     },
     "execution_count": 21,
     "metadata": {},
     "output_type": "execute_result"
    }
   ],
   "source": [
    "IFrame(\"assets/bkp.html\", width=NN_SVG_W, height=NN_SVG_H)"
   ]
  },
  {
   "cell_type": "markdown",
   "metadata": {},
   "source": [
    "This is the ending state of the FCN diagram you saw earlier. \n",
    "\n",
    "1. Looking at the last column, the \"Output Layer\" ($\\vec{o}$), click one of its `Unit`s.\n",
    "1. Now, click in the space between $\\vec{o}$ and $\\vec{h_2}$, and you should see the weights go from grey-ish to red.\n",
    "1. You'll be able to repreat the process on all the preceeding layers, just:\n",
    "   - click on one of the `Unit`s in a `Layer` followed by...\n",
    "   - click on the white-space between `Layer`s, you'll see that this same idea propagate through the network.\n",
    "   \n",
    "What the reverse flow means, though, is distributing the error from the `Layer` to its preceeding layer, so...\n",
    "- $\\vec{h_2} \\leftarrow \\vec{o}$\n",
    "- $\\vec{h_1} \\leftarrow \\vec{h_2}$\n",
    "- $\\vec{x} \\leftarrow \\vec{h_1}$\n",
    "\n",
    "In the forward propagation, we took values from the `Unit`s in each layer, multiplied them by some weights, and summed them in the `Unit`s of the next layer, right? (Hint: you should be nodding yes.) :stuck_out_tongue: (If not, keep reading, then give this another read-through!)\n",
    "\n",
    "Now, we'll do the reverse! So... $\\vec{o}$ has some values corresponding to the error of each `Unit` in the \"Output Layer.\" So we'll ignore some calculus that happens then distribute the error across the weights back to the `Unit`s in the preceeding layer (so from \"Output Layer\" to \"Second Hidden Layer\" or $\\vec{o} \\rightarrow \\vec{h_2}$). At each `Unit` in $\\vec{h_2}$, we'll sum the errors from the `Unit`s in $\\vec{o}$, and then pass those errors back, repeating this process until we get to the \"Input Layer\"!"
   ]
  },
  {
   "cell_type": "markdown",
   "metadata": {},
   "source": [
    "### What's an error function?\n",
    "\n",
    "Oh, right. LOL. So, an error function is a way to measure the difference between your guesses and the correct answer – hence the requirement of labeled data. It's what informs the value that gets pushed back from $\\vec{o}$ to the preceeding hidden layers."
   ]
  },
  {
   "cell_type": "markdown",
   "metadata": {},
   "source": [
    "### What's a softmax?\n",
    "\n",
    "Most activation functions don't yield results which sum to 1; this is important becase if we want to say, \"with X% likelihood, this image is a 4\" – we need all the values to sum to 1, as only then will we have \"probabilities.\"\n",
    "\n",
    "Softmax will take the outcomes and normalize them so that we have a final outcome which sums to 1, making it acceptable to state \"with X% likelihood, this image is a 6\" whereas before we couldn't."
   ]
  },
  {
   "cell_type": "markdown",
   "metadata": {},
   "source": [
    "## Activation functions\n",
    "https://rasbt.github.io/mlxtend/user_guide/general_concepts/activation-functions_files/activation-functions.png\n",
    "\n",
    "https://medium.com/the-theory-of-everything/understanding-activation-functions-in-neural-networks-9491262884e0"
   ]
  }
 ],
 "metadata": {
  "kernelspec": {
   "display_name": "Python 3",
   "language": "python",
   "name": "python3"
  },
  "language_info": {
   "codemirror_mode": {
    "name": "ipython",
    "version": 3
   },
   "file_extension": ".py",
   "mimetype": "text/x-python",
   "name": "python",
   "nbconvert_exporter": "python",
   "pygments_lexer": "ipython3",
   "version": "3.6.5"
  },
  "sigai": {
   "authors": [
    {
     "github": "ionlights",
     "name": "John Muchovej"
    },
    {
     "github": "ChasKane",
     "name": "Chas Kane"
    }
   ],
   "date": "2018-09-26",
   "description": "With some basic ideas in mind about how one might tackle a task, we'll now go and explore a Tensor framework (PyTorch) and build a Neural Network that can accurately predict XXXX from our dataset.",
   "title": "Flowering your Pokémon Predictions, with Neural Networks",
   "unit": {
    "name": "neural-nets",
    "number": 1
   }
  }
 },
 "nbformat": 4,
 "nbformat_minor": 2
}
