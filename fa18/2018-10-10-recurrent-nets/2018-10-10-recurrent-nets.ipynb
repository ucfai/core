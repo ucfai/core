{
 "cells": [
  {
   "cell_type": "markdown",
   "metadata": {
    "type": "signup-banner"
   },
   "source": [
    "<img style=\"border-radius: 0.5rem;\" src=\"banner.jpg\" />\n",
    "<a style=\"margin-top: 1rem;\" class=\"btn btn-lg btn-block btn-success\" href=\"https://dsg.ucfsigai.org/fa18/signin/\">\n",
    "    Sign in (https://dsg.ucfsigai.org/fa18/signin/)\n",
    "</a>"
   ]
  },
  {
   "cell_type": "markdown",
   "metadata": {
    "name": "Machines That Write Papers for You",
    "type": "sigai_heading"
   },
   "source": [
    "# Machines That Write Papers for You\n",
    "---\n",
    "by: John Muchovej \\([@ionlights](github.com/ionlights/)\\), on 10 Oct 2018"
   ]
  },
  {
   "cell_type": "code",
   "execution_count": null,
   "metadata": {
    "type": "dataloader"
   },
   "outputs": [],
   "source": [
    "def dataset(path):\n",
    "    import os\n",
    "    from pathlib import Path\n",
    "    datadir = Path(os.environ[\"DATA_DIR\"])\n",
    "    return Path(datadir.joinpath(path))"
   ]
  }
 ],
 "metadata": {
  "sigai": {
   "authors": [
    {
     "github": "ionlights",
     "name": "John Muchovej"
    }
   ],
   "date": "2018-10-10",
   "description": "",
   "title": "Machines That Write Papers for You",
   "unit": {
    "name": "neural-nets",
    "number": 1
   }
  }
 },
 "nbformat": 4,
 "nbformat_minor": 2
}
