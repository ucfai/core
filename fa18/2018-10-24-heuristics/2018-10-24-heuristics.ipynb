{
 "cells": [
  {
   "cell_type": "markdown",
   "metadata": {
    "type": "signup-banner"
   },
   "source": [
    "<img style=\"border-radius: 0.5rem;\" src=\"banner.jpg\" />\n",
    "<a style=\"margin-top: 1rem;\" class=\"btn btn-lg btn-block btn-success\" href=\"https://dsg.ucfsigai.org/fa18/signin/\">\n",
    "    Sign in (https://dsg.ucfsigai.org/fa18/signin/)\n",
    "</a>"
   ]
  },
  {
   "cell_type": "markdown",
   "metadata": {
    "name": "Solving the Computationally Impossible with Heuristics",
    "type": "sigai_heading"
   },
   "source": [
    "# Solving the Computationally Impossible with Heuristics\n",
    "---\n",
    "by: Evan Waldmann \\([@Waldmannly](github.com/Waldmannly/)\\), on 10 Oct 2018"
   ]
  },
  {
   "cell_type": "code",
   "execution_count": null,
   "metadata": {
    "type": "dataloader"
   },
   "outputs": [],
   "source": [
    "def dataset(path):\n",
    "    import os\n",
    "    from pathlib import Path\n",
    "    datadir = Path(os.environ[\"DATA_DIR\"])\n",
    "    return Path(datadir.joinpath(path))"
   ]
  }
 ],
 "metadata": {
  "sigai": {
   "authors": [
    {
     "github": "Waldmannly",
     "name": "Evan Waldmann"
    }
   ],
   "date": "2018-10-24",
   "description": "",
   "title": "Solving the Computationally Impossible with Heuristics",
   "unit": {
    "name": "alt-methods",
    "number": 2
   }
  }
 },
 "nbformat": 4,
 "nbformat_minor": 2
}
