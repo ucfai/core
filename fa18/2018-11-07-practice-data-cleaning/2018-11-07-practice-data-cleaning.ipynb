{
 "cells": [
  {
   "cell_type": "markdown",
   "metadata": {
    "name": "Practice Makes Permanent, but Data's Messy",
    "type": "sigai_heading"
   },
   "source": [
    "# Practice Makes Permanent, but Data's Messy\n",
    "---\n",
    "by: John Muchovej \\([@ionlights](github.com/ionlights/)\\), on 11 Nov 2018"
   ]
  }
 ],
 "metadata": {
  "sigai": {
   "authors": [
    {
     "github": "ionlights",
     "name": "John Muchovej"
    }
   ],
   "date": "2018-11-07",
   "description": "",
   "title": "Practice Makes Permanent, but Data's Messy",
   "unit": {
    "name": "implementation",
    "number": 3
   }
  }
 },
 "nbformat": 4,
 "nbformat_minor": 2
}
