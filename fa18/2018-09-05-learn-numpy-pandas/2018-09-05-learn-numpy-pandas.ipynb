{
 "cells": [
  {
   "cell_type": "markdown",
   "metadata": {
    "name": "Intro to Data Analysis with Pandas & Numpy",
    "type": "sigai_heading"
   },
   "source": [
    "# Intro to Data Analysis with Pandas & Numpy\n",
    "---\n",
    "by: John Muchovej \\([@ionlights](github.com/ionlights/)\\), on 09 Sep 2018"
   ]
  }
 ],
 "metadata": {
  "sigai": {
   "authors": [
    {
     "github": "ionlights",
     "name": "John Muchovej"
    }
   ],
   "date": "2018-09-05",
   "description": "Data is arguably more important than the algorithms we'll be learning this semester - and that data almost always needs to be curated and finagled to really develop an understanding of what the data is trying to tell you.",
   "title": "Intro to Data Analysis with Pandas & Numpy",
   "unit": {
    "name": "Basics",
    "number": 0
   }
  }
 },
 "nbformat": 4,
 "nbformat_minor": 2
}
