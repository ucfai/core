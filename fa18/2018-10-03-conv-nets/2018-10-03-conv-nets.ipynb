{
 "cells": [
  {
   "cell_type": "markdown",
   "metadata": {
    "type": "signup-banner"
   },
   "source": [
    "<img style=\"border-radius: 0.5rem;\" src=\"banner.jpg\" />\n",
    "<a style=\"margin-top: 1rem;\" class=\"btn btn-lg btn-block btn-success\" href=\"https://dsg.ucfsigai.org/fa18/signin/\">\n",
    "    Sign in (https://dsg.ucfsigai.org/fa18/signin/)\n",
    "</a>"
   ]
  },
  {
   "cell_type": "markdown",
   "metadata": {
    "name": "Convolutional Neural Networks",
    "type": "sigai_heading"
   },
   "source": [
    "# Convolutional Neural Networks\n",
    "---\n",
    "by: Richard DiBacco \\([@thedibaccle](github.com/thedibaccle/)\\), on 10 Oct 2018"
   ]
  },
  {
   "cell_type": "code",
   "execution_count": 1,
   "metadata": {
    "type": "dataloader"
   },
   "outputs": [],
   "source": [
    "def dataset(path):\n",
    "    import os\n",
    "    from pathlib import Path\n",
    "    datadir = Path(os.environ[\"DATA_DIR\"])\n",
    "    return Path(datadir.joinpath(path))"
   ]
  },
  {
   "cell_type": "code",
   "execution_count": null,
   "metadata": {},
   "outputs": [],
   "source": []
  }
 ],
 "metadata": {
  "kernelspec": {
   "display_name": "Python 3",
   "language": "python",
   "name": "python3"
  },
  "language_info": {
   "codemirror_mode": {
    "name": "ipython",
    "version": 3
   },
   "file_extension": ".py",
   "mimetype": "text/x-python",
   "name": "python",
   "nbconvert_exporter": "python",
   "pygments_lexer": "ipython3",
   "version": "3.6.5"
  },
  "sigai": {
   "authors": [
    {
     "github": "thedibaccle",
     "name": "Richard DiBacco"
    }
   ],
   "date": "2018-10-03",
   "description": "",
   "title": "Convolutional Neural Networks",
   "unit": {
    "name": "neural-nets",
    "number": 1
   }
  }
 },
 "nbformat": 4,
 "nbformat_minor": 2
}
