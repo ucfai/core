{
 "cells": [
  {
   "cell_type": "markdown",
   "metadata": {
    "type": "signup-banner"
   },
   "source": [
    "<img style=\"border-radius: 0.5rem;\" src=\"banner.jpg\" />\n",
    "<a style=\"margin-top: 1rem;\" class=\"btn btn-lg btn-block btn-success\" href=\"https://dsg.ucfsigai.org/fa18/signin/\">\n",
    "    Sign in (https://dsg.ucfsigai.org/fa18/signin/)\n",
    "</a>"
   ]
  },
  {
   "cell_type": "markdown",
   "metadata": {
    "name": "Welcome back! Featuring Plotting & Supercomputers",
    "type": "sigai_heading"
   },
   "source": [
    "# Welcome back! Featuring Plotting & Supercomputers\n",
    "---\n",
    "by: John Muchovej \\([@ionlights](github.com/ionlights/)\\), Evan Waldmann \\([@Waldmannly](github.com/Waldmannly/)\\), on 08 Aug 2018"
   ]
  },
  {
   "cell_type": "code",
   "execution_count": null,
   "metadata": {
    "type": "dataloader"
   },
   "outputs": [],
   "source": [
    "def dataset(path):\n",
    "    import os\n",
    "    from pathlib import Path\n",
    "    datadir = Path(os.environ[\"DATA_DIR\"])\n",
    "    return Path(datadir.joinpath(path))"
   ]
  },
  {
   "cell_type": "code",
   "execution_count": null,
   "metadata": {
    "type": "dataloader"
   },
   "outputs": [],
   "source": [
    "def dataset(path):\n",
    "    import os\n",
    "    from pathlib import Path\n",
    "    datadir = Path(os.environ[\"DATA_DIR\"])\n",
    "    return Path(datadir.joinpath(path))"
   ]
  },
  {
   "cell_type": "markdown",
   "metadata": {},
   "source": [
    "## Welcome to SIGAI"
   ]
  },
  {
   "cell_type": "markdown",
   "metadata": {},
   "source": [
    "### What is it?"
   ]
  },
  {
   "cell_type": "markdown",
   "metadata": {},
   "source": [
    "We're the AI club on campus. Focusing on both industry skills and getting involved in research, we're here to foster the next generation of AI researchers and engineers at UCF."
   ]
  },
  {
   "cell_type": "markdown",
   "metadata": {},
   "source": [
    "### Who are we?"
   ]
  },
  {
   "cell_type": "markdown",
   "metadata": {},
   "source": [
    "- John Muchovej\n",
    "- Chas Kane\n",
    "- Evan Waldmann\n",
    "- Aidan Lakshman\n",
    "- Richard DiBacco"
   ]
  },
  {
   "cell_type": "markdown",
   "metadata": {},
   "source": [
    "### Our goals:"
   ]
  },
  {
   "cell_type": "markdown",
   "metadata": {},
   "source": [
    "- Break away the ivory tower imposed around AI\n",
    "- Provide lecture-workshops in which you'll leave with skills you can immediately use\n",
    "- Cultivate an interest in many facets of artificial intelligence and machine learning\n",
    "- Form, and foster, a competitive data science team which participates in competitions and also works with local businesses and governments."
   ]
  },
  {
   "cell_type": "markdown",
   "metadata": {},
   "source": [
    "## The Master Plan (for Fall 2018)"
   ]
  },
  {
   "cell_type": "markdown",
   "metadata": {},
   "source": [
    "### Unit 0: Basics\n",
    "- Welcome Back! Featuring Plotting &amp; Supercomputers\n",
    "- Intro to Data Analysis with Pandas &amp; NumPy\n",
    "- Let Data Speak Using Regression &amp; Plots\n",
    "\n",
    "### Unit 1: Neural Networks\n",
    "- Neural Networks &amp; Inuition, Using PyTorch\n",
    "- De-convolving Neural Networks\n",
    "- Programming Dies, as Machines Learn to Code (Recurrent Neural Networks)\n",
    "- Generative Adversarial Networks // Variational AutoEncoders (TBD)\n",
    "\n",
    "### Unit 2: Time-Traveling\n",
    "- Heuristics\n",
    "- Decision Trees\n",
    "- Support Vector Machines\n",
    "\n",
    "### Unit 3: Applied\n",
    "- 2-4 workshops where we, as a group, tear apart datasets, applying what we've learned and share insights/conclusions drawn"
   ]
  },
  {
   "cell_type": "markdown",
   "metadata": {},
   "source": [
    "---"
   ]
  },
  {
   "cell_type": "markdown",
   "metadata": {},
   "source": [
    "## Accessing Newton"
   ]
  },
  {
   "cell_type": "markdown",
   "metadata": {},
   "source": [
    "Newton is the name of UCF's GPU cluster. It's where we'll conduct all our lectures, and you'll also have access to the cluster throughout the semester; although we strongly request that you contact John prior to running anything on your own through your `sigai.student` account."
   ]
  },
  {
   "cell_type": "markdown",
   "metadata": {},
   "source": [
    "### Getting Your Keys\n",
    "\n",
    "This section is to be spoken, only. Not present anywhere except the lecture room."
   ]
  },
  {
   "cell_type": "markdown",
   "metadata": {},
   "source": [
    "### With the Keys: MacOS / Linux First\n",
    "\n",
    "We'll be assuming you placed your keys in `~/Downloads` (your user's Downloads directory)."
   ]
  },
  {
   "cell_type": "markdown",
   "metadata": {},
   "source": [
    "1. `mkdir ~/.ssh/`\n",
    "1. `unzip Downloads/sigai.student<N>.zip`\n",
    "1. `cp Downloads/sigai.student<N>/sig* ~/.ssh/`\n",
    "1. `cat Downloads/sigai.student<N>/config >> ~/.ssh/config`\n",
    "1. `cat ~/.ssh/sigai.student<N>_pass.txt`\n",
    "Copy this into your clipboard, you'll need it in the next step!\n",
    "1. Open a Terminal, and try this: `ssh sigai.newton`\n",
    "1. You'll be prompted for the passphrase you copied to your clipboard earlier. Paste it and hit \"Enter\"\n",
    "\n",
    "If all went well, you'll be greeted with this:\n",
    "```\n",
    "+===================================================+\n",
    "| Welcome to the Newton HPC at the UCF Advanced     |\n",
    "| Research Computing Center.                        |\n",
    "|---------------------------------------------------|\n",
    "| Problems? Email:  <redated>                       |\n",
    "+===================================================+\n",
    "[sigai.student<N>@<redacted> ~]$\n",
    "```"
   ]
  },
  {
   "cell_type": "markdown",
   "metadata": {},
   "source": [
    "### With the Keys: Windows\n",
    "We'll be assuming you placed your keys in `~/Downloads` (your user's Downloads directory).\n",
    "\n",
    "1. Download [PuTTy](https://www.chiark.greenend.org.uk/~sgtatham/putty/latest.html) – use [ucfsigai.org/tools/putty](https://ucfsigai.org/tools/putty), also downlo\n",
    "1. Open `File Explorer` and unzip `sigai.student<N>.zip`\n",
    "1. Double-click `sigai.student<N>.ppk` &ndash; you'll be prompted for a passphrase, this is in `sigai.student<N>_pass.txt`, copy and paste into the prompt."
   ]
  },
  {
   "cell_type": "markdown",
   "metadata": {},
   "source": [
    "### Now that we're all logged in...\n",
    "1. `git clone https://github.com/ucfsigai/data-science`\n",
    "1. `cd data-sciennce/fa18`\n",
    "1. `./launch.sh`\n",
    "1. Follow the instructions printed out by `./launch.sh` and open `localhost:19972` on your browser.\n",
    "1. Navigate to `2018-08-29-welcome-back/2018-08-29-welcome-back.ipynb` and open it &ndash; you should find yourself in this very notebook!"
   ]
  },
  {
   "cell_type": "markdown",
   "metadata": {},
   "source": [
    "----"
   ]
  },
  {
   "cell_type": "code",
   "execution_count": null,
   "metadata": {},
   "outputs": [],
   "source": [
    "import os\n",
    "import pathlib\n",
    "data = pathlib.Path(\"/groups/course.sigai/data/fa18\")\n",
    "dataset = lambda x: pathlib.Path(x)"
   ]
  },
  {
   "cell_type": "markdown",
   "metadata": {},
   "source": [
    "## Get a Taste of Python and Plotting"
   ]
  },
  {
   "cell_type": "markdown",
   "metadata": {},
   "source": [
    "In order to understand what your data is and how dirty is it (because all data is dirty), you need to understand what that data looks like. Through plotting you can easily see trends and outliers that will help you determine if your data is what you think it is. \n",
    "\n",
    "First things first, you have to download your find what package your comfortable with there are loads, so feel free to look around. For the purposes of this meeting we are going to be using plotnine because it is basically the same as ggplot2 from R which is a very powerful library that is widely used in many different fields (there is a ggplot package as well, but that was giving me some issues).\n",
    "\n",
    "If you take a look at [`fa18.env.yml`][fa18-env], you'll find the Anaconda Environment (very similar to `pip virtualenv`) we'll be using for the semester &ndash; you don't need to worry about this for the semester, though.\n",
    "\n",
    "Then you have to import the libraries and read in your data. \n",
    "\n",
    "[fa18-env]: https://github.com/ucfsigai/data-science/blob/master/fa18/fa18.env.yml"
   ]
  },
  {
   "cell_type": "code",
   "execution_count": null,
   "metadata": {},
   "outputs": [],
   "source": [
    "import pandas as pd\n",
    "import numpy as np\n",
    "from pandas.api.types import CategoricalDtype\n",
    "from plotnine import *"
   ]
  },
  {
   "cell_type": "code",
   "execution_count": null,
   "metadata": {},
   "outputs": [],
   "source": [
    "df = pd.read_csv(dataset('iris.csv'))\n",
    "df.head()"
   ]
  },
  {
   "cell_type": "markdown",
   "metadata": {},
   "source": [
    "So now we have our data. We also want our data in this format, which is normal referred to as a data frame. Each row is an entry of data and each column is a type of data that was collected. With this, we can now start graphing. "
   ]
  },
  {
   "cell_type": "code",
   "execution_count": null,
   "metadata": {},
   "outputs": [],
   "source": [
    "ggplot(aes(x='species', y='sepal_width', color='species'), data=df) + \\\n",
    "    geom_boxplot(aes(color='species')) + \\\n",
    "    xlab(\"Species\") + \\\n",
    "    ylab(\"Width\") + \\\n",
    "    ggtitle(\"Comparing Sepal length and width across different species\")"
   ]
  },
  {
   "cell_type": "markdown",
   "metadata": {},
   "source": [
    "You can that we can get some nice looking graphs very easily. But what if we wanted to customized them more? "
   ]
  },
  {
   "cell_type": "code",
   "execution_count": null,
   "metadata": {},
   "outputs": [],
   "source": [
    "(ggplot(df, aes('species','sepal_length')) + \n",
    "    geom_boxplot(aes(color=('species'))) +\n",
    "    labs(title='graph title', x='x title', color='legend title', y='y title') +\n",
    "    scale_x_discrete(breaks= ['setosa', 'versicolor', 'virginica'], labels= ['one', 'two', 'three']) + \n",
    "    scale_color_manual(labels=['one', 'two', 'three'], values=['#000000', '#9ebcda', '#8856a7'])\n",
    "    + theme_bw())"
   ]
  },
  {
   "cell_type": "markdown",
   "metadata": {},
   "source": [
    "The customization is also pretty easy, but one of the things that most non statistician love about R is that they can add a fitted linear model line with about 25 characters. "
   ]
  },
  {
   "cell_type": "code",
   "execution_count": null,
   "metadata": {},
   "outputs": [],
   "source": [
    "(ggplot(df, aes(x='sepal_width', y='sepal_length', color=('species'))) +\n",
    "    geom_point() + stat_smooth(method='lm') +\n",
    "    labs(title=\"graph title\", x=\"x title\", color=\"legend title\", y=\"y title\") +\n",
    "    scale_color_manual(labels=['one', 'two', 'three'], values=['#000000', '#9ebcda', '#8856a7']) +\n",
    "    theme_classic())"
   ]
  },
  {
   "cell_type": "markdown",
   "metadata": {},
   "source": [
    "Sometimes, seperating the data by category can help you understand the trends better. This is called faceting. Note that since ggplot started in R changing the names of individual graphs is somewhat hard; an easy work around for this is to change the string factors in the data since the names depend on the species names from data."
   ]
  },
  {
   "cell_type": "code",
   "execution_count": null,
   "metadata": {},
   "outputs": [],
   "source": [
    "(ggplot(df, aes(x='sepal_width', y='sepal_length', color=('species'))) + \n",
    "    geom_point() + stat_smooth(method='lm') + facet_wrap('~species') +\n",
    "    labs(title=\"graph title\", x=\"x title\", color=\"legend title\", y=\"y title\") + \n",
    "    scale_color_manual(values=['#000000', '#9ebcda', '#8856a7']) +\n",
    "    theme_bw())"
   ]
  },
  {
   "cell_type": "markdown",
   "metadata": {},
   "source": [
    "Now lets try a different dataset. "
   ]
  },
  {
   "cell_type": "code",
   "execution_count": null,
   "metadata": {},
   "outputs": [],
   "source": [
    "pkdata = pd.read_csv(data.joinpath('pokemon.csv'))\n",
    "pkdata.rename(lambda x: str(x).replace(\" \", \"\"), axis=\"columns\", inplace=True)\n",
    "pkdata.head()"
   ]
  },
  {
   "cell_type": "code",
   "execution_count": null,
   "metadata": {},
   "outputs": [],
   "source": [
    "(ggplot(pkdata, aes('Legendary', 'Attack')) + geom_boxplot() +\n",
    "    labs(title='Legendary Pokemon have a higher distribution of\\n attack values than non-Legendary Pokemon') +\n",
    "    theme_xkcd())"
   ]
  },
  {
   "cell_type": "code",
   "execution_count": null,
   "metadata": {},
   "outputs": [],
   "source": [
    "(ggplot(pkdata, aes('Attack', 'Defense', color=\"Generation\")) +\n",
    "    geom_point() +\n",
    "    theme_xkcd())"
   ]
  },
  {
   "cell_type": "code",
   "execution_count": null,
   "metadata": {},
   "outputs": [],
   "source": [
    "(ggplot(pkdata, aes('Attack', 'Defense', color=\"Generation\")) +\n",
    "    geom_point() + facet_wrap('~Type1') +\n",
    "    theme_xkcd())"
   ]
  },
  {
   "cell_type": "code",
   "execution_count": null,
   "metadata": {},
   "outputs": [],
   "source": [
    "(ggplot(pkdata, aes('Legendary',  'Total')) + geom_boxplot() +\n",
    "    labs(title='Sum of Total Stats Separated by\\n Type and Legendary Status') +\n",
    "    facet_wrap('~Type1') +\n",
    "    theme_xkcd())"
   ]
  },
  {
   "cell_type": "markdown",
   "metadata": {},
   "source": [
    "Now what if we wanted to save this graph? "
   ]
  },
  {
   "cell_type": "code",
   "execution_count": null,
   "metadata": {
    "scrolled": false
   },
   "outputs": [],
   "source": [
    "p = (ggplot(pkdata, aes('Legendary', 'Total')) + geom_boxplot() +\n",
    "     labs(title='Sum of Total Stats Separated by\\n Type and Legendary Status') +\n",
    "     facet_wrap('~Type1') + \n",
    "     theme_xkcd())\n",
    "\n",
    "p.save(filename='pokemanPlot.png', height=5, width=5, units='in', dpi=150)"
   ]
  },
  {
   "cell_type": "markdown",
   "metadata": {},
   "source": [
    "Now you have the basics of graphing. Keep in mind that this library translates almost exactly into code for `ggplot2` in `R`. If you want to refine your skills, the best thing you can do is to find a graph that you think is cool and try to make it exactly. Doing this, you will quickly learn the quarks of `ggplot`. \n",
    "\n",
    "\n",
    "You can check out these links for more information on plotnine: \n",
    "- https://www.kaggle.com/residentmario/grammar-of-graphics-with-plotnine-optional?scriptVersionId=4327772\n",
    "- http://pltn.ca/plotnine-superior-python-ggplot/\n",
    "\n",
    "And you can check out these for some more help with graphing using `ggplot`:\n",
    "- https://tutorials.iq.harvard.edu/R/Rgraphics/Rgraphics.html\n",
    "- http://r-statistics.co/Top50-Ggplot2-Visualizations-MasterList-R-Code.html"
   ]
  }
 ],
 "metadata": {
  "sigai": {
   "authors": [
    {
     "github": "ionlights",
     "name": "John Muchovej"
    },
    {
     "github": "Waldmannly",
     "name": "Evan Waldmann"
    }
   ],
   "date": "2018-08-29",
   "description": "Welcome back to SIGAI! We'll be re-introducing SIGAI for newcomers and refreshing it for veterans. Following that, we'll cover some basics of generating graphs (a very common task for data science and research). If you're enticed, we'll also get you setup on the university's supercomputer, as all following meetings will stream from there! :smiley:",
   "title": "Welcome back! Featuring Plotting & Supercomputers",
   "unit": {
    "name": "Basics",
    "number": 0
   }
  }
 },
 "nbformat": 4,
 "nbformat_minor": 2
}
