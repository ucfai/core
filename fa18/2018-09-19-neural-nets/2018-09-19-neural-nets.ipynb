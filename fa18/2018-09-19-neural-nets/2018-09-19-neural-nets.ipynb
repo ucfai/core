{
 "cells": [
  {
   "cell_type": "markdown",
   "metadata": {
    "name": "Flowering your Pokémon Predictions, with Neural Networks",
    "type": "sigai_heading"
   },
   "source": [
    "# Flowering your Pokémon Predictions, with Neural Networks\n",
    "---\n",
    "by: John Muchovej \\([@ionlights](github.com/ionlights/)\\), Chas Kane \\([@ChasKane](github.com/ChasKane/)\\), on 09 Sep 2018\n"
   ]
  }
 ],
 "metadata": {
  "sigai": {
   "authors": [
    {
     "github": "ionlights",
     "name": "John Muchovej"
    },
    {
     "github": "ChasKane",
     "name": "Chas Kane"
    }
   ],
   "date": "2018-09-19",
   "description": "With some basic ideas in mind about how one might tackle a task, we'll now go and explore a Tensor framework (PyTorch) and build a Neural Network that can accurately predict XXXX from our dataset.",
   "title": "Flowering your Pokémon Predictions, with Neural Networks",
   "unit": {
    "name": "neural-nets",
    "number": 1
   }
  }
 },
 "nbformat": 4,
 "nbformat_minor": 2
}
