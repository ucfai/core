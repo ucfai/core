{
 "cells": [
  {
   "cell_type": "markdown",
   "metadata": {
    "type": "signup-banner"
   },
   "source": [
    "<img style=\"border-radius: 0.5rem;\" src=\"banner.jpg\" />\n",
    "<a style=\"margin-top: 1rem;\" class=\"btn btn-lg btn-block btn-success\" href=\"https://dsg.ucfsigai.org/fa18/signin/\">\n",
    "    Sign in (https://dsg.ucfsigai.org/fa18/signin/)\n",
    "</a>"
   ]
  },
  {
   "cell_type": "code",
   "execution_count": null,
   "metadata": {
    "type": "dataloader"
   },
   "outputs": [],
   "source": [
    "def dataset(path):\n",
    "    import os\n",
    "    from pathlib import Path\n",
    "    datadir = Path(os.environ[\"DATA_DIR\"])\n",
    "    return Path(datadir.joinpath(path))"
   ]
  },
  {
   "cell_type": "markdown",
   "metadata": {
    "name": "Flowering your Pokémon Predictions, with Neural Networks",
    "type": "sigai_heading"
   },
   "source": [
    "# Flowering your Pokémon Predictions, with Neural Networks\n",
    "---\n",
    "by: John Muchovej \\([@ionlights](github.com/ionlights/)\\), Chas Kane \\([@ChasKane](github.com/ChasKane/)\\), on 09 Sep 2018"
   ]
  }
 ],
 "metadata": {
  "sigai": {
   "authors": [
    {
     "github": "ionlights",
     "name": "John Muchovej"
    },
    {
     "github": "ChasKane",
     "name": "Chas Kane"
    }
   ],
   "date": "2018-09-19",
   "description": "With some basic ideas in mind about how one might tackle a task, we'll now go and explore a Tensor framework (PyTorch) and build a Neural Network that can accurately predict XXXX from our dataset.",
   "title": "Flowering your Pokémon Predictions, with Neural Networks",
   "unit": {
    "name": "neural-nets",
    "number": 1
   }
  }
 },
 "nbformat": 4,
 "nbformat_minor": 2
}
