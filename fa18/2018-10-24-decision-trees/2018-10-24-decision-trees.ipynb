{
 "cells": [
  {
   "cell_type": "markdown",
   "metadata": {
    "name": "Decision Trees",
    "type": "sigai_heading"
   },
   "source": [
    "# Decision Trees\n",
    "---\n",
    "by: Chas Kane \\([@ChasKane](github.com/ChasKane/)\\), on 10 Oct 2018"
   ]
  }
 ],
 "metadata": {
  "sigai": {
   "authors": [
    {
     "github": "ChasKane",
     "name": "Chas Kane"
    }
   ],
   "date": "2018-10-24",
   "description": "",
   "title": "Decision Trees",
   "unit": {
    "name": "alt-methods",
    "number": 2
   }
  }
 },
 "nbformat": 4,
 "nbformat_minor": 2
}
