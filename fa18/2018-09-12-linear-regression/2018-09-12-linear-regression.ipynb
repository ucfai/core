{
 "cells": [
  {
   "cell_type": "markdown",
   "metadata": {
    "type": "signup-banner"
   },
   "source": [
    "<img style=\"border-radius: 0.5rem;\" src=\"banner.jpg\" />\n",
    "<a style=\"margin-top: 1rem;\" class=\"btn btn-lg btn-block btn-success\" href=\"https://dsg.ucfsigai.org/fa18/signin/\">\n",
    "    Sign in (https://dsg.ucfsigai.org/fa18/signin/)\n",
    "</a>"
   ]
  },
  {
   "cell_type": "code",
   "execution_count": null,
   "metadata": {
    "type": "dataloader"
   },
   "outputs": [],
   "source": [
    "def dataset(path):\n",
    "    import os\n",
    "    from pathlib import Path\n",
    "    datadir = Path(os.environ[\"DATA_DIR\"])\n",
    "    return Path(datadir.joinpath(path))"
   ]
  },
  {
   "cell_type": "markdown",
   "metadata": {
    "name": "Let Data Speak Using Regression & Plots",
    "type": "sigai_heading"
   },
   "source": [
    "# Let Data Speak Using Regression & Plots\n",
    "---\n",
    "by: Aidan Lakshman \\([@ahl98](github.com/ahl98/)\\), on 09 Sep 2018"
   ]
  }
 ],
 "metadata": {
  "sigai": {
   "authors": [
    {
     "github": "ahl98",
     "name": "Aidan Lakshman"
    }
   ],
   "date": "2018-09-12",
   "description": "Neural Networks are all the rage, nowadays, but simpler models are always great places to start! We'll cover how to do Linear/Logistic Regression as well as preparing data for such a function to work.",
   "title": "Let Data Speak Using Regression & Plots",
   "unit": {
    "name": "Basics",
    "number": 0
   }
  }
 },
 "nbformat": 4,
 "nbformat_minor": 2
}
