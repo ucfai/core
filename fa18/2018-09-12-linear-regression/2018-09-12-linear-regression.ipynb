{
 "cells": [
  {
   "cell_type": "markdown",
   "metadata": {
    "name": "Let Data Speak Using Regression & Plots",
    "type": "sigai_heading"
   },
   "source": [
    "# Let Data Speak Using Regression & Plots\n",
    "---\n",
    "by: Aidan Lakshman \\([@ahl98](github.com/ahl98/)\\), on 09 Sep 2018"
   ]
  }
 ],
 "metadata": {
  "sigai": {
   "authors": [
    {
     "github": "ahl98",
     "name": "Aidan Lakshman"
    }
   ],
   "date": "2018-09-12",
   "description": "Neural Networks are all the rage, nowadays, but simpler models are always great places to start! We'll cover how to do Linear/Logistic Regression as well as preparing data for such a function to work.",
   "title": "Let Data Speak Using Regression & Plots",
   "unit": {
    "name": "Basics",
    "number": 0
   }
  }
 },
 "nbformat": 4,
 "nbformat_minor": 2
}
