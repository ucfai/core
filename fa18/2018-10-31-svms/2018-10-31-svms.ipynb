{
 "cells": [
  {
   "cell_type": "markdown",
   "metadata": {
    "name": "Support Vector Machines",
    "type": "sigai_heading"
   },
   "source": [
    "# Support Vector Machines\n",
    "---\n",
    "by: Aidan Lakshman \\([@ahl98](github.com/ahl98/)\\), on 10 Oct 2018"
   ]
  }
 ],
 "metadata": {
  "sigai": {
   "authors": [
    {
     "github": "ahl98",
     "name": "Aidan Lakshman"
    }
   ],
   "date": "2018-10-31",
   "description": "",
   "title": "Support Vector Machines",
   "unit": {
    "name": "alt-methods",
    "number": 2
   }
  }
 },
 "nbformat": 4,
 "nbformat_minor": 2
}
