{
 "cells": [
  {
   "cell_type": "markdown",
   "metadata": {
    "name": "Machines That Write Papers for You",
    "type": "sigai_heading"
   },
   "source": [
    "# Machines That Write Papers for You\n",
    "---\n",
    "by: John Muchovej \\([@ionlights](github.com/ionlights/)\\), on 10 Oct 2018\n"
   ]
  }
 ],
 "metadata": {
  "sigai": {
   "authors": [
    {
     "github": "ionlights",
     "name": "John Muchovej"
    }
   ],
   "date": "2018-10-03",
   "description": "",
   "title": "Machines That Write Papers for You",
   "unit": {
    "name": "neural-nets",
    "number": 1
   }
  }
 },
 "nbformat": 4,
 "nbformat_minor": 2
}
