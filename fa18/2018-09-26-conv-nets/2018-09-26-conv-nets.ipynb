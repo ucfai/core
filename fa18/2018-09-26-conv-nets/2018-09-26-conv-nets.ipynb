{
 "cells": [
  {
   "cell_type": "markdown",
   "metadata": {
    "name": "Convolutional Neural Networks",
    "type": "sigai_heading"
   },
   "source": [
    "# Convolutional Neural Networks\n",
    "---\n",
    "by: Richard DiBacco \\([@thedibaccle](github.com/thedibaccle/)\\), on 09 Sep 2018\n"
   ]
  }
 ],
 "metadata": {
  "sigai": {
   "authors": [
    {
     "github": "thedibaccle",
     "name": "Richard DiBacco"
    }
   ],
   "date": "2018-09-26",
   "description": "",
   "title": "Convolutional Neural Networks",
   "unit": {
    "name": "neural-nets",
    "number": 1
   }
  }
 },
 "nbformat": 4,
 "nbformat_minor": 2
}
