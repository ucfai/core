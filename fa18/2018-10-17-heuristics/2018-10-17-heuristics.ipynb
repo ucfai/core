{
 "cells": [
  {
   "cell_type": "markdown",
   "metadata": {
    "name": "Solving the Computationally Impossible with Heuristics",
    "type": "sigai_heading"
   },
   "source": [
    "# Solving the Computationally Impossible with Heuristics\n",
    "---\n",
    "by: Evan Waldmann \\([@Waldmannly](github.com/Waldmannly/)\\), on 10 Oct 2018\n"
   ]
  }
 ],
 "metadata": {
  "sigai": {
   "authors": [
    {
     "github": "Waldmannly",
     "name": "Evan Waldmann"
    }
   ],
   "date": "2018-10-17",
   "description": "",
   "title": "Solving the Computationally Impossible with Heuristics",
   "unit": {
    "name": "alt-methods",
    "number": 2
   }
  }
 },
 "nbformat": 4,
 "nbformat_minor": 2
}
