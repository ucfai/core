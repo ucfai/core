{
 "cells": [
  {
   "cell_type": "markdown",
   "metadata": {
    "name": "Who Made this Face?",
    "type": "sigai_heading"
   },
   "source": [
    "# Who Made this Face?\n",
    "---\n",
    "by: Richard DiBacco \\([@thedibaccle](github.com/thedibaccle/)\\), on 10 Oct 2018"
   ]
  }
 ],
 "metadata": {
  "sigai": {
   "authors": [
    {
     "github": "thedibaccle",
     "name": "Richard DiBacco"
    }
   ],
   "date": "2018-10-10",
   "description": "",
   "title": "Who Made this Face?",
   "unit": {
    "name": "neural-nets",
    "number": 1
   }
  }
 },
 "nbformat": 4,
 "nbformat_minor": 2
}
