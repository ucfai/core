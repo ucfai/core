{
 "cells": [
  {
   "cell_type": "markdown",
   "metadata": {
    "tags": [
     "nb-title",
     "template"
    ],
    "title": "Workshop: An Intro to Neural Nets"
   },
   "source": [
    "<img\n",
    "    style=\"border-radius: 0.5em;\"\n",
    "    src=\"https://ucfai.org/groups/core/fa17/neural-nets-workshop/banner.png\">\n",
    "\n",
    "<div class=\"col-12\">\n",
    "    <h1> Workshop: An Intro to Neural Nets </h1>\n",
    "    <hr>\n",
    "</div>\n",
    "\n",
    "<div style=\"line-height: 2em;\">\n",
    "    <p>by: \n",
    "        <a href=\"https://ucfai.org/authors/ionlights\">@ionlights</a> on Oct 04, 2017</p>\n",
    "</div>"
   ]
  },
  {
   "cell_type": "code",
   "execution_count": null,
   "metadata": {
    "language": "python",
    "tags": [
     "template"
    ]
   },
   "outputs": [],
   "source": [
    "from pathlib import Path\n",
    "\n",
    "DATA_DIR = Path(\"/kaggle/input\")\n",
    "if (DATA_DIR / \"ucfai-core-fa17-neural-nets-workshop\").exists():\n",
    "    DATA_DIR /= \"ucfai-core-fa17-neural-nets-workshop\"\n",
    "elif DATA_DIR.exists():\n",
    "    # no-op to keep the proper data path for Kaggle\n",
    "    pass\n",
    "else:\n",
    "    # You'll need to download the data from Kaggle and place it in the `data/`\n",
    "    #   directory beside this notebook.\n",
    "    # The data should be here: https://kaggle.com/c/ucfai-core-fa17-neural-nets-workshop/data\n",
    "    DATA_DIR = Path(\"data\")"
   ]
  }
 ],
 "metadata": {
  "autobot": {
   "abstract": "UPDATE: We've partnered with TechKnights to throw a lecture+workshop combo during KnightHacks!\nTo finish Unit 0 for the Fall series, we're following up our lecture last week with a workshop.\nHere, we'll build a neural network to classify hand-written digits using a popular dataset, MNIST, with some help from Google's Tensorflow library.\n***Everything will be provided in a self-contained environment for you but you will need to come prepared with the below requirements before the workshop begins.",
   "authors": [
    "ionlights"
   ],
   "date": "2017-10-04T19:30:00",
   "group": "core",
   "semester": "fa17",
   "tags": [
    "neural networks",
    "deep learning",
    "machine learning",
    "MNIST",
    "TensorFlow",
    "numpy"
   ],
   "title": "Workshop: An Intro to Neural Nets"
  }
 },
 "nbformat": 4,
 "nbformat_minor": 4
}
