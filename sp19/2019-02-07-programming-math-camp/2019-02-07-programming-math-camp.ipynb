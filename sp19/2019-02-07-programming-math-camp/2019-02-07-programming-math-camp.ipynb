{
 "cells": [
  {
   "cell_type": "markdown",
   "metadata": {
    "name": "A Math Refresher and Intro to Scientific Python Programming",
    "type": "sigai_heading"
   },
   "source": [
    "<img src=\"https://ucfai.org//course/sp19/programming-math-camp/banner.jpg\">\n",
    "\n",
    "<div class=\"col-12\">\n",
    "    <a class=\"btn btn-success btn-block\" href=\"https://ucfai.org/signup\">\n",
    "        First Attendance? Sign Up!\n",
    "    </a>\n",
    "</div>\n",
    "\n",
    "<div class=\"col-12\">\n",
    "    <h1> A Math Refresher and Intro to Scientific Python Programming </h1>\n",
    "    <hr>\n",
    "</div>\n",
    "\n",
    "<div style=\"line-height: 2em;\">\n",
    "    <p>by: \n",
    "        <strong> John Muchovej</strong>\n",
    "        (<a href=\"https://github.com/ionlights\">@ionlights</a>)\n",
    "     on 2019-02-07</p>\n",
    "</div>"
   ]
  }
 ],
 "metadata": {
  "ucfai": {
   "authors": [
    {
     "author": "John Muchovej",
     "github": "ionlights",
     "web": null
    }
   ],
   "date": "2019-02-07",
   "description": "We'll be covering the foundational mathematics for Machine Learning, spanning Multivariate Calculus to Linear Algebra and sprinkle in some Statistics.  Followed by coverage of fundamental programming ideas for Data Science,  Machine Learning, and generally AI research and engineering.",
   "tags": [],
   "title": "A Math Refresher and Intro to Scientific Python Programming"
  }
 },
 "nbformat": 4,
 "nbformat_minor": 2
}
