{
 "cells": [
  {
   "cell_type": "markdown",
   "metadata": {
    "name": "How Computers Can See and Other Ways Machines Can Think",
    "type": "sigai_heading"
   },
   "source": [
    "<img src=\"https://ucfai.org//course/sp19/conv-nets/banner.jpg\">\n",
    "\n",
    "<div class=\"col-12\">\n",
    "    <a class=\"btn btn-success btn-block\" href=\"https://ucfai.org/signup\">\n",
    "        First Attendance? Sign Up!\n",
    "    </a>\n",
    "</div>\n",
    "\n",
    "<div class=\"col-12\">\n",
    "    <h1> How Computers Can See and Other Ways Machines Can Think </h1>\n",
    "    <hr>\n",
    "</div>\n",
    "\n",
    "<div style=\"line-height: 2em;\">\n",
    "    <p>by: \n",
    "        <strong> Irene Tanner</strong>\n",
    "        (<a href=\"https://github.com/irenelt97\">@irenelt97</a>)\n",
    "    \n",
    "        <strong> John Muchovej</strong>\n",
    "        (<a href=\"https://github.com/ionlights\">@ionlights</a>)\n",
    "     on 2019-02-20</p>\n",
    "</div>"
   ]
  }
 ],
 "metadata": {
  "ucfai": {
   "authors": [
    {
     "author": "Irene Tanner",
     "github": "irenelt97",
     "web": null
    },
    {
     "author": "John Muchovej",
     "github": "ionlights",
     "web": null
    }
   ],
   "date": "2019-02-20",
   "description": "Ever wonder how Facebook can tell you which friends to tag in your photos or how Google automatically makes collages and animations for you? This lecture is all about that: we'll teach you the basics of computer vision  using convolutional neural networks so you can make your own algorithm to automatically analyze your visual data! B)",
   "tags": [],
   "title": "How Computers Can See and Other Ways Machines Can Think"
  }
 },
 "nbformat": 4,
 "nbformat_minor": 2
}
