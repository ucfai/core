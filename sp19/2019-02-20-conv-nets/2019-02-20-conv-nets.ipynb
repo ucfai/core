{
 "cells": [
  {
   "cell_type": "markdown",
   "metadata": {
    "name": "Convolutional Neural Networks",
    "type": "sigai_heading"
   },
   "source": [
    "<img src=\"https://ucfai.org//course/sp19/conv-nets/banner.jpg\">\n",
    "\n",
    "<div class=\"col-12\">\n",
    "    <a class=\"btn btn-success btn-block\" href=\"https://ucfai.org/signup\">\n",
    "        First Attendance? Sign Up!\n",
    "    </a>\n",
    "</div>\n",
    "\n",
    "<div class=\"col-12\">\n",
    "    <h1> Convolutional Neural Networks </h1>\n",
    "    <hr>\n",
    "</div>\n",
    "\n",
    "<div style=\"line-height: 2em;\">\n",
    "    <p>by: \n",
    "        <strong> John Muchovej</strong>\n",
    "        (<a href=\"https://github.com/ionlights\">@ionlights</a>)\n",
    "     on 2019-02-20</p>\n",
    "</div>"
   ]
  }
 ],
 "metadata": {
  "ucfai": {
   "authors": [
    {
     "author": "John Muchovej",
     "github": "ionlights",
     "web": null
    }
   ],
   "date": "2019-02-20",
   "description": "",
   "tags": [],
   "title": "Convolutional Neural Networks"
  }
 },
 "nbformat": 4,
 "nbformat_minor": 2
}
