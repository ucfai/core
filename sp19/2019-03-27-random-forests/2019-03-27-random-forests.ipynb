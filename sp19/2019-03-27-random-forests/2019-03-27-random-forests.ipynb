{
 "cells": [
  {
   "cell_type": "markdown",
   "metadata": {
    "name": "A Walk Through the Random Forest",
    "type": "sigai_heading"
   },
   "source": [
    "<img src=\"https://ucfai.org//course/sp19/random-forests/banner.jpg\">\n",
    "\n",
    "<div class=\"col-12\">\n",
    "    <a class=\"btn btn-success btn-block\" href=\"https://ucfai.org/signup\">\n",
    "        First Attendance? Sign Up!\n",
    "    </a>\n",
    "</div>\n",
    "\n",
    "<div class=\"col-12\">\n",
    "    <h1> A Walk Through the Random Forest </h1>\n",
    "    <hr>\n",
    "</div>\n",
    "\n",
    "<div style=\"line-height: 2em;\">\n",
    "    <p>by: \n",
    "        <strong> John Muchovej</strong>\n",
    "        (<a href=\"https://github.com/ionlights\">@ionlights</a>)\n",
    "     on 2019-03-27</p>\n",
    "</div>"
   ]
  }
 ],
 "metadata": {
  "ucfai": {
   "authors": [
    {
     "author": "John Muchovej",
     "github": "ionlights",
     "web": null
    }
   ],
   "date": "2019-03-27",
   "description": "Neural Nets are not the end all be all of Machine Learning. In this lecutre,  we will see how a decision tree works, and see how powerful a collection of  them can. From there, we will see how to utilize Random Forests to do digit  recognition.",
   "tags": [],
   "title": "A Walk Through the Random Forest"
  }
 },
 "nbformat": 4,
 "nbformat_minor": 2
}
