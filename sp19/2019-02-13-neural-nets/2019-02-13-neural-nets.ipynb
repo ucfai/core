{
 "cells": [
  {
   "cell_type": "markdown",
   "metadata": {
    "name": "Beyond the Buzzwords: Getting Started with Neural Networks",
    "type": "sigai_heading"
   },
   "source": [
    "<img src=\"https://ucfai.org//course/sp19/neural-nets/banner.jpg\">\n",
    "\n",
    "<div class=\"col-12\">\n",
    "    <a class=\"btn btn-success btn-block\" href=\"https://ucfai.org/signup\">\n",
    "        First Attendance? Sign Up!\n",
    "    </a>\n",
    "</div>\n",
    "\n",
    "<div class=\"col-12\">\n",
    "    <h1> Beyond the Buzzwords: Getting Started with Neural Networks </h1>\n",
    "    <hr>\n",
    "</div>\n",
    "\n",
    "<div style=\"line-height: 2em;\">\n",
    "    <p>by: \n",
    "        <strong> Alec Kerrigan</strong>\n",
    "        (<a href=\"https://github.com/AHKerrigan\">@AHKerrigan</a>)\n",
    "    \n",
    "        <strong> John Muchovej</strong>\n",
    "        (<a href=\"https://github.com/ionlights\">@ionlights</a>)\n",
    "     on 2019-02-13</p>\n",
    "</div>"
   ]
  }
 ],
 "metadata": {
  "ucfai": {
   "authors": [
    {
     "author": "Alec Kerrigan",
     "github": "AHKerrigan",
     "web": null
    },
    {
     "author": "John Muchovej",
     "github": "ionlights",
     "web": null
    }
   ],
   "date": "2019-02-13",
   "description": "You've heard about them: Beating humans at all types of games, driving cars, and reccomending your Netflix, but what ARE neural networks? In this lecture, you'll actually learn step by step how neural networks function and how they  learn. Then, you'll deploy one yourself!",
   "tags": [],
   "title": "Beyond the Buzzwords: Getting Started with Neural Networks"
  }
 },
 "nbformat": 4,
 "nbformat_minor": 2
}
