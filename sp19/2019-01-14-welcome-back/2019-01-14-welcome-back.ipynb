{
 "cells": [
  {
   "cell_type": "markdown",
   "metadata": {
    "name": "Welcome back! Featuring Supercomputers and Real Artificial Intelligence",
    "type": "sigai_heading"
   },
   "source": [
    "<img src=\"https://ai.cs.ucf.edu/'data-science'/welcome-back/banner.jpg\">\n",
    "\n",
    "<div class=\"col-12\">\n",
    "    <a class=\"btn btn-success btn-block\" href=\"https://ai.cs.ucf.edu/signup\">\n",
    "        First Attendance? Sign Up!\n",
    "    </a>\n",
    "</div>\n",
    "\n",
    "<div class=\"col-12\">\n",
    "    <h1> Welcome back! Featuring Supercomputers and Real Artificial Intelligence </h1>\n",
    "    <hr>\n",
    "</div>\n",
    "\n",
    "<div class=\"row\" style=\"line-height: 2em;\">\n",
    "    <div class=\"col-10\">\n",
    "        <p>by:</p>\n",
    "        <div class=\"card ucfai-inst\">\n",
    "            <img src=\"https://avatars.githubusercontent.com/ionlights\" />\n",
    "            <div>\n",
    "                <p> <strong> John Muchovej </strong> </p>\n",
    "                <a href=\"https://github.com/ionlights\">\n",
    "                    @ionlights\n",
    "                </a>\n",
    "            </div>\n",
    "        </div>\n",
    "    </div>\n",
    "    <div class=\"col-2\">\n",
    "        2019-01-14\n",
    "    </div>\n",
    "</div>"
   ]
  }
 ],
 "metadata": {
  "ucfai": {
   "authors": [
    {
     "author": "John Muchovej",
     "github": "ionlights",
     "web": null
    }
   ],
   "date": "2019-01-14",
   "description": "Welcome back to SIGAI! We'll be re-introducing AI@UCF for newcomers and refreshing it for veterans; following that, we'll cover some club logistics, then we'll finish off with some live demos of the work some Coordinators have done recently to give you a taste of what's possible! We lied, we'll actually finish off with setting everyone up on the UCF Supercomputer, from which we'll be streaming all future meetings!",
   "title": "Welcome back! Featuring Supercomputers and Real Artificial Intelligence"
  }
 },
 "nbformat": 4,
 "nbformat_minor": 2
}
