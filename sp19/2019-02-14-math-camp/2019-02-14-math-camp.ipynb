{
 "cells": [
  {
   "cell_type": "markdown",
   "metadata": {
    "name": "Mathematics Refresher",
    "type": "sigai_heading"
   },
   "source": [
    "<img src=\"https://ucfai.org//course/sp19/math-camp/banner.jpg\">\n",
    "\n",
    "<div class=\"col-12\">\n",
    "    <a class=\"btn btn-success btn-block\" href=\"https://ucfai.org/signup\">\n",
    "        First Attendance? Sign Up!\n",
    "    </a>\n",
    "</div>\n",
    "\n",
    "<div class=\"col-12\">\n",
    "    <h1> Mathematics Refresher </h1>\n",
    "    <hr>\n",
    "</div>\n",
    "\n",
    "<div style=\"line-height: 2em;\">\n",
    "    <p>by: \n",
    "        <strong> John Muchovej</strong>\n",
    "        (<a href=\"https://github.com/ionlights\">@ionlights</a>)\n",
    "     on 2019-02-14</p>\n",
    "</div>"
   ]
  }
 ],
 "metadata": {
  "ucfai": {
   "authors": [
    {
     "author": "John Muchovej",
     "github": "ionlights",
     "web": null
    }
   ],
   "date": "2019-02-14",
   "description": "Derivatives. Matrices. Vectors. Gradients. Mean. Standard Deviation. If any of those were unfamiliar, make sure you don't miss this meeting, as these are all the math you need to know! No math background? No worries. This lecture is intended to get everyone up to speed, regardless of their academic focus.",
   "tags": [],
   "title": "Mathematics Refresher"
  }
 },
 "nbformat": 4,
 "nbformat_minor": 2
}
