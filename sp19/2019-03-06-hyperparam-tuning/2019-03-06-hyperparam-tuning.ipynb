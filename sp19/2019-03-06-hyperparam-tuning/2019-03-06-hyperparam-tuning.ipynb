{
 "cells": [
  {
   "cell_type": "markdown",
   "metadata": {
    "name": "What Makes Deep Learning More of an Art Than a Science?",
    "type": "sigai_heading"
   },
   "source": [
    "<img src=\"https://ucfai.org//course/sp19/hyperparam-tuning/banner.jpg\">\n",
    "\n",
    "<div class=\"col-12\">\n",
    "    <a class=\"btn btn-success btn-block\" href=\"https://ucfai.org/signup\">\n",
    "        First Attendance? Sign Up!\n",
    "    </a>\n",
    "</div>\n",
    "\n",
    "<div class=\"col-12\">\n",
    "    <h1> What Makes Deep Learning More of an Art Than a Science? </h1>\n",
    "    <hr>\n",
    "</div>\n",
    "\n",
    "<div style=\"line-height: 2em;\">\n",
    "    <p>by: \n",
    "        <strong> Irene Tanner</strong>\n",
    "        (<a href=\"https://github.com/irenelt97\">@irenelt97</a>)\n",
    "    \n",
    "        <strong> John Muchovej</strong>\n",
    "        (<a href=\"https://github.com/ionlights\">@ionlights</a>)\n",
    "     on 2019-03-06</p>\n",
    "</div>"
   ]
  }
 ],
 "metadata": {
  "ucfai": {
   "authors": [
    {
     "author": "Irene Tanner",
     "github": "irenelt97",
     "web": null
    },
    {
     "author": "John Muchovej",
     "github": "ionlights",
     "web": null
    }
   ],
   "date": "2019-03-06",
   "description": "",
   "tags": [],
   "title": "What Makes Deep Learning More of an Art Than a Science?"
  }
 },
 "nbformat": 4,
 "nbformat_minor": 2
}
