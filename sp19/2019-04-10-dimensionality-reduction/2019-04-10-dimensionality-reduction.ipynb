{
 "cells": [
  {
   "cell_type": "markdown",
   "metadata": {
    "name": "Making sense of high-dimensional data",
    "type": "sigai_heading"
   },
   "source": [
    "<img src=\"https://ucfai.org//course/sp19/dimensionality-reduction/banner.jpg\">\n",
    "\n",
    "<div class=\"col-12\">\n",
    "    <a class=\"btn btn-success btn-block\" href=\"https://ucfai.org/signup\">\n",
    "        First Attendance? Sign Up!\n",
    "    </a>\n",
    "</div>\n",
    "\n",
    "<div class=\"col-12\">\n",
    "    <h1> Making sense of high-dimensional data </h1>\n",
    "    <hr>\n",
    "</div>\n",
    "\n",
    "<div style=\"line-height: 2em;\">\n",
    "    <p>by: \n",
    "        <strong> None</strong>\n",
    "        (<a href=\"https://github.com/cg021\">@cg021</a>)\n",
    "    \n",
    "        <strong> John Muchovej</strong>\n",
    "        (<a href=\"https://github.com/jmuchovej\">@jmuchovej</a>)\n",
    "     on 2019-04-10</p>\n",
    "</div>"
   ]
  }
 ],
 "metadata": {
  "ucfai": {
   "authors": [
    {
     "author": null,
     "github": "cg021",
     "web": null
    },
    {
     "author": "John Muchovej",
     "github": "jmuchovej",
     "web": null
    }
   ],
   "date": "2019-04-10",
   "description": "",
   "tags": [],
   "title": "Making sense of high-dimensional data"
  }
 },
 "nbformat": 4,
 "nbformat_minor": 2
}
