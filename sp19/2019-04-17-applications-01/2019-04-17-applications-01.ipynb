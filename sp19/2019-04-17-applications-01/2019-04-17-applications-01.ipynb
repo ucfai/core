{
 "cells": [
  {
   "cell_type": "markdown",
   "metadata": {
    "name": "Applications 1",
    "type": "sigai_heading"
   },
   "source": [
    "<img src=\"https://ucfai.org//course/sp19/applications-01/banner.jpg\">\n",
    "\n",
    "<div class=\"col-12\">\n",
    "    <a class=\"btn btn-success btn-block\" href=\"https://ucfai.org/signup\">\n",
    "        First Attendance? Sign Up!\n",
    "    </a>\n",
    "</div>\n",
    "\n",
    "<div class=\"col-12\">\n",
    "    <h1> Applications 1 </h1>\n",
    "    <hr>\n",
    "</div>\n",
    "\n",
    "<div style=\"line-height: 2em;\">\n",
    "    <p>by: \n",
    "        <strong> Alec Kerrigan</strong>\n",
    "        (<a href=\"https://github.com/AHKerrigan\">@AHKerrigan</a>)\n",
    "    \n",
    "        <strong> John Muchovej</strong>\n",
    "        (<a href=\"https://github.com/jmuchovej\">@jmuchovej</a>)\n",
    "     on 2019-04-17</p>\n",
    "</div>"
   ]
  }
 ],
 "metadata": {
  "ucfai": {
   "authors": [
    {
     "author": "Alec Kerrigan",
     "github": "AHKerrigan",
     "web": null
    },
    {
     "author": "John Muchovej",
     "github": "jmuchovej",
     "web": null
    }
   ],
   "date": "2019-04-17",
   "description": "",
   "tags": [],
   "title": "Applications 1"
  }
 },
 "nbformat": 4,
 "nbformat_minor": 2
}
