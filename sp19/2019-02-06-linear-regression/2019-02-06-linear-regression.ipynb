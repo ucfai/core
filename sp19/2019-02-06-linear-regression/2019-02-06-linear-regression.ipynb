{
  "nbformat": 4,
  "nbformat_minor": 0,
  "metadata": {
    "colab": {
      "name": "2019-02-06-linear-regression.ipynb",
      "version": "0.3.2",
      "provenance": []
    }
  },
  "cells": [
    {
      "metadata": {
        "name": "Starting with the Basics, Regression",
        "type": "sigai_heading",
        "id": "VGDdkJXJR23r",
        "colab_type": "text"
      },
      "cell_type": "markdown",
      "source": [
        "<img src=\"https://ucfai.org//course/sp19/linear-regression/banner.jpg\">\n",
        "\n",
        "<div class=\"col-12\">\n",
        "    <a class=\"btn btn-success btn-block\" href=\"https://ucfai.org/signup\">\n",
        "        First Attendance? Sign Up!\n",
        "    </a>\n",
        "</div>\n",
        "\n",
        "<div class=\"col-12\">\n",
        "    <h1> Starting with the Basics, Regression </h1>\n",
        "    <hr>\n",
        "</div>\n",
        "\n",
        "<div style=\"line-height: 2em;\">\n",
        "    <p>by: \n",
        "        <strong> Liam Jarvis</strong>\n",
        "        (<a href=\"https://github.com/JarvisEQ\">@JarvisEQ</a>)\n",
        "    \n",
        "        <strong> John Muchovej</strong>\n",
        "        (<a href=\"https://github.com/ionlights\">@ionlights</a>)\n",
        "     on 2019-02-06</p>\n",
        "</div>"
      ]
    },
    {
      "metadata": {
        "id": "zgRpPss8UGQl",
        "colab_type": "text"
      },
      "cell_type": "markdown",
      "source": [
        "___\n",
        "## **[Die Präsentation](https://docs.google.com/presentation/d/12MvqRMZlKL3DwqAX1XqQMaL21UUV29hLkEcYO3liHfs/edit?usp=sharing)**\n",
        "\n",
        "----"
      ]
    },
    {
      "metadata": {
        "id": "l8hmrWHASFC8",
        "colab_type": "text"
      },
      "cell_type": "markdown",
      "source": [
        "--------------------------------------------------\n",
        "\n",
        "## **Linear Regression**\n",
        "\n",
        "--------------------------------------------------"
      ]
    },
    {
      "metadata": {
        "id": "nlU_PPIZSNLy",
        "colab_type": "text"
      },
      "cell_type": "markdown",
      "source": [
        "First thing first, we to get some packages \n",
        "\n",
        "*   matplotlib allows us to graph \n",
        "*   numpy is powerful package for data manipulation\n",
        "*   pandas is a tool for allowing us to interact with large datasets\n",
        "*   sklearn is what we'll use for making the models\n",
        "*   !wget grabs the data set we'll be using later"
      ]
    },
    {
      "metadata": {
        "id": "u7npJObtSOo2",
        "colab_type": "code",
        "colab": {
          "base_uri": "https://localhost:8080/",
          "height": 413
        },
        "outputId": "9c76e01e-f0c2-4ee8-8874-aa05349b2967"
      },
      "cell_type": "code",
      "source": [
        "#import some stuff\n",
        "import matplotlib.pyplot as plt\n",
        "import numpy as np\n",
        "import pandas as pd\n",
        "import scipy.stats as st\n",
        "from sklearn import datasets, linear_model\n",
        "!wget \"https://archive.ics.uci.edu/ml/machine-learning-databases/adult/adult.data\" \n",
        "!wget \"http://jse.amstat.org/v19n3/decock/AmesHousing.txt\""
      ],
      "execution_count": 4,
      "outputs": [
        {
          "output_type": "stream",
          "text": [
            "--2019-02-06 19:53:49--  https://archive.ics.uci.edu/ml/machine-learning-databases/adult/adult.data\n",
            "Resolving archive.ics.uci.edu (archive.ics.uci.edu)... 128.195.10.249\n",
            "Connecting to archive.ics.uci.edu (archive.ics.uci.edu)|128.195.10.249|:443... connected.\n",
            "HTTP request sent, awaiting response... 200 OK\n",
            "Length: 3974305 (3.8M) [text/plain]\n",
            "Saving to: ‘adult.data.6’\n",
            "\n",
            "adult.data.6        100%[===================>]   3.79M  4.91MB/s    in 0.8s    \n",
            "\n",
            "2019-02-06 19:53:50 (4.91 MB/s) - ‘adult.data.6’ saved [3974305/3974305]\n",
            "\n",
            "--2019-02-06 19:53:51--  http://jse.amstat.org/v19n3/decock/AmesHousing.txt\n",
            "Resolving jse.amstat.org (jse.amstat.org)... 107.180.48.28\n",
            "Connecting to jse.amstat.org (jse.amstat.org)|107.180.48.28|:80... connected.\n",
            "HTTP request sent, awaiting response... 200 OK\n",
            "Length: 960807 (938K) [text/plain]\n",
            "Saving to: ‘AmesHousing.txt.6’\n",
            "\n",
            "AmesHousing.txt.6   100%[===================>] 938.29K  1.24MB/s    in 0.7s    \n",
            "\n",
            "2019-02-06 19:53:52 (1.24 MB/s) - ‘AmesHousing.txt.6’ saved [960807/960807]\n",
            "\n"
          ],
          "name": "stdout"
        }
      ]
    },
    {
      "metadata": {
        "id": "1L9wMij-UWvf",
        "colab_type": "text"
      },
      "cell_type": "markdown",
      "source": [
        "The data for this example is arbitrary (we'll use real data in a bit), but there is a clear linear relationship here\n",
        "\n",
        "Graphing the data will make this relationship clear to see"
      ]
    },
    {
      "metadata": {
        "id": "8amuHXvvUX-E",
        "colab_type": "code",
        "colab": {
          "base_uri": "https://localhost:8080/",
          "height": 347
        },
        "outputId": "bec884d5-858e-4886-8a68-07b99db8ea77"
      },
      "cell_type": "code",
      "source": [
        "#Get some data \n",
        "x = np.array([0, 1, 2, 3, 4, 5, 6, 7, 8, 9]) \n",
        "y = np.array([1, 3, 2, 5, 7, 8, 8, 9, 10, 12])\n",
        "\n",
        "#Let's plot the data to see what it looks like\n",
        "plt.scatter(x, y, color = \"black\", \n",
        "               marker = \"o\", s = 30) \n",
        "plt.show()"
      ],
      "execution_count": 5,
      "outputs": [
        {
          "output_type": "display_data",
          "data": {
            "image/png": "[encoded data removed]",
            "text/plain": [
              "<Figure size 576x396 with 1 Axes>"
            ]
          },
          "metadata": {
            "tags": []
          }
        }
      ]
    },
    {
      "metadata": {
        "id": "6TV2KM4qUr-i",
        "colab_type": "text"
      },
      "cell_type": "markdown",
      "source": [
        "Here's the meat of the calculations\n",
        "\n",
        "This is using least squares estimation, which tries to minimize the squared error of the function vs. the training data\n",
        "\n",
        "SS_xy is the cross deviation about x, and SS_xx is the deviation about x\n",
        "\n",
        "[It's basically some roundabout algebra methods to optimize a function](https://www.amherst.edu/system/files/media/1287/SLR_Leastsquares.pdf) \n",
        "\n",
        "The concept isn't super complicated but it gets hairy when you do it by hand"
      ]
    },
    {
      "metadata": {
        "id": "7q092roWUcAI",
        "colab_type": "code",
        "colab": {
          "base_uri": "https://localhost:8080/",
          "height": 71
        },
        "outputId": "3d10266a-9974-4670-9f32-d0aaf4f0ce94"
      },
      "cell_type": "code",
      "source": [
        "#calculating the coefficients\n",
        "\n",
        "# number of observations/points \n",
        "n = np.size(x) \n",
        "\n",
        "# mean of x and y vector \n",
        "m_x, m_y = np.mean(x), np.mean(y) \n",
        "\n",
        "# calculating cross-deviation and deviation about x \n",
        "SS_xy = np.sum(y*x - n*m_y*m_x) \n",
        "SS_xx = np.sum(x*x - n*m_x*m_x) \n",
        "\n",
        "# calculating regression coefficients \n",
        "b_1 = SS_xy / SS_xx \n",
        "b_0 = m_y - b_1*m_x\n",
        "\n",
        "#var to hold the coefficients\n",
        "b = (b_0, b_1)\n",
        "\n",
        "#print out the estimated coefficients\n",
        "print(\"Estimated coefficients:\\nb_0 = {} \\nb_1 = {}\".format(b[0], b[1])) "
      ],
      "execution_count": 6,
      "outputs": [
        {
          "output_type": "stream",
          "text": [
            "Estimated coefficients:\n",
            "b_0 = -0.0586206896552 \n",
            "b_1 = 1.45747126437\n"
          ],
          "name": "stdout"
        }
      ]
    },
    {
      "metadata": {
        "id": "KLB5-ygxU0XG",
        "colab_type": "text"
      },
      "cell_type": "markdown",
      "source": [
        "But, we don't need to directly program all of the maths everytime we do linear regression\n",
        "\n",
        "sklearn has built in functions that allows you to quickly do Linear Regression with just a few lines of code\n",
        "\n",
        "We're going to use sklearn to make a model and then plot it using matplotlib\n"
      ]
    },
    {
      "metadata": {
        "id": "7toNiRv_UyB0",
        "colab_type": "code",
        "colab": {}
      },
      "cell_type": "code",
      "source": [
        "#we need to reshape the array to make the sklearn gods happy\n",
        "x = x.reshape(-1,1)\n",
        "y = y.reshape(-1,1)\n",
        "\n",
        "#making the model\n",
        "regress = linear_model.LinearRegression()\n",
        "regress.fit(x, y)\n",
        "y_sk_pred = regress.predict([[6]])"
      ],
      "execution_count": 0,
      "outputs": []
    },
    {
      "metadata": {
        "id": "jShPEF_lU4ko",
        "colab_type": "text"
      },
      "cell_type": "markdown",
      "source": [
        "And now lets see what the model looks like"
      ]
    },
    {
      "metadata": {
        "id": "wX4xZAemU4Vg",
        "colab_type": "code",
        "colab": {
          "base_uri": "https://localhost:8080/",
          "height": 361
        },
        "outputId": "19c9aa5a-a3de-483a-e96d-99280fb5358c"
      },
      "cell_type": "code",
      "source": [
        "# plotting the actual points as scatter plot \n",
        "plt.scatter(x, y, color = \"black\", \n",
        "           marker = \"o\", s = 30) \n",
        "\n",
        "# predicted response vector \n",
        "y_pred = b[0] + b[1]*x \n",
        "\n",
        "# plotting the regression line \n",
        "plt.plot(x, y_pred, color = \"blue\") \n",
        "\n",
        "# putting labels \n",
        "plt.xlabel('x') \n",
        "plt.ylabel('y') \n",
        "\n",
        "# function to show plot \n",
        "plt.show()"
      ],
      "execution_count": 8,
      "outputs": [
        {
          "output_type": "display_data",
          "data": {
            "image/png": "[encoded data removed]",
            "text/plain": [
              "<Figure size 576x396 with 1 Axes>"
            ]
          },
          "metadata": {
            "tags": []
          }
        }
      ]
    },
    {
      "metadata": {
        "id": "QFNw1vhXU_lQ",
        "colab_type": "text"
      },
      "cell_type": "markdown",
      "source": [
        "So now we can make predictions with new points based off our data"
      ]
    },
    {
      "metadata": {
        "id": "mBWnZdUnVBbS",
        "colab_type": "code",
        "colab": {
          "base_uri": "https://localhost:8080/",
          "height": 35
        },
        "outputId": "5eb3bd2c-c7b5-44b2-e81e-257b8d532180"
      },
      "cell_type": "code",
      "source": [
        "#here we can try out any data point\n",
        "print(regress.predict([[6]]))"
      ],
      "execution_count": 9,
      "outputs": [
        {
          "output_type": "stream",
          "text": [
            "[[8.25454545]]\n"
          ],
          "name": "stdout"
        }
      ]
    },
    {
      "metadata": {
        "id": "fFKmbGe_VCj6",
        "colab_type": "text"
      },
      "cell_type": "markdown",
      "source": [
        "--------------------------------------------\n",
        "## Applied Linear Regression \n",
        "--------------------------------------------\n"
      ]
    },
    {
      "metadata": {
        "id": "XWq9ddGUVFiB",
        "colab_type": "text"
      },
      "cell_type": "markdown",
      "source": [
        "###The Ames Housing Dataset \n",
        "> Ames is a city located in Iowa.\n",
        "> \n",
        "> - This data set consists of all property sales\n",
        "collected by the Ames City Assessor’s Office between the years\n",
        "of 2006 and 2010.\n",
        "> - Originally contained 113 variables and 3970 property sales\n",
        "pertaining to the sale of stand-alone garages, condos, storage\n",
        "areas, and of course residential property.\n",
        "> - Distributed to the public as a means to replace the old Boston\n",
        "Housing 1970’s data set.  \n",
        "> - [Link to Original](http://lib.stat.cmu.edu/datasets/boston) \n",
        "> - The \"cleaned\" version of this dataset contains 2930 observations along with 80\n",
        "predictor variables and two identification variables.\n"
      ]
    },
    {
      "metadata": {
        "id": "digU01vbVNAZ",
        "colab_type": "text"
      },
      "cell_type": "markdown",
      "source": [
        "###What was the original purpose of this data set? \n",
        "\n",
        "That is, why did the Amess City Assessor's Office decide to collect this data? \n",
        "\n",
        "> - **Answer**: To update the assessment model used by the Ames\n",
        "City Assessor’s Office.\n",
        "\n",
        "Now you may ask, what is an assessment model? \n",
        "\n",
        ">- **Answer**: In short, an assessment model is used to assign dollar value to a property that reflects the true market value of that property.\n",
        "\n",
        "Now according to the Iowa Department of Revenue’s website, primary beneficiaries of the revenue generated by\n",
        "property taxes include but are not limited to: \n",
        "> - K-12 Schools, Hospitals, Assessors, Townships, and Agricultural\n",
        "Extension Districts.\n",
        "\n",
        "**Moral of this story**: We will be using the modified Ames housing dataset to predict housing price. \n"
      ]
    },
    {
      "metadata": {
        "id": "ynVgk7chVRvJ",
        "colab_type": "text"
      },
      "cell_type": "markdown",
      "source": [
        "###What's inside? \n",
        "\n",
        "This ”new” data set contains 2930 (n=2930) observations along with 80\n",
        "predictor variables and two identification variables. \n",
        "\n",
        "[Paper linked to dataset](http://jse.amstat.org/v19n3/decock.pdf)\n",
        "\n",
        "An exhaustive variable breakdown can be found\n",
        "[here](http://jse.amstat.org/v19n3/decock/DataDocumentation.txt)\n",
        "\n",
        "###**Quick Summary** \n",
        "---\n",
        "Of the 80 predictor variables we have:\n",
        "> - 20 continuous variables (area dimension)\n",
        " - Garage Area, Wood Deck Area, Pool Area\n",
        "> - 14 discrete variables (items occurring)\n",
        " - Remodeling Dates, Month and Year Sold\n",
        " > - 23 nominal and 23 ordinal \n",
        " - Nominal: Condition of the Sale, Type of Heating and\n",
        "Foundation\n",
        " - Ordinal: Fireplace and Kitchen Quality, Overall\n",
        "Condition of the House\n",
        "\n",
        "\n"
      ]
    },
    {
      "metadata": {
        "id": "KOXUamhYVXuB",
        "colab_type": "text"
      },
      "cell_type": "markdown",
      "source": [
        "***Question to Answer***: What is the linear relationship between sale price on above ground\n",
        "living room area?\n",
        "\n",
        "But first lets visually investigate what we are trying to predict. "
      ]
    },
    {
      "metadata": {
        "id": "QbSNl18hVYit",
        "colab_type": "text"
      },
      "cell_type": "markdown",
      "source": [
        "We shall start our analysis with summary statistics. "
      ]
    },
    {
      "metadata": {
        "id": "ysQ_FKqWVbh2",
        "colab_type": "code",
        "colab": {
          "base_uri": "https://localhost:8080/",
          "height": 89
        },
        "outputId": "9cf5bde2-66c6-4a9c-9855-ecd888ca9ac2"
      },
      "cell_type": "code",
      "source": [
        "housing_data =  pd.read_csv(\"AmesHousing.txt\", delimiter=\"\\t\") \n",
        "\n",
        "#Mean Sales price \n",
        "mean_price = np.mean(housing_data[\"SalePrice\"])\n",
        "print(\"Mean Price : \" + str(mean_price))\n",
        "\n",
        "#Variance of the Sales Price \n",
        "var_price = np.var(housing_data[\"SalePrice\"], ddof=1)\n",
        "print(\"Variance of Sales Price : \" + str(var_price))\n",
        "\n",
        "#Median of Sales Price \n",
        "median_price = np.median(housing_data[\"SalePrice\"])\n",
        "print(\"Median Sales Price : \" + str(median_price))\n",
        "\n",
        "#Skew of Sales Price \n",
        "skew_price = st.skew(housing_data[\"SalePrice\"])\n",
        "print(\"Skew of Sales Price : \" + str(skew_price))"
      ],
      "execution_count": 10,
      "outputs": [
        {
          "output_type": "stream",
          "text": [
            "Mean Price : 180796.0600682594\n",
            "Variance of Sales Price : 6381883615.6884365\n",
            "Median Sales Price : 160000.0\n",
            "Skew of Sales Price : 1.74260737195\n"
          ],
          "name": "stdout"
        }
      ]
    },
    {
      "metadata": {
        "id": "fyy4iBGkVd-W",
        "colab_type": "code",
        "colab": {
          "base_uri": "https://localhost:8080/",
          "height": 377
        },
        "outputId": "0248f9e9-6ed4-4e0e-ed82-b366ae2ba9d0"
      },
      "cell_type": "code",
      "source": [
        "plt.hist(housing_data[\"SalePrice\"])\n",
        "plt.xlabel(\"Price\")\n",
        "plt.ylabel(\"Frequency\")\n",
        "plt.title(\"Histogram of Housing Prices\")\n",
        "plt.show()"
      ],
      "execution_count": 11,
      "outputs": [
        {
          "output_type": "display_data",
          "data": {
            "image/png": "[encoded data removed]",
            "text/plain": [
              "<Figure size 576x396 with 1 Axes>"
            ]
          },
          "metadata": {
            "tags": []
          }
        }
      ]
    },
    {
      "metadata": {
        "id": "i7QN9Sx4V0Cn",
        "colab_type": "text"
      },
      "cell_type": "markdown",
      "source": [
        "Another way we can view our data is with a box and whisker plot."
      ]
    },
    {
      "metadata": {
        "id": "jBBWhUw8V4Qa",
        "colab_type": "code",
        "colab": {
          "base_uri": "https://localhost:8080/",
          "height": 347
        },
        "outputId": "6fd4b2a0-a6d7-4b7e-8b84-06f99166ad53"
      },
      "cell_type": "code",
      "source": [
        "plt.boxplot(housing_data[\"SalePrice\"])\n",
        "plt.ylabel(\"Sales Price\")\n",
        "plt.show()"
      ],
      "execution_count": 12,
      "outputs": [
        {
          "output_type": "display_data",
          "data": {
            "image/png": "[encoded data removed]",
            "text/plain": [
              "<Figure size 576x396 with 1 Axes>"
            ]
          },
          "metadata": {
            "tags": []
          }
        }
      ]
    },
    {
      "metadata": {
        "id": "7HhA6l4EV8ff",
        "colab_type": "text"
      },
      "cell_type": "markdown",
      "source": [
        "Now we shall look at sales price on above ground living room area. "
      ]
    },
    {
      "metadata": {
        "id": "o3FTCoGbV-_q",
        "colab_type": "code",
        "colab": {
          "base_uri": "https://localhost:8080/",
          "height": 347
        },
        "outputId": "664edb29-3d64-4247-abac-56bdc5efa2ba"
      },
      "cell_type": "code",
      "source": [
        "plt.scatter(housing_data[\"Gr Liv Area\"], housing_data[\"SalePrice\"])\n",
        "plt.ylabel(\"Sales Price\")\n",
        "plt.show()"
      ],
      "execution_count": 13,
      "outputs": [
        {
          "output_type": "display_data",
          "data": {
            "image/png": "[encoded data removed]",
            "text/plain": [
              "<Figure size 576x396 with 1 Axes>"
            ]
          },
          "metadata": {
            "tags": []
          }
        }
      ]
    },
    {
      "metadata": {
        "id": "kBI3aveyWCL0",
        "colab_type": "text"
      },
      "cell_type": "markdown",
      "source": [
        "Finally, lets generate our model and see how it predicts Sales Price!!"
      ]
    },
    {
      "metadata": {
        "id": "XtQYksVjWEG-",
        "colab_type": "code",
        "colab": {
          "base_uri": "https://localhost:8080/",
          "height": 453
        },
        "outputId": "6c320cf4-5690-4331-a60e-42044a79d969"
      },
      "cell_type": "code",
      "source": [
        "#we need to reshape the array to make the sklearn gods happy\n",
        "area_reshape = housing_data[\"Gr Liv Area\"].reshape(-1,1)\n",
        "price_reshape = housing_data[\"SalePrice\"].reshape(-1,1)\n",
        "\n",
        "#Generate the Model\n",
        "model = linear_model.LinearRegression(fit_intercept=True)\n",
        "model.fit(area_reshape, price_reshape)\n",
        "price_prediction = model.predict(area_reshape)\n",
        "\n",
        "# plotting the actual points as scatter plot \n",
        "plt.scatter(area_reshape, price_reshape) \n",
        "\n",
        "# plotting the regression line \n",
        "plt.plot(area_reshape, price_prediction, color = \"red\") \n",
        "\n",
        "# putting labels \n",
        "plt.xlabel('Above Ground Living Area') \n",
        "plt.ylabel('Sales Price') \n",
        "\n",
        "# function to show plot \n",
        "plt.show()"
      ],
      "execution_count": 14,
      "outputs": [
        {
          "output_type": "stream",
          "text": [
            "/usr/local/lib/python2.7/dist-packages/ipykernel_launcher.py:1: FutureWarning: reshape is deprecated and will raise in a subsequent release. Please use .values.reshape(...) instead\n",
            "  \"\"\"Entry point for launching an IPython kernel.\n",
            "/usr/local/lib/python2.7/dist-packages/ipykernel_launcher.py:2: FutureWarning: reshape is deprecated and will raise in a subsequent release. Please use .values.reshape(...) instead\n",
            "  \n"
          ],
          "name": "stderr"
        },
        {
          "output_type": "display_data",
          "data": {
            "image/png": "[encoded data removed]",
            "text/plain": [
              "<Figure size 576x396 with 1 Axes>"
            ]
          },
          "metadata": {
            "tags": []
          }
        }
      ]
    },
    {
      "metadata": {
        "id": "USmdFeztWybX",
        "colab_type": "text"
      },
      "cell_type": "markdown",
      "source": [
        "--------------------------------------------\n",
        "\n",
        "## **Applied Logistic Regression**\n",
        "\n",
        "--------------------------------------------"
      ]
    },
    {
      "metadata": {
        "id": "JFUQYIJTW0HQ",
        "colab_type": "code",
        "colab": {}
      },
      "cell_type": "code",
      "source": [
        "#we're going to need a different model, so let's import it\n",
        "from sklearn.linear_model import LogisticRegression\n",
        "from sklearn.model_selection import train_test_split"
      ],
      "execution_count": 0,
      "outputs": []
    },
    {
      "metadata": {
        "id": "f1dYYKRTW2oO",
        "colab_type": "text"
      },
      "cell_type": "markdown",
      "source": [
        "This data set was provided by UCI's Machine Learning Repository: \n",
        "\n",
        "*  [Adult Data Set (Also know as Census Income)](https://archive.ics.uci.edu/ml/datasets/Adult)\n",
        "\n",
        "We already downloaded the dataset at the begining of the notebook, so now let's mess around with it.\n",
        "\n",
        "But before that, we need to read in the data, and pandas has the functions we need to do this\n"
      ]
    },
    {
      "metadata": {
        "id": "e99rgSSKXCe4",
        "colab_type": "code",
        "colab": {
          "base_uri": "https://localhost:8080/",
          "height": 395
        },
        "outputId": "5659f3e3-5c8a-4486-c88c-fb9bd11236bb"
      },
      "cell_type": "code",
      "source": [
        "#read_csv allow us to easily import a whole dataset\n",
        "data = pd.read_csv(\"adult.data\", names =[\"age\",\"workclass\",\"fnlwgt\",\"education\",\"education-num\",\"marital-status\",\"occupation\",\"relationship\",\"race\",\"sex\",\"capital-gain\",\"capital-loss\",\"hours-per-week\",\"native-country\",\"income\"])\n",
        "\n",
        "#this tells us whats in it \n",
        "print(data.info())"
      ],
      "execution_count": 38,
      "outputs": [
        {
          "output_type": "stream",
          "text": [
            "<class 'pandas.core.frame.DataFrame'>\n",
            "RangeIndex: 32561 entries, 0 to 32560\n",
            "Data columns (total 15 columns):\n",
            "age               32561 non-null int64\n",
            "workclass         32561 non-null object\n",
            "fnlwgt            32561 non-null int64\n",
            "education         32561 non-null object\n",
            "education-num     32561 non-null int64\n",
            "marital-status    32561 non-null object\n",
            "occupation        32561 non-null object\n",
            "relationship      32561 non-null object\n",
            "race              32561 non-null object\n",
            "sex               32561 non-null object\n",
            "capital-gain      32561 non-null int64\n",
            "capital-loss      32561 non-null int64\n",
            "hours-per-week    32561 non-null int64\n",
            "native-country    32561 non-null object\n",
            "income            32561 non-null object\n",
            "dtypes: int64(6), object(9)\n",
            "memory usage: 3.7+ MB\n",
            "None\n"
          ],
          "name": "stdout"
        }
      ]
    },
    {
      "metadata": {
        "id": "gYmktJLOXFZL",
        "colab_type": "code",
        "colab": {
          "base_uri": "https://localhost:8080/",
          "height": 719
        },
        "outputId": "fffdabbb-d917-42e9-fe54-1a5c37a95610"
      },
      "cell_type": "code",
      "source": [
        "# data.head() gives us some the the first 5 sets of the data\n",
        "print(data.head())\n",
        "\n",
        "#this is the function that give us some quick info about continous data in the dataset\n",
        "print(data.describe())"
      ],
      "execution_count": 39,
      "outputs": [
        {
          "output_type": "stream",
          "text": [
            "   age          workclass  fnlwgt   education  education-num  \\\n",
            "0   39          State-gov   77516   Bachelors             13   \n",
            "1   50   Self-emp-not-inc   83311   Bachelors             13   \n",
            "2   38            Private  215646     HS-grad              9   \n",
            "3   53            Private  234721        11th              7   \n",
            "4   28            Private  338409   Bachelors             13   \n",
            "\n",
            "        marital-status          occupation    relationship    race      sex  \\\n",
            "0        Never-married        Adm-clerical   Not-in-family   White     Male   \n",
            "1   Married-civ-spouse     Exec-managerial         Husband   White     Male   \n",
            "2             Divorced   Handlers-cleaners   Not-in-family   White     Male   \n",
            "3   Married-civ-spouse   Handlers-cleaners         Husband   Black     Male   \n",
            "4   Married-civ-spouse      Prof-specialty            Wife   Black   Female   \n",
            "\n",
            "   capital-gain  capital-loss  hours-per-week  native-country  income  \n",
            "0          2174             0              40   United-States   <=50K  \n",
            "1             0             0              13   United-States   <=50K  \n",
            "2             0             0              40   United-States   <=50K  \n",
            "3             0             0              40   United-States   <=50K  \n",
            "4             0             0              40            Cuba   <=50K  \n",
            "                age        fnlwgt  education-num  capital-gain  capital-loss  \\\n",
            "count  32561.000000  3.256100e+04   32561.000000  32561.000000  32561.000000   \n",
            "mean      38.581647  1.897784e+05      10.080679   1077.648844     87.303830   \n",
            "std       13.640433  1.055500e+05       2.572720   7385.292085    402.960219   \n",
            "min       17.000000  1.228500e+04       1.000000      0.000000      0.000000   \n",
            "25%       28.000000  1.178270e+05       9.000000      0.000000      0.000000   \n",
            "50%       37.000000  1.783560e+05      10.000000      0.000000      0.000000   \n",
            "75%       48.000000  2.370510e+05      12.000000      0.000000      0.000000   \n",
            "max       90.000000  1.484705e+06      16.000000  99999.000000   4356.000000   \n",
            "\n",
            "       hours-per-week  \n",
            "count    32561.000000  \n",
            "mean        40.437456  \n",
            "std         12.347429  \n",
            "min          1.000000  \n",
            "25%         40.000000  \n",
            "50%         40.000000  \n",
            "75%         45.000000  \n",
            "max         99.000000  \n"
          ],
          "name": "stdout"
        }
      ]
    },
    {
      "metadata": {
        "id": "NCFuiNn_XIf-",
        "colab_type": "text"
      },
      "cell_type": "markdown",
      "source": [
        "**Now here is the Qustion:**\n",
        "\n",
        "\n",
        ">*Which one of these parameters are best in figuring out if someone is going to be making more then 50k a year?*"
      ]
    },
    {
      "metadata": {
        "id": "ML55pqWAXJ-A",
        "colab_type": "code",
        "colab": {}
      },
      "cell_type": "code",
      "source": [
        "#put the name of the parameter you want to test\n",
        "test = \"\""
      ],
      "execution_count": 0,
      "outputs": []
    },
    {
      "metadata": {
        "id": "9sHaFi7dYOt6",
        "colab_type": "text"
      },
      "cell_type": "markdown",
      "source": [
        "Ploting will help with visualising the data"
      ]
    },
    {
      "metadata": {
        "id": "q9EgNaNUYZYA",
        "colab_type": "code",
        "colab": {
          "base_uri": "https://localhost:8080/",
          "height": 347
        },
        "outputId": "22e4a7a1-2c36-4904-9be5-555669dd5a58"
      },
      "cell_type": "code",
      "source": [
        "#little baby helper function\n",
        "def incomeFixer(x):\n",
        "  if x == \" <=50K\":\n",
        "    return 0\n",
        "  else:\n",
        "    return 1\n",
        "\n",
        "#change the income data into 0's and 1's\n",
        "data[\"income\"] = data.apply(lambda row: incomeFixer(row['income']), axis=1)\n",
        "\n",
        "#ploting \n",
        "plt.scatter(data[test], data['income'], color= \"black\")\n",
        "plt.show()"
      ],
      "execution_count": 41,
      "outputs": [
        {
          "output_type": "display_data",
          "data": {
            "image/png": "[encoded data removed]",
            "text/plain": [
              "<Figure size 576x396 with 1 Axes>"
            ]
          },
          "metadata": {
            "tags": []
          }
        }
      ]
    },
    {
      "metadata": {
        "id": "1bOmNuqwXMmr",
        "colab_type": "code",
        "colab": {}
      },
      "cell_type": "code",
      "source": [
        "#but before we make our model, we need to modify our data a bit\n",
        "\n",
        "\n",
        "#get the data we are going to make the model with \n",
        "x = np.array(data[test])\n",
        "y = np.array(data[\"income\"])\n",
        "\n",
        "#again, lets make the scikitlearn gods happy\n",
        "x = x.reshape(-1,1)\n",
        "\n",
        "#Making the test-train split\n",
        "x_train, x_test, y_train, y_test = train_test_split(x ,y ,test_size=0.25, random_state=42)"
      ],
      "execution_count": 0,
      "outputs": []
    },
    {
      "metadata": {
        "id": "oTO9nrCiXNxe",
        "colab_type": "code",
        "colab": {
          "base_uri": "https://localhost:8080/",
          "height": 89
        },
        "outputId": "372e2ac6-b7bb-4417-d9d3-6f4743a28bea"
      },
      "cell_type": "code",
      "source": [
        "#now make data model!\n",
        "logreg = LogisticRegression(solver='liblinear')\n",
        "logreg.fit(x_train,y_train)"
      ],
      "execution_count": 34,
      "outputs": [
        {
          "output_type": "execute_result",
          "data": {
            "text/plain": [
              "LogisticRegression(C=1.0, class_weight=None, dual=False, fit_intercept=True,\n",
              "          intercept_scaling=1, max_iter=100, multi_class='warn',\n",
              "          n_jobs=None, penalty='l2', random_state=None, solver='liblinear',\n",
              "          tol=0.0001, verbose=0, warm_start=False)"
            ]
          },
          "metadata": {
            "tags": []
          },
          "execution_count": 34
        }
      ]
    },
    {
      "metadata": {
        "id": "SY8_Xd3SXPQw",
        "colab_type": "code",
        "colab": {
          "base_uri": "https://localhost:8080/",
          "height": 35
        },
        "outputId": "05cc697b-3354-489e-fc3a-caacd724284d"
      },
      "cell_type": "code",
      "source": [
        "#now need to test the model's performance\n",
        "print(logreg.score(x_test,y_test))"
      ],
      "execution_count": 35,
      "outputs": [
        {
          "output_type": "stream",
          "text": [
            "0.802972607787741\n"
          ],
          "name": "stdout"
        }
      ]
    }
  ]
}
