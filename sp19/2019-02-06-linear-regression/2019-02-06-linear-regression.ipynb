{
 "cells": [
  {
   "cell_type": "markdown",
   "metadata": {
    "name": "Starting with the basics, regression and plotting",
    "type": "sigai_heading"
   },
   "source": [
    "<img src=\"https://ucfai.org//course/sp19/linear-regression/banner.jpg\">\n",
    "\n",
    "<div class=\"col-12\">\n",
    "    <a class=\"btn btn-success btn-block\" href=\"https://ucfai.org/signup\">\n",
    "        First Attendance? Sign Up!\n",
    "    </a>\n",
    "</div>\n",
    "\n",
    "<div class=\"col-12\">\n",
    "    <h1> Starting with the basics, regression and plotting </h1>\n",
    "    <hr>\n",
    "</div>\n",
    "\n",
    "<div style=\"line-height: 2em;\">\n",
    "    <p>by: \n",
    "        <strong> Liam Jarvis</strong>\n",
    "        (<a href=\"https://github.com/JarvisEQ\">@JarvisEQ</a>)\n",
    "    \n",
    "        <strong> John Muchovej</strong>\n",
    "        (<a href=\"https://github.com/ionlights\">@ionlights</a>)\n",
    "     on 2019-02-06</p>\n",
    "</div>"
   ]
  }
 ],
 "metadata": {
  "ucfai": {
   "authors": [
    {
     "author": "Liam Jarvis",
     "github": "JarvisEQ",
     "web": null
    },
    {
     "author": "John Muchovej",
     "github": "ionlights",
     "web": null
    }
   ],
   "date": "2019-02-06",
   "description": "You always start with the basics, and with Data Science it's no different! We'll be getting our feet wet with some simple, but powerful, models and  demonstrate their power by applying them to real world data.",
   "tags": [],
   "title": "Starting with the basics, regression and plotting"
  }
 },
 "nbformat": 4,
 "nbformat_minor": 2
}
