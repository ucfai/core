{
 "cells": [
  {
   "cell_type": "markdown",
   "metadata": {
    "name": "Getting into Machine Learning Research",
    "type": "sigai_heading"
   },
   "source": [
    "<img src=\"https://ucfai.org//course/sp19/getting-into-research/banner.jpg\">\n",
    "\n",
    "<div class=\"col-12\">\n",
    "    <a class=\"btn btn-success btn-block\" href=\"https://ucfai.org/signup\">\n",
    "        First Attendance? Sign Up!\n",
    "    </a>\n",
    "</div>\n",
    "\n",
    "<div class=\"col-12\">\n",
    "    <h1> Getting into Machine Learning Research </h1>\n",
    "    <hr>\n",
    "</div>\n",
    "\n",
    "<div style=\"line-height: 2em;\">\n",
    "    <p>by: \n",
    "        <strong> John Muchovej</strong>\n",
    "        (<a href=\"https://github.com/jmuchovej\">@jmuchovej</a>)\n",
    "     on 2019-02-21</p>\n",
    "</div>"
   ]
  }
 ],
 "metadata": {
  "ucfai": {
   "authors": [
    {
     "author": "John Muchovej",
     "github": "jmuchovej",
     "web": null
    }
   ],
   "date": "2019-02-21",
   "description": "Some of your best time spent as an undergrad happens through research. You have the opportunity to world with experts in their field, just by attending a university. Though, most of us squander that opportunity because reaching out is daunting. Let's overcome that challenge together with some tips and tricks from current undergrad researchers at UCF!",
   "tags": [],
   "title": "Getting into Machine Learning Research"
  }
 },
 "nbformat": 4,
 "nbformat_minor": 2
}
