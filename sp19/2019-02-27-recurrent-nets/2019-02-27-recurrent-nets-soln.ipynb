{
 "cells": [
  {
   "cell_type": "markdown",
   "metadata": {
    "name": "Who Needs Show Writers Nowadays?",
    "type": "sigai_heading"
   },
   "source": [
    "<img src=\"https://ucfai.org//course/sp19/recurrent-nets/banner.jpg\">\n",
    "\n",
    "<div class=\"col-12\">\n",
    "    <a class=\"btn btn-success btn-block\" href=\"https://ucfai.org/signup\">\n",
    "        First Attendance? Sign Up!\n",
    "    </a>\n",
    "</div>\n",
    "\n",
    "<div class=\"col-12\">\n",
    "    <h1> Who Needs Show Writers Nowadays? </h1>\n",
    "    <hr>\n",
    "</div>\n",
    "\n",
    "<div style=\"line-height: 2em;\">\n",
    "    <p>by: \n",
    "        <strong> Brandon Silva</strong>\n",
    "        (<a href=\"https://github.com/brandons209\">@brandons209</a>)\n",
    "        <strong> John Muchovej</strong>\n",
    "        (<a href=\"https://github.com/ionlights\">@ionlights</a>)\n",
    "     on 2019-02-27</p>\n",
    "</div>"
   ]
  },
  {
   "cell_type": "markdown",
   "metadata": {},
   "source": [
    "# Generate new Simpson scripts with LSTM RNN\n",
    "## Link to slides [here](https://drive.google.com/open?id=1-BB-krsxzvpAgLZ19ul1r16ZGfe3BHSG9LFK5VqZFs8)\n",
    "In this project, we will be using an LSTM with the help of an Embedding layer to train our network on an episode from the Simpsons, specifically the episode \"Moe's Tavern\". This is taken from [this](https://www.kaggle.com/wcukierski/the-simpsons-by-the-data) dataset on kaggle. This model can be applied to any text. We could use more episodes from the Simpsons, a book, articles, wikipedia, etc. It will learn the semantic word associations and being able to generate text in relation to what it is trained on. Try it with the Harry Potter book included in this project."
   ]
  },
  {
   "cell_type": "markdown",
   "metadata": {},
   "source": [
    "First, lets import all of our libraries we need. We utilize Keras' Tokenizer method for tokenizing our inputs, and pad_sequences for generating our sequences. Our embedding layer has a fixed input size, so instead of passing our entire script at once we supply a sequence of characters with a length we can choose. Documentation can be found for [tokenizer](https://keras.io/preprocessing/text/) and [pad_sequences](https://keras.io/preprocessing/sequence/).\n",
    "\n",
    "I have also created a helper function to handle some loading and saving of dictionaries we will make, and tokenizing punctuation."
   ]
  },
  {
   "cell_type": "code",
   "execution_count": null,
   "metadata": {},
   "outputs": [],
   "source": [
    "#general imports\n",
    "import helper #\n",
    "import numpy as np\n",
    "import time\n",
    "import os\n",
    "\n",
    "#pre-processing\n",
    "from keras.preprocessing.text import Tokenizer\n",
    "from keras.preprocessing.sequence import pad_sequences\n",
    "\n",
    "#model\n",
    "from keras.models import Sequential\n",
    "from keras.layers import Dropout, Dense\n",
    "from keras.layers import Embedding, LSTM\n",
    "from keras.models import load_model\n",
    "\n",
    "#training\n",
    "from keras.callbacks import ModelCheckpoint, TensorBoard\n",
    "from keras import optimizers as opt"
   ]
  },
  {
   "cell_type": "markdown",
   "metadata": {},
   "source": [
    "## Grab important files and create folders\n",
    "Here we download the dataset and save it to the folder \"data\" that we create. There is also a python script file with helper functions I have written to help with processing the data.\n",
    "\n",
    "To do this, we download a script called gdown that allows downloading files from Google Drive from the command line."
   ]
  },
  {
   "cell_type": "code",
   "execution_count": null,
   "metadata": {},
   "outputs": [],
   "source": [
    "!wget https://raw.githubusercontent.com/circulosmeos/gdown.pl/master/gdown.pl\n",
    "!chmod +x gdown.pl\n",
    "!mkdir data\n",
    "!mkdir data/dictionaries\n",
    "!mkdir saved_model_data\n",
    "!mkdir tensorboard_logs\n",
    "\n",
    "!./gdown.pl https://drive.google.com/file/d/1dgOnAVDDTDAg59SYcuu-aBzva7gk5YFk/view helper.py\n",
    "!./gdown.pl https://drive.google.com/file/d/1F8Jd_0fhlT5kCwd0m5kUDS2KyiVkOSXy/view data/moes_tavern_lines.txt"
   ]
  },
  {
   "cell_type": "markdown",
   "metadata": {},
   "source": [
    "## Dataset statistics\n",
    "Before starting our project, we should take a look at the data we are dealing with."
   ]
  },
  {
   "cell_type": "code",
   "execution_count": null,
   "metadata": {},
   "outputs": [],
   "source": [
    "script_text = helper.load_script('data/moes_tavern_lines.txt')\n",
    "\n",
    "print('----------Dataset Stats-----------')\n",
    "print('Approximate number of unique words: {}'.format(len({word: None for word in script_text.split()})))\n",
    "scenes = script_text.split('\\n\\n')\n",
    "print('Number of scenes: {}'.format(len(scenes)))\n",
    "sentence_count_scene = [scene.count('\\n') for scene in scenes]\n",
    "print('Average number of sentences in each scene: {:.0f}'.format(np.average(sentence_count_scene)))\n",
    "\n",
    "sentences = [sentence for scene in scenes for sentence in scene.split('\\n')]\n",
    "print('Number of lines: {}'.format(len(sentences)))\n",
    "word_count_sentence = [len(sentence.split()) for sentence in sentences]\n",
    "print('Average number of words in each line: {:.0f}'.format(np.average(word_count_sentence)))"
   ]
  },
  {
   "cell_type": "markdown",
   "metadata": {},
   "source": [
    "## Tokenize Text\n",
    "In order to prepare our data for our network, we need to tokenize the words. That is, we will be converting every unique word and punctuation into an integer. Before we do that, we need to make the punctuation more easier to convert to a number. For example, we will be taking any new lines and converting them to the word \"||return||\". This makes the text easier to tokenize and pass into our model. The functions that do this are in the helper.py file.\n",
    "\n",
    "A note on Keras' tokenizer function. 0 is a reserved integer, that is not used to represent any words. So our integers for our words will start at 1. This is needed as when we use the model to generate new text, it needs a starting point, known as a seed. If this seed is smaller than our sequence length, then the function pad_sequences will pad that seed with 0's in order to represent \"nothing\". This help reduces noise in the network.\n",
    "\n",
    "This is the list of punctuation and special characters that are converted, notice that spaces are put before and after to make splitting the text easier:\n",
    "- '!' : ' ||exclaimation_mark|| '\n",
    "- ',' : ' ||comma|| '\n",
    "- '\"' : ' ||quotation_mark|| '\n",
    "- ';' : ' ||semicolon|| '\n",
    "- '.' : ' ||period|| '\n",
    "- '?' : ' ||question_mark|| '\n",
    "- '(' : ' ||left_parentheses|| '\n",
    "- ')' : ' ||right_parentheses|| '\n",
    "- '--' : ' ||dash|| '\n",
    "- '\\n' : ' ||return|| '\n",
    "- ':' : ' ||colon|| '\n",
    "\n",
    "We also convert all of the text to lowercase as this reduces the vocabulary list and trains the network faster."
   ]
  },
  {
   "cell_type": "code",
   "execution_count": null,
   "metadata": {},
   "outputs": [],
   "source": [
    "tokens = Tokenizer(filters='', lower=True, char_level=False)#keras tokenizer function, char_level is for setting the tokenizer to treat every character as a token, instead of words\n",
    "script_text = helper.tokenize_punctuation(script_text) #helper function to convert non-word characters\n",
    "script_text = script_text.lower()\n",
    "\n",
    "script_text = script_text.split()#splits the text based on spaces into a list\n",
    "\n",
    "tokens.fit_on_texts(script_text)#this will apply the tokenizer to the text."
   ]
  },
  {
   "cell_type": "markdown",
   "metadata": {},
   "source": [
    "## Creating Conversion Dictionaries and Input Data\n",
    "Now that the tokens have been generated, we will create some dictionaries to convert our tokenized integers back to words, and words to integers. We will also generate our inputs and targets to pass into our model. \n",
    "\n",
    "To do this, we need to specify the sequence length, which is the amount of words we pass into the model at one time. I choose 12, but feel free to change this. A sequence length of 1 is just one word, so we could get better output depending on our sequence length. We use the helper function gen_sequences to do this for us. Then we can save these for testing.\n",
    "\n",
    "The targets are simply just the next word in our text. So if we have a sentence: \"Hi, how are you?\" and we input \"Hi, how are you\" our target for this sentence will be \"?\"."
   ]
  },
  {
   "cell_type": "code",
   "execution_count": null,
   "metadata": {},
   "outputs": [],
   "source": [
    "sequence_length = 12\n",
    "\n",
    "word_to_int = tokens.word_index #grab word : int dict\n",
    "int_to_word = {int: word for word, int in word_to_int.items()} #flip word_to_int dict to get int to word\n",
    "int_script_text = np.array([word_to_int[word] for word in script_text], dtype=np.int32) #convert text to integers\n",
    "int_script_text, targets = helper.gen_sequences(int_script_text, sequence_length) #transform int_script_text to sequences of sequence_length and generate targets\n",
    "vocab_length = len(word_to_int) + 1 #vocab_length for embedding needs to 1 one to length of the dictionary.\n",
    "\n",
    "print(\"Number of vocabulary: {}\".format(vocab_length))"
   ]
  },
  {
   "cell_type": "code",
   "execution_count": null,
   "metadata": {},
   "outputs": [],
   "source": [
    "#save dictionaries for use with testing model, also need to save sequence length since it needs to be the same when testing\n",
    "helper.save_dict(word_to_int, 'word_to_int.pkl')\n",
    "helper.save_dict(int_to_word, 'int_to_word.pkl')\n",
    "helper.save_dict(sequence_length, 'sequence_length.pkl')"
   ]
  },
  {
   "cell_type": "markdown",
   "metadata": {},
   "source": [
    "## Building the Model\n",
    "Here is the fun part, building our model. We will use LSTM cells and an Embedding layer, with a fully connected Dense layer at the end for the prediction. Documentation for LSTM cells can be found [here](https://keras.io/layers/recurrent/) and for embedding [here](https://keras.io/layers/embeddings/).\n",
    "\n",
    "An LSTM layer can be defined simply as:    \n",
    "```\n",
    "LSTM(num_cells, dropout=drop, recurrent_dropout=drop, return_sequences=True)\n",
    "```\n",
    "From the docs:\n",
    "- dropout: Float between 0 and 1. Fraction of the units to drop for the linear transformation of the inputs.\n",
    "- recurrent_dropout: Float between 0 and 1. Fraction of the units to drop for the linear transformation of the recurrent state.\n",
    "- return_sequences: Boolean. Whether to return the last output in the output sequence, or the full sequence.\n",
    "\n",
    "For LSTM layers up until the last LSTM layer, return_sequences is set to True to tell the layer to output the full sequence with its predictions, instead of just the predictions, which allows the next LSTM layer to learn from the input text, and what the LSTM layer added to it before hand. The last layer will leave this unset since we want it to return the last output in the sequence as that will be our final output for the Dense layer, using softmax activation.\n",
    "\n",
    "An embedding layer can be defined as:\n",
    "```\n",
    "Embedding(input_dim, size, input_length=)\n",
    "```\n",
    "Our input dimension will be the length of our vocabulary, the size can be whatever you want to set it at, my case I used 300, and the input_length is our sequence_length we defined earlier.\n",
    "\n",
    "Our model will predict the next word based in the input sequence. We could also predict the next two words, or predict entire sentences. For now though we will just stick with one word."
   ]
  },
  {
   "cell_type": "code",
   "execution_count": null,
   "metadata": {},
   "outputs": [],
   "source": [
    "model = Sequential()\n",
    "### BEGIN SOLUTION\n",
    "model.add(Embedding(vocab_length, 300, input_length=sequence_length))\n",
    "model.add(LSTM(400, dropout=0.3, recurrent_dropout=0.3, return_sequences=True))\n",
    "model.add(LSTM(400, dropout=0.3, recurrent_dropout=0.3))\n",
    "model.add(Dense(vocab_length, activation='softmax'))\n",
    "### END SOLUTION"
   ]
  },
  {
   "cell_type": "markdown",
   "metadata": {},
   "source": [
    "## Hyperparameters and Compiling the Model\n",
    "The Adam optimizer is very effective and has built in dynamic reduction of the learning rate, so let's use that. We will also set the learning rate, epochs, and batch size.\n",
    "\n",
    "You may assume our loss function will be categorical_crossentropy. In our case, this will not work, as that loss function requires our labels/targets to be one-hot encoded. Keras provides another loss function, called  sparse_categorical_crossentropy. This applies categorical_crossentropy, but uses labels that are not one-hot encoded. Since our labels will just be numbers from 1 to vocab_length, this works well for us. "
   ]
  },
  {
   "cell_type": "code",
   "execution_count": null,
   "metadata": {},
   "outputs": [],
   "source": [
    "learn_rate = 0.001\n",
    "optimizer = opt.Adam(lr=learn_rate)\n",
    "epochs = 5\n",
    "batch_size = 32\n",
    "\n",
    "model.compile(optimizer=optimizer, loss='sparse_categorical_crossentropy', metrics=['accuracy'])\n",
    "model.summary()"
   ]
  },
  {
   "cell_type": "markdown",
   "metadata": {},
   "source": [
    "## Training\n",
    "Now it is time to train the model. We will use the ModelCheckpoint and tensorboard callbacks for saving the best weights and allowing us to view graphs of loss and accuracy of our model as it is training. Since we are not using validation data, our monitor for our ModelCheckpoint callback will be loss. We do not use validation data because we want the model to be closely related to how our text is constructed.\n",
    "\n",
    "The model is then saved after training."
   ]
  },
  {
   "cell_type": "code",
   "execution_count": null,
   "metadata": {},
   "outputs": [],
   "source": [
    "#load weights if continuing training\n",
    "model.load_weights(\"saved_model_data/model.best.weights.hdf5\")"
   ]
  },
  {
   "cell_type": "code",
   "execution_count": null,
   "metadata": {},
   "outputs": [],
   "source": [
    "start_time = time.strftime(\"%a_%b_%d_%Y_%H:%M\", time.localtime())\n",
    "#view tensorboard with command: tensorboard --logdir=tensorboard_logs\n",
    "os.makedirs(\"tensorboard_logs\", exist_ok=True)\n",
    "ten_board = TensorBoard(log_dir='tensorboard_logs/{}'.format(start_time), write_images=True)\n",
    "weight_save_path = 'saved_model_data/{}.best.weights.hdf5'.format(start_time)\n",
    "checkpointer = ModelCheckpoint(weight_save_path, monitor='loss', verbose=1, save_best_only=True, save_weights_only=True)\n",
    "print(\"Tensorboard logs for this run are in: {}, weights will be saved in {}\\n\".format('tensorboard_logs/{}'.format(start_time), weight_save_path))\n",
    "\n",
    "model.fit(int_script_text, targets, epochs=epochs, batch_size=batch_size, callbacks=[checkpointer, ten_board])\n",
    "model.load_weights(weight_save_path)\n",
    "model.save('saved_model_data/model.{}.h5'.format(start_time))"
   ]
  },
  {
   "cell_type": "markdown",
   "metadata": {},
   "source": [
    "## Testing the Model\n",
    "Testing the model simply requires that we convert the output integer back into a word and build our generated text, starting from a seed we define. However, we might get better results by instead of doing an argmax to find the highest probability of what the next word should be, we can take a sample of the top possible words and choose one from there. \n",
    "\n",
    "This is done by taking a \"temperature\" which defines how many predictions we will consider as the next possible word. A lower temperature means the word picked will be closer to the word with the highest probability. Then using a random selection to choose a word. Try it with using both. Setting a temperature of 0 will just use argmax on the entire prediction."
   ]
  },
  {
   "cell_type": "code",
   "execution_count": null,
   "metadata": {},
   "outputs": [],
   "source": [
    "#download weights, model, and dictionaries if using my model:\n",
    "!./gdown.pl https://drive.google.com/file/d/1UPUkyo5D2Q-WK1d1NHUEA4lU3AC1fFAM/view data/dictionaries/int_to_word.pkl\n",
    "!./gdown.pl https://drive.google.com/file/d/1UPUkyo5D2Q-WK1d1NHUEA4lU3AC1fFAM/view data/dictionaries/sequence_length.pkl\n",
    "!./gdown.pl https://drive.google.com/file/d/1fCwa1KnaAMJTriM4hmIpUAbwKF3rkKU1/view data/dictionaries/word_to_int.pkl\n",
    "\n",
    "!./gdown.pl https://drive.google.com/file/d/1v5XzYZ3X3xKlJUl-EyRolq-FbwFwvw3n/view saved_model_data/model.best.weights.hdf5\n",
    "!./gdown.pl https://drive.google.com/file/d/1IJnQA4vKPAesZlF6Sc0hDC_DXa7WKdcY/view saved_model_data/model.Tue_Jul_24_2018_01\\:22.h5"
   ]
  },
  {
   "cell_type": "code",
   "execution_count": null,
   "metadata": {},
   "outputs": [],
   "source": [
    "#load model if returning to this notebook for testing, model that I trained:\n",
    "model = load_model('saved_model_data/model.Tue_Jul_24_2018_01:22.h5')"
   ]
  },
  {
   "cell_type": "code",
   "execution_count": null,
   "metadata": {},
   "outputs": [],
   "source": [
    "def sample(prediction, temp=0):\n",
    "    if temp <= 0:\n",
    "        return np.argmax(prediction)\n",
    "    prediction = prediction[0]\n",
    "    prediction = np.asarray(prediction).astype('float64')\n",
    "    prediction = np.log(prediction) / temp\n",
    "    expo_prediction = np.exp(prediction)\n",
    "    prediction = expo_prediction / np.sum(expo_prediction)\n",
    "    probabilities = np.random.multinomial(1, prediction, 1)\n",
    "    return np.argmax(probabilities)\n",
    "\n",
    "#generate new script\n",
    "def generate_text(seed_text, num_words, temp=0):\n",
    "    input_text= seed_text\n",
    "    for _  in range(num_words):\n",
    "        #tokenize text to ints\n",
    "        int_text = helper.tokenize_punctuation(input_text)\n",
    "        int_text = int_text.lower()\n",
    "        int_text = int_text.split()\n",
    "        int_text = np.array([word_to_int[word] for word in int_text], dtype=np.int32)\n",
    "        #pad text if it is too short, pads with zeros at beginning of text, so shouldnt have too much noise added\n",
    "        int_text = pad_sequences([int_text], maxlen=sequence_length)\n",
    "        #predict next word:\n",
    "        prediction = model.predict(int_text, verbose=0)\n",
    "        output_word = int_to_word[sample(prediction, temp=temp)]\n",
    "        #append to the result\n",
    "        input_text += ' ' + output_word\n",
    "    #convert tokenized punctuation and other characters back\n",
    "    result = helper.untokenize_punctuation(input_text)\n",
    "    return result"
   ]
  },
  {
   "cell_type": "code",
   "execution_count": null,
   "metadata": {},
   "outputs": [],
   "source": [
    "#input amount of words to generate, and the seed text, good options are 'Homer_Simpson:', 'Bart_Simpson:', 'Moe_Szyslak:', or other character's names.:\n",
    "seed = 'Homer_Simpson:'\n",
    "num_words = 200\n",
    "temp = 0.2\n",
    "\n",
    "#print amount of characters specified.\n",
    "print(\"Starting seed is: {}\\n\\n\".format(seed))\n",
    "print(generate_text(seed, num_words, temp=temp))"
   ]
  },
  {
   "cell_type": "markdown",
   "metadata": {},
   "source": [
    "## Closing Thoughts\n",
    "Remember that this model can be applied to any type of text, even code! So go and try different texts, like the (not) included Harry Potter book. (for time purposes, I would not use the whole book, as training would take a long time.)\n",
    "\n",
    "Try different hyperparameters and model sizes, as you can get some better results."
   ]
  }
 ],
 "metadata": {
  "kernelspec": {
   "display_name": "Python 3",
   "language": "python",
   "name": "python3"
  },
  "language_info": {
   "codemirror_mode": {
    "name": "ipython",
    "version": 3
   },
   "file_extension": ".py",
   "mimetype": "text/x-python",
   "name": "python",
   "nbconvert_exporter": "python",
   "pygments_lexer": "ipython3",
   "version": "3.7.2"
  },
  "ucfai": {
   "authors": [
    {
     "author": "Brandon Silva",
     "github": "brandons209",
     "web": null
    },
    {
     "author": "John Muchovej",
     "github": "ionlights",
     "web": null
    }
   ],
   "date": "2019-02-27",
   "description": "This lecture is all about Recurrent Neural Networks. These are networks with memory, they can learn on data that is sequential in nature, such as speech, text, videos, gestures, traffic, stock prices, and many types of medical data. Different types of RNNs and strategies for building them will also be covered. The project will be building a LSTM-RNN to generate new original scripts for  the TV series “The Simpsons”. Come and find out if our networks can become better writers for the show!",
   "tags": [],
   "title": "Who Needs Show Writers Nowadays?"
  }
 },
 "nbformat": 4,
 "nbformat_minor": 2
}
