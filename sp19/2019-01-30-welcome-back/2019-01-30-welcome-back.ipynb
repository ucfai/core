{
 "cells": [
  {
   "cell_type": "markdown",
   "metadata": {
    "name": "Welcome back! Featuring Supercomputers",
    "type": "sigai_heading"
   },
   "source": [
    "<img src=\"https://ucfai.org//course/sp19/welcome-back/banner.jpg\">\n",
    "\n",
    "<div class=\"col-12\">\n",
    "    <a class=\"btn btn-success btn-block\" href=\"https://ucfai.org/signup\">\n",
    "        First Attendance? Sign Up!\n",
    "    </a>\n",
    "</div>\n",
    "\n",
    "<div class=\"col-12\">\n",
    "    <h1> Welcome back! Featuring Supercomputers </h1>\n",
    "    <hr>\n",
    "</div>\n",
    "\n",
    "<div style=\"line-height: 2em;\">\n",
    "    <p>by: \n",
    "        <strong> John Muchovej</strong>\n",
    "        (<a href=\"https://github.com/ionlights\">@ionlights</a>)\n",
    "     on 2019-01-30</p>\n",
    "</div>"
   ]
  }
 ],
 "metadata": {
  "ucfai": {
   "authors": [
    {
     "author": "John Muchovej",
     "github": "ionlights",
     "web": null
    }
   ],
   "date": "2019-01-30",
   "description": "Welcome back to SIGAI! We'll be re-introducing AI@UCF for newcomers and refreshing it for veterans; following that, we'll cover some club logistics, reveal our plans for the semester, and finish off with setting everyone up on the UCF Supercomputer, from which we'll be streaming all future meetings!",
   "tags": [],
   "title": "Welcome back! Featuring Supercomputers"
  }
 },
 "nbformat": 4,
 "nbformat_minor": 2
}
