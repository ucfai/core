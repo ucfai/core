{
 "cells": [
  {
   "cell_type": "markdown",
   "metadata": {
    "name": "Welcome back! Featuring Supercomputers",
    "type": "sigai_heading"
   },
   "source": [
    "<img src=\"https://ucfai.org//course/sp19/welcome-back/banner.jpg\">\n",
    "\n",
    "<div class=\"col-12\">\n",
    "    <a class=\"btn btn-success btn-block\" href=\"https://ucfai.org/signup\">\n",
    "        First Attendance? Sign Up!\n",
    "    </a>\n",
    "</div>\n",
    "\n",
    "<div class=\"col-12\">\n",
    "    <h1> Welcome back! Featuring Supercomputers </h1>\n",
    "    <hr>\n",
    "</div>\n",
    "\n",
    "<div style=\"line-height: 2em;\">\n",
    "    <p>by: \n",
    "        <strong> John Muchovej</strong>\n",
    "        (<a href=\"https://github.com/ionlights\">@ionlights</a>)\n",
    "     on 2019-01-30</p>\n",
    "</div>"
   ]
  },
  {
   "cell_type": "markdown",
   "metadata": {},
   "source": [
    "**Description:** Welcome back to SIGAI! We'll be re-introducing AI@UCF for newcomers and\n",
    "    refreshing it for veterans; following that, we'll cover some club logistics,\n",
    "    reveal our plans for the semester, and finish off with setting everyone\n",
    "    up on the UCF Supercomputer, from which we'll be streaming all future\n",
    "    meetings!"
   ]
  },
  {
   "cell_type": "markdown",
   "metadata": {},
   "source": [
    "[**View the Slide Deck**](https://docs.google.com/presentation/d/1ao6UhsjFQwxcP2Go5j7fv6c8RmsnnEL7AyPwHZKcPng/edit)"
   ]
  },
  {
   "cell_type": "markdown",
   "metadata": {},
   "source": [
    "## Notebook Overhead"
   ]
  },
  {
   "cell_type": "markdown",
   "metadata": {},
   "source": [
    "As normal, we'll import the majority of our needed libraries here. *Don't worry if this looks like gibberish, you'll become familiar with this over the course of the semester.*"
   ]
  },
  {
   "cell_type": "code",
   "execution_count": 3,
   "metadata": {},
   "outputs": [],
   "source": [
    "import tensorflow as tf\n",
    "\n",
    "from tensorflow import keras\n",
    "from tensorflow.keras.layers import Dense\n",
    "from tensorflow.keras import Sequential\n",
    "\n",
    "import numpy as np"
   ]
  },
  {
   "cell_type": "code",
   "execution_count": 2,
   "metadata": {},
   "outputs": [
    {
     "data": {
      "text/plain": [
       "'TensorFlow: v1.12.0; Keras: v2.1.6-tf'"
      ]
     },
     "metadata": {},
     "output_type": "display_data"
    }
   ],
   "source": [
    "display(f\"TensorFlow: v{tf.VERSION}; Keras: v{keras.__version__}\")"
   ]
  },
  {
   "cell_type": "markdown",
   "metadata": {},
   "source": [
    "Now, we'll setup a relatively straightforward Neural Network takes in random data and classifies it – ultimately, this isn't the purpose of this notebook. (This is notebook's primarily used as a tool to introduce Colab, JupyterHub, and self-supported usage of our lectures.)"
   ]
  },
  {
   "cell_type": "markdown",
   "metadata": {},
   "source": [
    "## Creating the Model"
   ]
  },
  {
   "cell_type": "markdown",
   "metadata": {},
   "source": [
    "Below, we're creating a `Sequential` model using Keras. Just think of this as an assembly line of \"Layers\" – no worries, you'll be learning about these concepts in the next month from the different Neural Network lectures."
   ]
  },
  {
   "cell_type": "code",
   "execution_count": 4,
   "metadata": {},
   "outputs": [],
   "source": [
    "model = Sequential()\n",
    "model.add(Dense(64, activation=\"relu\"))\n",
    "model.add(Dense(64, activation=\"relu\"))\n",
    "model.add(Dense(10, activation=\"softmax\"))\n",
    "\n",
    "model.compile(optimizer=tf.train.AdamOptimizer(0.001),\n",
    "              loss='categorical_crossentropy',\n",
    "              metrics=['accuracy'])"
   ]
  },
  {
   "cell_type": "markdown",
   "metadata": {},
   "source": [
    "All Machine Learning is based on data... so, we have some randomly generated data to demo the Network and make sure that everything works as expected."
   ]
  },
  {
   "cell_type": "code",
   "execution_count": 5,
   "metadata": {},
   "outputs": [
    {
     "name": "stdout",
     "output_type": "stream",
     "text": [
      "Train on 1000 samples, validate on 100 samples\n",
      "Epoch 1/10\n",
      "1000/1000 [==============================] - 1s 848us/step - loss: 11.5737 - acc: 0.1020 - val_loss: 11.5987 - val_acc: 0.1000\n",
      "Epoch 2/10\n",
      "1000/1000 [==============================] - 0s 91us/step - loss: 11.5305 - acc: 0.1030 - val_loss: 11.5905 - val_acc: 0.1000\n",
      "Epoch 3/10\n",
      "1000/1000 [==============================] - 0s 88us/step - loss: 11.5215 - acc: 0.1080 - val_loss: 11.5893 - val_acc: 0.0900\n",
      "Epoch 4/10\n",
      "1000/1000 [==============================] - 0s 96us/step - loss: 11.5149 - acc: 0.1090 - val_loss: 11.5949 - val_acc: 0.1100\n",
      "Epoch 5/10\n",
      "1000/1000 [==============================] - 0s 98us/step - loss: 11.5113 - acc: 0.1150 - val_loss: 11.5923 - val_acc: 0.0900\n",
      "Epoch 6/10\n",
      "1000/1000 [==============================] - 0s 90us/step - loss: 11.5047 - acc: 0.1330 - val_loss: 11.5956 - val_acc: 0.1300\n",
      "Epoch 7/10\n",
      "1000/1000 [==============================] - 0s 84us/step - loss: 11.4998 - acc: 0.1290 - val_loss: 11.5921 - val_acc: 0.1000\n",
      "Epoch 8/10\n",
      "1000/1000 [==============================] - 0s 81us/step - loss: 11.4943 - acc: 0.1380 - val_loss: 11.5950 - val_acc: 0.1000\n",
      "Epoch 9/10\n",
      "1000/1000 [==============================] - ETA: 0s - loss: 11.4959 - acc: 0.15 - 0s 88us/step - loss: 11.4920 - acc: 0.1550 - val_loss: 11.5925 - val_acc: 0.1300\n",
      "Epoch 10/10\n",
      "1000/1000 [==============================] - 0s 85us/step - loss: 11.4881 - acc: 0.1650 - val_loss: 11.5967 - val_acc: 0.1100\n"
     ]
    },
    {
     "data": {
      "text/plain": [
       "<tensorflow.python.keras.callbacks.History at 0x143febc88>"
      ]
     },
     "execution_count": 5,
     "metadata": {},
     "output_type": "execute_result"
    }
   ],
   "source": [
    "data = np.random.random((1000, 32))\n",
    "labels = np.random.random((1000, 10))\n",
    "\n",
    "val_data = np.random.random((100, 32))\n",
    "val_labels = np.random.random((100, 10))\n",
    "\n",
    "model.fit(data, labels, epochs=10, batch_size=32,\n",
    "          validation_data=(val_data, val_labels))"
   ]
  },
  {
   "cell_type": "markdown",
   "metadata": {},
   "source": [
    "It's also paramount that you evaluate your model to determine how well it's doing and this will also become the deliverable of your work when you do research and build projects of your own."
   ]
  },
  {
   "cell_type": "code",
   "execution_count": 6,
   "metadata": {},
   "outputs": [
    {
     "name": "stdout",
     "output_type": "stream",
     "text": [
      "1000/1000 [==============================] - 0s 42us/step\n"
     ]
    },
    {
     "data": {
      "text/plain": [
       "[11.54239518737793, 0.089]"
      ]
     },
     "execution_count": 6,
     "metadata": {},
     "output_type": "execute_result"
    }
   ],
   "source": [
    "data = np.random.random((1000, 32))\n",
    "labels = np.random.random((1000, 10))\n",
    "\n",
    "model.evaluate(data, labels, batch_size=32)"
   ]
  }
 ],
 "metadata": {
  "kernelspec": {
   "display_name": "Python 3",
   "language": "python",
   "name": "python3"
  },
  "language_info": {
   "codemirror_mode": {
    "name": "ipython",
    "version": 3
   },
   "file_extension": ".py",
   "mimetype": "text/x-python",
   "name": "python",
   "nbconvert_exporter": "python",
   "pygments_lexer": "ipython3",
   "version": "3.6.7"
  },
  "ucfai": {
   "authors": [
    {
     "author": "John Muchovej",
     "github": "ionlights",
     "web": null
    }
   ],
   "date": "2019-01-30",
   "description": "Welcome back to SIGAI! We'll be re-introducing AI@UCF for newcomers and refreshing it for veterans; following that, we'll cover some club logistics, revealing our plans for the semester, and finish off with setting everyone up on the UCF Supercomputer, from which we'll be streaming all future meetings!",
   "tags": [],
   "title": "Welcome back! Featuring Supercomputers"
  }
 },
 "nbformat": 4,
 "nbformat_minor": 2
}
