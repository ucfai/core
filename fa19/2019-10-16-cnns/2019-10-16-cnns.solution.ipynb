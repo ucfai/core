{
 "cells": [
  {
   "cell_type": "markdown",
   "metadata": {
    "nb-title": true,
    "title": "How We Can Give Our Computers Eyes and Ears"
   },
   "source": [
    "<img src=\"https://ucfai.org/core/fa19/cnns/banner.png\">\n",
    "\n",
    "<div class=\"col-12\">\n",
    "    <span class=\"btn btn-success btn-block\">\n",
    "        Meeting in-person? Have you signed in?\n",
    "    </span>\n",
    "</div>\n",
    "\n",
    "<div class=\"col-12\">\n",
    "    <h1> How We Can Give Our Computers Eyes and Ears </h1>\n",
    "    <hr>\n",
    "</div>\n",
    "\n",
    "<div style=\"line-height: 2em;\">\n",
    "    <p>by: \n",
    "        <strong> Daniel Silva</strong>\n",
    "        (<a href=\"https://github.com/danielzgsilva\">@danielzgsilva</a>)\n",
    "    \n",
    "        <strong> Brandon</strong>\n",
    "        (<a href=\"https://github.com/brandons209\">@brandons209</a>)\n",
    "     on 2019-10-16</p>\n",
    "</div>"
   ]
  }
 ],
 "metadata": {
  "autobot": {
   "authors": [
    {
     "author": "Daniel Silva",
     "github": "danielzgsilva",
     "web": null
    },
    {
     "author": "Brandon",
     "github": "brandons209",
     "web": null
    }
   ],
   "categories": [
    "fa19"
   ],
   "date": "2019-10-16",
   "description": "Ever wonder how Facebook tells you which friends to tag in your photos, or how Siri can even understand your request? In this meeting we'll dive into convolutional neural networks and give you all the tools to build smart systems such as these. Join us in learning how we can grant our  computers the gifts of hearing and sight!",
   "tags": [
    "Computer Vision",
    "CNNs",
    "Convolutional Neural Networks"
   ],
   "title": "How We Can Give Our Computers Eyes and Ears"
  }
 },
 "nbformat": 4,
 "nbformat_minor": 2
}
