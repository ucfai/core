{
 "cells": [
  {
   "cell_type": "markdown",
   "metadata": {
    "tags": [
     "nb-title",
     "template"
    ],
    "title": "Getting Started, Regression"
   },
   "source": [
    "<img\n",
    "    style=\"border-radius: 0.5em;\"\n",
    "    src=\"https://ucfai.org/groups/core/fa19/regression/banner.png\">\n",
    "\n",
    "<div class=\"col-12\">\n",
    "    <h1> Getting Started, Regression </h1>\n",
    "    <hr>\n",
    "</div>\n",
    "\n",
    "<div style=\"line-height: 2em;\">\n",
    "    <p>by: \n",
    "        <a href=\"https://ucfai.org/authors/jarviseq\">@jarviseq</a> and\n",
    "        <a href=\"https://ucfai.org/authors/ionlights\">@ionlights</a> on Sep 18, 2019</p>\n",
    "</div>"
   ]
  },
  {
   "cell_type": "code",
   "execution_count": null,
   "metadata": {
    "language": "python",
    "tags": [
     "template"
    ]
   },
   "outputs": [],
   "source": [
    "from pathlib import Path\n",
    "\n",
    "DATA_DIR = Path(\"/kaggle/input\")\n",
    "if (DATA_DIR / \"ucfai-core-fa19-regression\").exists():\n",
    "    DATA_DIR /= \"ucfai-core-fa19-regression\"\n",
    "elif DATA_DIR.exists():\n",
    "    # no-op to keep the proper data path for Kaggle\n",
    "    pass\n",
    "else:\n",
    "    # You'll need to download the data from Kaggle and place it in the `data/`\n",
    "    #   directory beside this notebook.\n",
    "    # The data should be here: https://kaggle.com/c/ucfai-core-fa19-regression/data\n",
    "    DATA_DIR = Path(\"data\")"
   ]
  },
  {
   "cell_type": "markdown",
   "metadata": {},
   "source": [
    "First thing first, we need to import some packages:\n",
    "* `matplotlib` allows us to graph \n",
    "* `numpy` is a powerful Linear Algebra library\n",
    "* `pandas` allows us to Extract, Load, and Transform (ETL) datasets\n",
    "* `sklearn` is a great Machine Learning library"
   ]
  },
  {
   "cell_type": "code",
   "execution_count": null,
   "metadata": {},
   "outputs": [],
   "source": [
    "# import some important stuff\n",
    "import matplotlib.pyplot as plt\n",
    "import numpy as np\n",
    "import pandas as pd\n",
    "import scipy.stats as st\n",
    "from sklearn import datasets, linear_model"
   ]
  },
  {
   "cell_type": "markdown",
   "metadata": {},
   "source": [
    "## Basic Example \n",
    "\n",
    "The data for this example is arbitrary (we'll use real data in a bit), but there is a clear linear relationship here.\n",
    "\n",
    "Let's also graph this to demonstrate that relationship:"
   ]
  },
  {
   "cell_type": "code",
   "execution_count": null,
   "metadata": {},
   "outputs": [],
   "source": [
    "# Get some data \n",
    "x = np.array([0, 1, 2, 3, 4, 5, 6, 7, 8, 9]) \n",
    "y = np.array([1, 3, 2, 5, 7, 8, 8, 9, 10, 12])\n",
    "\n",
    "# Let's plot the data to see what it looks like\n",
    "plt.scatter(x, y, color = \"black\") \n",
    "plt.show()"
   ]
  },
  {
   "cell_type": "markdown",
   "metadata": {},
   "source": [
    "Now, let's use \"least squares estimation\" to try minimizing the **squared error** of our function's output and the data we plotted.\n",
    "\n",
    "$SS_{xy}$ is the cross deviation about $x$, and $SS_{xx}$ is the deviation about $x$.\n",
    "\n",
    "[It's basically some roundabout algebra methods to optimize a function.](https://www.amherst.edu/system/files/media/1287/SLR_Leastsquares.pdf) \n",
    "\n",
    "The concept isn't super complicated but it gets hairy when you do it by hand."
   ]
  },
  {
   "cell_type": "code",
   "execution_count": null,
   "metadata": {},
   "outputs": [],
   "source": [
    "# calculating the coefficients\n",
    "\n",
    "# number of observations/points \n",
    "n = np.size(x) \n",
    "\n",
    "# mean of x and y vector \n",
    "m_x, m_y = np.mean(x), np.mean(y) \n",
    "\n",
    "# calculating cross-deviation and deviation about x \n",
    "SS_xy = np.sum(y*x - n*m_y*m_x) \n",
    "SS_xx = np.sum(x*x - n*m_x*m_x) \n",
    "\n",
    "# calculating regression coefficients \n",
    "b_1 = SS_xy / SS_xx \n",
    "b_0 = m_y - b_1*m_x\n",
    "\n",
    "#var to hold the coefficients\n",
    "b = (b_0, b_1)\n",
    "\n",
    "#print out the estimated coefficients\n",
    "print(\"Estimated coefficients:\\nb_0 = {} \\nb_1 = {}\".format(b[0], b[1])) "
   ]
  },
  {
   "cell_type": "markdown",
   "metadata": {},
   "source": [
    "But, we don't need to directly program all of the maths everytime we do linear regression.\n",
    "\n",
    "`sklearn` has built in functions that allows you to quickly do Linear Regression with just a few lines of code.\n",
    "\n",
    "We're going to use `sklearn` to make a model and then plot it using `matplotlib`."
   ]
  },
  {
   "cell_type": "code",
   "execution_count": null,
   "metadata": {},
   "outputs": [],
   "source": [
    "# Sklearn learn require this shape\n",
    "x = x.reshape(-1,1)\n",
    "y = y.reshape(-1,1)\n",
    "\n",
    "# making the model\n",
    "regress = linear_model.LinearRegression()\n",
    "regress.fit(x, y)"
   ]
  },
  {
   "cell_type": "markdown",
   "metadata": {},
   "source": [
    "And now, lets see what the model looks like:"
   ]
  },
  {
   "cell_type": "code",
   "execution_count": null,
   "metadata": {},
   "outputs": [],
   "source": [
    "# plotting the actual points as scatter plot \n",
    "plt.scatter(x, y, color = \"black\", \n",
    "           marker = \"o\", s = 30) \n",
    "\n",
    "# predicted response vector \n",
    "y_pred = b[0] + b[1]*x \n",
    "\n",
    "# plotting the regression line \n",
    "plt.plot(x, y_pred, color = \"blue\") \n",
    "\n",
    "# putting labels \n",
    "plt.xlabel('x') \n",
    "plt.ylabel('y') \n",
    "\n",
    "# function to show plot \n",
    "plt.show()"
   ]
  },
  {
   "cell_type": "markdown",
   "metadata": {},
   "source": [
    "So now we can make predictions with new points based off our data"
   ]
  },
  {
   "cell_type": "code",
   "execution_count": null,
   "metadata": {},
   "outputs": [],
   "source": [
    "# here we can try out any data point\n",
    "print(regress.predict([[6]]))"
   ]
  },
  {
   "cell_type": "markdown",
   "metadata": {},
   "source": [
    "---\n",
    "\n",
    "## Applied Linear Regression\n",
    "\n",
    "\n",
    "### The Ames Housing Dataset \n",
    "> Ames is a city located in Iowa.\n",
    "> \n",
    "> - This data set consists of all property sales\n",
    "collected by the Ames City Assessor’s Office between the years\n",
    "of 2006 and 2010.\n",
    "> - Originally contained 113 variables and 3970 property sales\n",
    "pertaining to the sale of stand-alone garages, condos, storage\n",
    "areas, and of course residential property.\n",
    "> - Distributed to the public as a means to replace the old Boston\n",
    "Housing 1970’s data set.  \n",
    "> - [Link to Original](http://lib.stat.cmu.edu/datasets/boston) \n",
    "> - The \"cleaned\" version of this dataset contains 2930 observations along with 80\n",
    "predictor variables and two identification variables.\n",
    "\n",
    "### What was the original purpose of this data set? \n",
    "\n",
    "- Why did the City of Ames decide to collect this data? \n",
    "- What does the prices of houses effect?\n",
    "\n",
    "### What's inside? \n",
    "\n",
    "- This ”new” data set contains 2930 (n=2930) observations along with 80\n",
    "predictor variables and two identification variables. \n",
    "- You can [read the paper that introduced this data][paper] and an [exhaustive breakdown of the variables][breakdown] if you want.\n",
    "\n",
    "[paper]: http://jse.amstat.org/v19n3/decock.pdf\n",
    "[breakdown]: http://jse.amstat.org/v19n3/decock/DataDocumentation.txt\n",
    "\n",
    "### *Quick Summary*\n",
    "------\n",
    "Of the 80 predictor variables we have:\n",
    "> - 20 continuous variables (area dimension)\n",
    " - Garage Area, Wood Deck Area, Pool Area\n",
    "> - 14 discrete variables (items occurring)\n",
    " - Remodeling Dates, Month and Year Sold\n",
    " > - 23 nominal and 23 ordinal \n",
    " - Nominal: Condition of the Sale, Type of Heating and\n",
    "Foundation\n",
    " - Ordinal: Fireplace and Kitchen Quality, Overall\n",
    "Condition of the House\n",
    "\n",
    "### *Question to Answer:*\n",
    "- What is the linear relationship between sale price on above ground \n",
    "  living room area?\n",
    "\n",
    "To try answering this, let's visually investigate what we're trying to predict.\n",
    "We'll kick this off with getting some summary statistics."
   ]
  },
  {
   "cell_type": "code",
   "execution_count": null,
   "metadata": {},
   "outputs": [],
   "source": [
    "housing_data =  pd.read_csv(DATA_DIR / \"house-prices-advanced-regression-techniques/train.csv\", delimiter=\"\\t\") \n",
    "\n",
    "# Mean Sales price \n",
    "mean_price = np.mean(housing_data[\"SalePrice\"])\n",
    "print(\"Mean Price : \" + str(mean_price))\n",
    "\n",
    "# Variance of the Sales Price \n",
    "var_price = np.var(housing_data[\"SalePrice\"], ddof=1)\n",
    "print(\"Variance of Sales Price : \" + str(var_price))\n",
    "\n",
    "# Median of Sales Price \n",
    "median_price = np.median(housing_data[\"SalePrice\"])\n",
    "print(\"Median Sales Price : \" + str(median_price))\n",
    "\n",
    "# Skew of Sales Price \n",
    "skew_price = st.skew(housing_data[\"SalePrice\"])\n",
    "print(\"Skew of Sales Price : \" + str(skew_price))\n",
    "\n",
    "housing_data[\"SalePrice\"].describe()"
   ]
  },
  {
   "cell_type": "markdown",
   "metadata": {},
   "source": [
    "Another way we can view our data is with a box and whisker plot."
   ]
  },
  {
   "cell_type": "code",
   "execution_count": null,
   "metadata": {},
   "outputs": [],
   "source": [
    "plt.boxplot(housing_data[\"SalePrice\"])\n",
    "plt.ylabel(\"Sales Price\")\n",
    "plt.show()"
   ]
  },
  {
   "cell_type": "markdown",
   "metadata": {},
   "source": [
    "Now let's look at sales price on above ground living room area. "
   ]
  },
  {
   "cell_type": "code",
   "execution_count": null,
   "metadata": {},
   "outputs": [],
   "source": [
    "plt.scatter(housing_data[\"GrLivArea\"], housing_data[\"SalePrice\"])\n",
    "plt.ylabel(\"Sales Price\")\n",
    "plt.show()"
   ]
  },
  {
   "cell_type": "markdown",
   "metadata": {},
   "source": [
    "Finally, lets generate our model and see how it predicts Sales Price!!"
   ]
  },
  {
   "cell_type": "code",
   "execution_count": null,
   "metadata": {},
   "outputs": [],
   "source": [
    "# we need to reshape the array to make the sklearn gods happy\n",
    "area_reshape = housing_data[\"GrLivArea\"].values.reshape(-1,1)\n",
    "price_reshape = housing_data[\"SalePrice\"].values.reshape(-1,1)\n",
    "\n",
    "# Generate the Model\n",
    "model = linear_model.LinearRegression(fit_intercept=True)\n",
    "model.fit(area_reshape, price_reshape)\n",
    "price_prediction = model.predict(area_reshape)\n",
    "\n",
    "# plotting the actual points as scatter plot \n",
    "plt.scatter(area_reshape, price_reshape) \n",
    "\n",
    "# plotting the regression line \n",
    "plt.plot(area_reshape, price_prediction, color = \"red\") \n",
    "\n",
    "# putting labels \n",
    "plt.xlabel('Above Ground Living Area') \n",
    "plt.ylabel('Sales Price') \n",
    "\n",
    "# function to show plot \n",
    "plt.show()"
   ]
  },
  {
   "cell_type": "markdown",
   "metadata": {},
   "source": [
    "--------------------------------------------\n",
    "\n",
    "## **Applied Logistic Regression**\n",
    "\n",
    "--------------------------------------------"
   ]
  },
  {
   "cell_type": "code",
   "execution_count": null,
   "metadata": {},
   "outputs": [],
   "source": [
    "# we're going to need a different model, so let's import it\n",
    "from sklearn.linear_model import LogisticRegression\n",
    "from sklearn.model_selection import train_test_split"
   ]
  },
  {
   "cell_type": "markdown",
   "metadata": {},
   "source": [
    "For Logistic Regression, we're going to be using a real dataset.\n",
    "\n",
    "You can find this data from UCI's Machine Learning Repository, or on Kaggle alongside this notebook.\n",
    "\n",
    "* [UCI: Adult Dataset (AKA: Census Income)][uci]\n",
    "* [Kaggle: Adult Census Income][kaggle]\n",
    "\n",
    "[uci]: https://archive.ics.uci.edu/ml/datasets/Adult\n",
    "[kaggle]: https://www.kaggle.com/uciml/adult-census-income\n",
    "\n",
    "On Kaggle, we've packaged up the data for you, so now we can play around with it.\n",
    "\n",
    "But before that, we need to read in the data &ndash; `pandas` has the functions we need to do this"
   ]
  },
  {
   "cell_type": "code",
   "execution_count": null,
   "metadata": {},
   "outputs": [],
   "source": [
    "# read_csv allow us to easily import a whole dataset\n",
    "data = pd.read_csv(\n",
    "    DATA_DIR / \"adult-census-income/adult.csv\",\n",
    "    names=[\"age\",\"workclass\",\"fnlwgt\",\"education\",\"education-num\",\"marital-status\",\"occupation\",\"relationship\",\"race\",\"sex\",\"capital-gain\",\"capital-loss\",\"hours-per-week\",\"native-country\",\"income\"]\n",
    ")\n",
    "\n",
    "# this tells us whats in it \n",
    "print(data.info())"
   ]
  },
  {
   "cell_type": "code",
   "execution_count": null,
   "metadata": {},
   "outputs": [],
   "source": [
    "# data.head() gives us some the the first 5 rows of the data\n",
    "data.head()"
   ]
  },
  {
   "cell_type": "markdown",
   "metadata": {},
   "source": [
    "The code below will show us some information about the *continunous* parameters that our dataset contains. \n",
    "\n",
    "* `age` is Age \n",
    "* `fnlwgt` is final weight, or the number of people that are represented in this group relative to the overall population of this dataset. \n",
    "* `education-num` is a numerical way of representing Education level\n",
    "* `capital-gain` is the money made investments\n",
    "* `capital-loss` is the loss from investments\n",
    "* `hours-per-week` is the number of hours worked during a week"
   ]
  },
  {
   "cell_type": "code",
   "execution_count": null,
   "metadata": {},
   "outputs": [],
   "source": [
    "# this is the function that give us some quick info about continous data in the dataset\n",
    "data.describe()"
   ]
  },
  {
   "cell_type": "markdown",
   "metadata": {},
   "source": [
    "**Now here is the Qustion:**\n",
    "* Which one of these parameters are best in figuring out if someone is going to be making more then 50k a year?\n",
    "* Make sure you choose a continunous parameter, as categorical stuff isn't going to work "
   ]
  },
  {
   "cell_type": "code",
   "execution_count": null,
   "metadata": {
    "nbgrader": {
     "solution": true
    }
   },
   "outputs": [],
   "source": [
    "# put the name of the parameter you want to test\n",
    "# YOUR CODE HERE\n",
    "raise NotImplementedError()"
   ]
  },
  {
   "cell_type": "code",
   "execution_count": null,
   "metadata": {},
   "outputs": [],
   "source": [
    "# but before we make our model, we need to modify our data a bit\n",
    "\n",
    "# little baby helper function\n",
    "def incomeFixer(x):\n",
    "    if x == \" <=50K\":\n",
    "        return 0\n",
    "    else:\n",
    "        return 1\n",
    "\n",
    "# change the income data into 0's and 1's\n",
    "data[\"income\"] = data.apply(lambda row: incomeFixer(row['income']), axis=1)\n",
    "\n",
    "# get the data we are going to make the model with \n",
    "x = np.array(data[test])\n",
    "y = np.array(data[\"income\"])\n",
    "\n",
    "# again, lets make the scikitlearn gods happy\n",
    "x = x.reshape(-1,1)\n",
    "\n",
    "# Making the test-train split\n",
    "splits = train_test_split(x ,y ,test_size=0.25, random_state=42)\n",
    "x_train, x_test, y_train, y_test = splits"
   ]
  },
  {
   "cell_type": "code",
   "execution_count": null,
   "metadata": {},
   "outputs": [],
   "source": [
    "# now make data model!\n",
    "logreg = LogisticRegression(solver='liblinear')\n",
    "logreg.fit(x_train, y_train)"
   ]
  },
  {
   "cell_type": "code",
   "execution_count": null,
   "metadata": {},
   "outputs": [],
   "source": [
    "# now need to test the model's performance\n",
    "print(logreg.score(x_test, y_test))"
   ]
  },
  {
   "cell_type": "markdown",
   "metadata": {},
   "source": [
    "## Thank You\n",
    "\n",
    "We hope that you enjoyed being here today.\n",
    "\n",
    "Please fill out [this questionaire](https://docs.google.com/forms/d/e/1FAIpQLSe8kucGh3_2Dcm7BFPv89qy-F4_BZKF-_Jm0nie37Ty6FuL9g/viewform?usp=sf_link) so we can get some feedback about tonight's meeting.\n",
    "\n",
    "We hope to see you here again next week for our core meeting on *Random Forests and Support Vector Machines*.\n",
    "\n",
    "### Live in Virtue"
   ]
  }
 ],
 "metadata": {
  "autobot": {
   "abstract": "You always start with the basics, and in this meeting we are doing just that! We will be going over what Machine Learning consists of and how we can use models to do awesome stuff!",
   "authors": [
    "jarviseq",
    "ionlights"
   ],
   "date": "2019-09-18T17:30:00",
   "group": "core",
   "semester": "fa19",
   "tags": [
    "regression",
    "linear regression",
    "logistic regression",
    "statistics"
   ],
   "title": "Getting Started, Regression"
  },
  "kernelspec": {
   "display_name": "Python 3",
   "language": "python",
   "name": "python3"
  },
  "language_info": {
   "codemirror_mode": {
    "name": "ipython",
    "version": 3
   },
   "file_extension": ".py",
   "mimetype": "text/x-python",
   "name": "python",
   "nbconvert_exporter": "python",
   "pygments_lexer": "ipython3",
   "version": "3.7.7"
  }
 },
 "nbformat": 4,
 "nbformat_minor": 4
}
