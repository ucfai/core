{
  "nbformat": 4,
  "nbformat_minor": 0,
  "metadata": {
    "colab": {
      "name": "Deep_RL.ipynb",
      "provenance": [],
      "collapsed_sections": []
    },
    "kernelspec": {
      "name": "python3",
      "display_name": "Python 3"
    }
  },
  "cells": [
    {
      "cell_type": "code",
      "execution_count": 0,
      "metadata": {
        "colab": {},
        "colab_type": "code",
        "id": "thUyGBRezUcu"
      },
      "outputs": [],
      "source": [
        "\n"
      ]
    },
    {
      "cell_type": "markdown",
      "metadata": {
        "colab_type": "text",
        "id": "C5NlemobzP6Q"
      },
      "source": [
        "**What does it formally mean for an agent to explore?**\n",
        "\n",
        "**Why does an agent need to explore?**\n",
        "\n",
        "**What are some ways we can allow for exploration?**\n",
        "\n",
        "**What exactly is the limitation for using a traditional table for reinforcement learning for something like Doom?**\n",
        "\n",
        "**If you could only replace state space or action space with a nueral network, which would make more sense to replace?**"
      ]
    },
    {
      "cell_type": "markdown",
      "metadata": {
        "colab_type": "text",
        "id": "qZppVu9JzU45"
      },
      "source": [
        "Let's start with imports\n"
      ]
    },
    {
      "cell_type": "code",
      "execution_count": 0,
      "metadata": {
        "colab": {},
        "colab_type": "code",
        "id": "ggp9drVzzWJW"
      },
      "outputs": [],
      "source": [
        "import gym\n",
        "import numpy as np \n",
        "import torch\n",
        "from torch import nn\n",
        "from torch.autograd import Variable\n",
        "from torch import optim\n",
        "from torch.nn import functional as F\n",
        "import matplotlib.pyplot as plt"
      ]
    },
    {
      "cell_type": "markdown",
      "metadata": {
        "colab_type": "text",
        "id": "PUFGcxjOzXEO"
      },
      "source": [
        "Next, we will write a function that can take some batch of data and return a one-hot encoded tensor. What exactly this means should have been convered before, but don't hesitate to ask if you need a refresher."
      ]
    },
    {
      "cell_type": "code",
      "execution_count": 0,
      "metadata": {
        "colab": {},
        "colab_type": "code",
        "id": "LQqys0Nwzqnm"
      },
      "outputs": [],
      "source": [
        "def one_hot(ids, nb_digits):\n",
        "    \"\"\"\n",
        "    ids: (list, ndarray) shape:[batch_size]\n",
        "    \"\"\"\n",
        "    if not isinstance(ids, (list, np.ndarray)):\n",
        "        raise ValueError(\"ids must be 1-D list or array\")\n",
        "    batch_size = len(ids)\n",
        "    ids = torch.LongTensor(ids).view(batch_size, 1)\n",
        "    out_tensor = Variable(torch.FloatTensor(batch_size, nb_digits))\n",
        "    out_tensor.data.zero_()\n",
        "    out_tensor.data.scatter_(dim=1, index=ids, value=1.)\n",
        "    return out_tensor"
      ]
    },
    {
      "cell_type": "markdown",
      "metadata": {
        "colab_type": "text",
        "id": "hjUWbB6xzsLO"
      },
      "source": [
        "Next, just for simplicity, we are going to write a funtion that will uniformly set the weights of any Nueral Network layer to a uniform value. We do this because you can imagine that when trying to learn something through trial and error, you don't want to start with any assumptions."
      ]
    },
    {
      "cell_type": "code",
      "execution_count": 0,
      "metadata": {
        "colab": {},
        "colab_type": "code",
        "id": "46oDFEIyz9TV"
      },
      "outputs": [],
      "source": [
        "def uniform_linear_layer(linear_layer):\n",
        "    linear_layer.weight.data.uniform_()\n",
        "    linear_layer.bias.data.fill_(-0.02)"
      ]
    },
    {
      "cell_type": "markdown",
      "metadata": {
        "colab_type": "text",
        "id": "KPChNEOC0CMd"
      },
      "source": [
        "Now, let's create the frozen lake enviroment\n"
      ]
    },
    {
      "cell_type": "code",
      "execution_count": 0,
      "metadata": {
        "colab": {},
        "colab_type": "code",
        "id": "TVRTWfej0F3O"
      },
      "outputs": [],
      "source": [
        "lake = gym.make('FrozenLake-v0')"
      ]
    },
    {
      "cell_type": "markdown",
      "metadata": {
        "colab_type": "text",
        "id": "fBLD9-Pu0IoG"
      },
      "source": [
        "We can go ahead and see what this enviroment looks like "
      ]
    },
    {
      "cell_type": "code",
      "execution_count": 5,
      "metadata": {
        "colab": {
          "base_uri": "https://localhost:8080/",
          "height": 102
        },
        "colab_type": "code",
        "id": "8-8UITEp0MDG",
        "outputId": "c52fca68-d90a-4ab2-e854-22395a31d61e"
      },
      "outputs": [
        {
          "name": "stdout",
          "output_type": "stream",
          "text": [
            "\n",
            "\u001b[41mS\u001b[0mFFF\n",
            "FHFH\n",
            "FFFH\n",
            "HFFG\n"
          ]
        }
      ],
      "source": [
        "lake.reset()\n",
        "lake.render()"
      ]
    },
    {
      "cell_type": "markdown",
      "metadata": {
        "colab_type": "text",
        "id": "_8H-9vGz0O0e"
      },
      "source": [
        "Let's take a step and see what it looks like. \n",
        "\n",
        "0 - Left\n",
        "\n",
        "1- Down\n",
        "\n",
        "2 - Right\n",
        "\n",
        "3 - Up\n",
        "\n",
        "**Note - If you (or even I) end up somewhere different than where it says we should be, it's because this enviroment is stochastic, meaning that it occasionally randomly places you somehwere you didn't want to go. This forces the model to deal with randomness**\n",
        "\n",
        "**Why might stochastic be better than deterministic when training agents?**\n"
      ]
    },
    {
      "cell_type": "code",
      "execution_count": 6,
      "metadata": {
        "colab": {
          "base_uri": "https://localhost:8080/",
          "height": 102
        },
        "colab_type": "code",
        "id": "ACVU5hgt0uUy",
        "outputId": "862deb48-dae6-4d30-8dec-ddda877fe792"
      },
      "outputs": [
        {
          "name": "stdout",
          "output_type": "stream",
          "text": [
            "  (Right)\n",
            "\u001b[41mS\u001b[0mFFF\n",
            "FHFH\n",
            "FFFH\n",
            "HFFG\n"
          ]
        }
      ],
      "source": [
        "s1, r, d, _ = lake.step(2)\n",
        "lake.render()"
      ]
    },
    {
      "cell_type": "markdown",
      "metadata": {
        "colab_type": "text",
        "id": "liWnzaok1Fht"
      },
      "source": [
        "As you can see, action \"2\" is taking a step to the right. Now, lets take a step down"
      ]
    },
    {
      "cell_type": "code",
      "execution_count": 7,
      "metadata": {
        "colab": {
          "base_uri": "https://localhost:8080/",
          "height": 102
        },
        "colab_type": "code",
        "id": "hGykh-OQz_Rm",
        "outputId": "a0e85438-8ff1-4f0a-f581-b3c3e9e8e910"
      },
      "outputs": [
        {
          "name": "stdout",
          "output_type": "stream",
          "text": [
            "  (Down)\n",
            "SFFF\n",
            "\u001b[41mF\u001b[0mHFH\n",
            "FFFH\n",
            "HFFG\n"
          ]
        }
      ],
      "source": [
        "s1, r, d, _ = lake.step(1)\n",
        "lake.render()"
      ]
    },
    {
      "cell_type": "markdown",
      "metadata": {
        "colab_type": "text",
        "id": "eJnutWG5198c"
      },
      "source": [
        "As you can see, we died, so we went back to where we started. We can show this by looking at the done value"
      ]
    },
    {
      "cell_type": "code",
      "execution_count": 8,
      "metadata": {
        "colab": {
          "base_uri": "https://localhost:8080/",
          "height": 51
        },
        "colab_type": "code",
        "id": "roCODXMA2DKl",
        "outputId": "9b15f314-5d61-43e2-e9b1-14d29252f465"
      },
      "outputs": [
        {
          "name": "stdout",
          "output_type": "stream",
          "text": [
            "0.0\n",
            "False\n"
          ]
        }
      ],
      "source": [
        "print(r)\n",
        "print(d)"
      ]
    },
    {
      "cell_type": "markdown",
      "metadata": {
        "colab_type": "text",
        "id": "TiOofFfC2TCF"
      },
      "source": [
        "For this enviroment, the only time a reward other than 0 is recieved is when you complete the goal, in which you recieve one. We are going to reset regardless of whether the randomness put us where we wanted to go or not. Now, let's build our agent."
      ]
    },
    {
      "cell_type": "code",
      "execution_count": 0,
      "metadata": {
        "colab": {},
        "colab_type": "code",
        "id": "k-GtwTfw2FHG"
      },
      "outputs": [],
      "source": [
        "class Agent(nn.Module):\n",
        "  \n",
        "    \"\"\"\n",
        "    Observation Space - How big is the state that the agent needs to observe?\n",
        "    In this case, the only thing that changes about the lake is the position of the agent.\n",
        "    Therefore, the observation space is 1\n",
        "    \n",
        "    Action Space - Similar to the O-Space, we can move up, down, left, and right \n",
        "    Because we need to measure the Q-value of every action, the action space in this \n",
        "    case will be 4\n",
        "    \"\"\"\n",
        "    def __init__(self, observation_space_size, action_space_size):\n",
        "        super(Agent, self).__init__()\n",
        "        self.observation_space_size = observation_space_size\n",
        "        self.hidden_size = observation_space_size\n",
        "        \n",
        "        # What is the difference between observation and state space?\n",
        "         \n",
        "        \"\"\"\n",
        "        Let's build the nueral network. In RL, you'll find that large networks \n",
        "        are largely unessesary. Oftentimes, you can get away with just 1 or 2 hidden layers\n",
        "        The reason should be intuitive. What makes something a cat or a dog has many, many variables\n",
        "        But \"which direction should I walk on a 2D grid\" has a lot fewer.\n",
        "        \n",
        "        As you can see, the output layer is our action space size. This will be a table\n",
        "        of our possible actions, each with a q-value\n",
        "        \"\"\"\n",
        "\n",
        "        ## Create a simple 3 layer network using the observation space size as the input\n",
        "        ## And the action space size as the output\n",
        "\n",
        "\n",
        "        # Your Code Here\n",
        "\n",
        "        \n",
        "        # Why might a nueral network for deep RL be relatively smaller than what you might expect in something like image classification\n",
        "    \n",
        "    # Forward feed of our network\n",
        "    def forward(self, state):\n",
        "        obs_emb = one_hot([int(state)], self.observation_space_size)\n",
        "        out1 = F.sigmoid(self.l1(obs_emb))\n",
        "        return self.l2(out1).view((-1)) # 1 x ACTION_SPACE_SIZE == 1 x 4  =>  4"
      ]
    },
    {
      "cell_type": "markdown",
      "metadata": {
        "colab_type": "text",
        "id": "bWv2FPAX3oZt"
      },
      "source": [
        "Now, let's write the trainer that will actually train the agent to navigate the lake.\n",
        "\n",
        "For this cell, everything inside of train has been jumbled and switched around. Carefully review the steps to the deep-rl process and rearrange them in the correct order."
      ]
    },
    {
      "cell_type": "code",
      "execution_count": 1,
      "metadata": {},
      "outputs": [
        {
          "ename": "IndentationError",
          "evalue": "unexpected indent (<ipython-input-1-3b9a1d438ed8>, line 19)",
          "output_type": "error",
          "traceback": [
            "\u001b[0;36m  File \u001b[0;32m\"<ipython-input-1-3b9a1d438ed8>\"\u001b[0;36m, line \u001b[0;32m19\u001b[0m\n\u001b[0;31m    for i in range(epoch):\u001b[0m\n\u001b[0m    ^\u001b[0m\n\u001b[0;31mIndentationError\u001b[0m\u001b[0;31m:\u001b[0m unexpected indent\n"
          ]
        }
      ],
      "source": [
        "class Trainer:\n",
        "    def __init__(self):\n",
        "        self.agent = Agent(lake.observation_space.n, lake.action_space.n)\n",
        "        self.optimizer = optim.Adam(params=self.agent.parameters())\n",
        "        self.success = []\n",
        "        self.jList = []\n",
        "        self.running_success = []\n",
        "    \n",
        "    def train(self, epoch):\n",
        "      \n",
        "      # Let's start by resetting our enviroment\n",
        "      # We don't want to just wander back and forth forever when the simulation starts\n",
        "      # Therefore, we use a j value that stops our agent from taking more than 200 \n",
        "      # actions in a simulation\n",
        "\n",
        "      \"\"\"\n",
        "      #\n",
        "      \"\"\"\n",
        "        for i in range(epoch):\n",
        "            s = lake.reset()\n",
        "            j = 0\n",
        "            \"\"\"\n",
        "            # Rearrange these in the correct order\n",
        "                self.optimizer.zero_grad()\n",
        "                s = s1\n",
        "                target_q = r + 0.99 * torch.max(self.agent(s1).detach()) \n",
        "                self.optimizer.step()\n",
        "                if d == True: break\n",
        "                a = self.choose_action(s)\n",
        "                j += 1\n",
        "                loss = F.smooth_l1_loss(self.agent(s)[a], target_q)\n",
        "                s1, r, d, _ = lake.step(a)\n",
        "                loss.backward()\n",
        "                if d == True and r == 0: r = -1\n",
        "            \"\"\"\n",
        "            while j < 200:\n",
        "                # Your code here\n",
        "            if d == True and r > 0:\n",
        "                self.success.append(1)\n",
        "            else:\n",
        "                self.success.append(0)\n",
        "            self.jList.append(j)\n",
        "            if i % 100 == 0:\n",
        "               self.running_success.append(sum(self.success[-100:]))\n",
        "\n",
        "    def choose_action(self, s):\n",
        "      \n",
        "      # 0.1 is our epsilon\n",
        "      # Normally, we want some fancy way to degrade this (over time, we should be taking fewer random actions)\n",
        "      # We will cover this a little more, but for this really, really simple example, we can just use a set epsilon\n",
        "        if (np.random.rand(1) < 0.1): \n",
        "            return lake.action_space.sample()\n",
        "      # Now, if we don't want to act randomly, we are going to feed forward the network\n",
        "      # Then, we take the action that has the highest Q-value (max index)\n",
        "        else:\n",
        "            agent_out = self.agent(s).detach()\n",
        "            _, max_index = torch.max(agent_out, 0)\n",
        "            return int(max_index.data.numpy())"
      ]
    },
    {
      "cell_type": "code",
      "execution_count": 48,
      "metadata": {
        "colab": {
          "base_uri": "https://localhost:8080/",
          "height": 901
        },
        "colab_type": "code",
        "id": "966MT03B9Y0v",
        "outputId": "d05ed0ac-f7d5-4e5c-be2e-86ec610f842c"
      },
      "outputs": [
        {
          "name": "stderr",
          "output_type": "stream",
          "text": [
            "/usr/local/lib/python3.6/dist-packages/torch/nn/functional.py:1351: UserWarning: nn.functional.sigmoid is deprecated. Use torch.sigmoid instead.\n",
            "  warnings.warn(\"nn.functional.sigmoid is deprecated. Use torch.sigmoid instead.\")\n"
          ]
        },
        {
          "name": "stdout",
          "output_type": "stream",
          "text": [
            "last 100 epoches success rate: 0%\n",
            "last 100 epoches success rate: 0%\n",
            "last 100 epoches success rate: 1%\n",
            "last 100 epoches success rate: 1%\n",
            "last 100 epoches success rate: 5%\n",
            "last 100 epoches success rate: 14%\n",
            "last 100 epoches success rate: 18%\n",
            "last 100 epoches success rate: 15%\n",
            "last 100 epoches success rate: 23%\n",
            "last 100 epoches success rate: 7%\n",
            "last 100 epoches success rate: 12%\n",
            "last 100 epoches success rate: 25%\n",
            "last 100 epoches success rate: 25%\n",
            "last 100 epoches success rate: 35%\n",
            "last 100 epoches success rate: 36%\n",
            "last 100 epoches success rate: 41%\n",
            "last 100 epoches success rate: 39%\n",
            "last 100 epoches success rate: 40%\n",
            "last 100 epoches success rate: 40%\n",
            "last 100 epoches success rate: 35%\n",
            "last 100 epoches success rate: 45%\n",
            "last 100 epoches success rate: 31%\n",
            "last 100 epoches success rate: 40%\n",
            "last 100 epoches success rate: 37%\n",
            "last 100 epoches success rate: 41%\n",
            "last 100 epoches success rate: 44%\n",
            "last 100 epoches success rate: 28%\n",
            "last 100 epoches success rate: 40%\n",
            "last 100 epoches success rate: 28%\n",
            "last 100 epoches success rate: 32%\n",
            "last 100 epoches success rate: 39%\n",
            "last 100 epoches success rate: 38%\n",
            "last 100 epoches success rate: 34%\n",
            "last 100 epoches success rate: 34%\n",
            "last 100 epoches success rate: 44%\n",
            "last 100 epoches success rate: 39%\n",
            "last 100 epoches success rate: 33%\n",
            "last 100 epoches success rate: 36%\n",
            "last 100 epoches success rate: 37%\n",
            "last 100 epoches success rate: 38%\n",
            "last 100 epoches success rate: 38%\n",
            "last 100 epoches success rate: 47%\n",
            "last 100 epoches success rate: 36%\n",
            "last 100 epoches success rate: 37%\n",
            "last 100 epoches success rate: 30%\n",
            "last 100 epoches success rate: 34%\n",
            "last 100 epoches success rate: 39%\n",
            "last 100 epoches success rate: 41%\n",
            "last 100 epoches success rate: 27%\n",
            "last 100 epoches success rate: 44%\n"
          ]
        }
      ],
      "source": [
        "t = Trainer()\n",
        "t.train(5000)"
      ]
    },
    {
      "cell_type": "code",
      "execution_count": 41,
      "metadata": {
        "colab": {
          "base_uri": "https://localhost:8080/",
          "height": 282
        },
        "colab_type": "code",
        "id": "RoqJtFMI9bKT",
        "outputId": "7a5f77aa-e395-4c8d-cabb-b2aaf9940085"
      },
      "outputs": [
        {
          "data": {
            "text/plain": [
              "[<matplotlib.lines.Line2D at 0x7f1a9d0700b8>]"
            ]
          },
          "execution_count": 41,
          "metadata": {
            "tags": []
          },
          "output_type": "execute_result"
        },
        {
          "data": {
            "image/png": "[encoded data removed]",
            "text/plain": [
              "<Figure size 432x288 with 1 Axes>"
            ]
          },
          "metadata": {
            "tags": []
          },
          "output_type": "display_data"
        }
      ],
      "source": [
        "plt.plot(t.success)"
      ]
    },
    {
      "cell_type": "code",
      "execution_count": 42,
      "metadata": {
        "colab": {
          "base_uri": "https://localhost:8080/",
          "height": 282
        },
        "colab_type": "code",
        "id": "qNqaQwd99deD",
        "outputId": "f6c10986-db8b-41dc-d992-7e335c119dd5"
      },
      "outputs": [
        {
          "data": {
            "text/plain": [
              "[<matplotlib.lines.Line2D at 0x7f1a9d042eb8>]"
            ]
          },
          "execution_count": 42,
          "metadata": {
            "tags": []
          },
          "output_type": "execute_result"
        },
        {
          "data": {
            "image/png": "[encoded data removed]",
            "text/plain": [
              "<Figure size 432x288 with 1 Axes>"
            ]
          },
          "metadata": {
            "tags": []
          },
          "output_type": "display_data"
        }
      ],
      "source": [
        "plt.plot(t.jList)"
      ]
    },
    {
      "cell_type": "code",
      "execution_count": 49,
      "metadata": {
        "colab": {
          "base_uri": "https://localhost:8080/",
          "height": 282
        },
        "colab_type": "code",
        "id": "bs9C3C64aPTc",
        "outputId": "542f824b-a67e-4931-cab3-825a19571a50"
      },
      "outputs": [
        {
          "data": {
            "text/plain": [
              "[<matplotlib.lines.Line2D at 0x7f1a9ccc6940>]"
            ]
          },
          "execution_count": 49,
          "metadata": {
            "tags": []
          },
          "output_type": "execute_result"
        },
        {
          "data": {
            "image/png": "[encoded data removed]",
            "text/plain": [
              "<Figure size 432x288 with 1 Axes>"
            ]
          },
          "metadata": {
            "tags": []
          },
          "output_type": "display_data"
        }
      ],
      "source": [
        "plt.plot(t.running_success)"
      ]
    },
    {
      "cell_type": "code",
      "execution_count": 0,
      "metadata": {
        "colab": {},
        "colab_type": "code",
        "id": "Aj_9XrEafFf4"
      },
      "outputs": [],
      "source": []
    }
  ]
}