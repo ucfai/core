{
 "cells": [
  {
   "cell_type": "markdown",
   "metadata": {
    "nb-title": true,
    "title": "Learning by Doing, This Time With Neural Networks"
   },
   "source": [
    "<img src=\"https://ucfai.org/core/fa19/2019-11-13-deep-rl/deep-rl/banner.png\">\n",
    "\n",
    "<div class=\"col-12\">\n",
    "    <span class=\"btn btn-success btn-block\">\n",
    "        Meeting in-person? Have you signed in?\n",
    "    </span>\n",
    "</div>\n",
    "\n",
    "<div class=\"col-12\">\n",
    "    <h1> Learning by Doing, This Time With Neural Networks </h1>\n",
    "    <hr>\n",
    "</div>\n",
    "\n",
    "<div style=\"line-height: 2em;\">\n",
    "    <p>by: \n",
    "        <strong> Alec Kerrigan</strong>\n",
    "        (<a href=\"https://github.com/ahkerrigan\">@ahkerrigan</a>)\n",
    "     on 2019-11-13</p>\n",
    "</div>"
   ]
  }
 ],
 "metadata": {
  "autobot": {
   "authors": [
    {
     "author": "Alec Kerrigan",
     "github": "ahkerrigan",
     "web": null
    }
   ],
   "categories": [
    "fa19"
   ],
   "date": "2019-11-13",
   "description": "It's easy enough to navigate a 16x16 maze with tables and some dynamic programming, but how exactly do we extend that to play video games with millions of pixels as input, or board games like Go with more states than particals in the observable universe? The answer, as it often is, is deep reinforcement learning.",
   "tags": [
    "machine learning",
    "deep learning",
    "reinforcement learning",
    "DoTA"
   ],
   "title": "Learning by Doing, This Time With Neural Networks"
  }
 },
 "nbformat": 4,
 "nbformat_minor": 2
}
