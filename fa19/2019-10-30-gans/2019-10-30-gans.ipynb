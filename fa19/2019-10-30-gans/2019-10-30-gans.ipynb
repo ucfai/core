{
 "cells": [
  {
   "cell_type": "markdown",
   "metadata": {
    "nb-title": true,
    "title": "A look behind DeepFake - GANs"
   },
   "source": [
    "<img src=\"https://ucfai.org//core/fa19/gans/banner.jpg\">\n",
    "\n",
    "<div class=\"col-12\">\n",
    "    <span class=\"btn btn-success btn-block\">\n",
    "        Meeting in-person? Have you signed in?\n",
    "    </span>\n",
    "</div>\n",
    "\n",
    "<div class=\"col-12\">\n",
    "    <h1> A look behind DeepFake - GANs </h1>\n",
    "    <hr>\n",
    "</div>\n",
    "\n",
    "<div style=\"line-height: 2em;\">\n",
    "    <p>by: \n",
    "        <strong> Brandon</strong>\n",
    "        (<a href=\"https://github.com/brandons209\">@brandons209</a>)\n",
    "     on 2019-10-30</p>\n",
    "</div>"
   ]
  }
 ],
 "metadata": {
  "autobot": {
   "authors": [
    {
     "author": "Brandon",
     "github": "brandons209",
     "web": null
    }
   ],
   "categories": [
    "fa19"
   ],
   "date": "2019-10-30",
   "description": "GANs are relativity new in the machine learning world, but they have proven to be a very powerful model. Recently, they made headlines in the DeepFake network, being able to mimic someone else in real time video and audio. There has also been cycleGAN, which takes one domain (horses) and makes it look like something similar (zebras). Come and learn the secret behind these type of networks, you will be suprised how intuitive it is! The lecture will cover the basics of GANs and different types, with the workshop covering how we can generate human faces, cats, dogs, and other cute creatures!",
   "tags": [
    "GANs",
    "generative",
    "adversial",
    "cyclegan",
    "deepfake",
    "cGAN"
   ],
   "title": "A look behind DeepFake - GANs"
  }
 },
 "nbformat": 4,
 "nbformat_minor": 2
}
