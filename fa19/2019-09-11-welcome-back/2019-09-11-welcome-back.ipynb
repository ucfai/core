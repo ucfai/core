{
 "cells": [
  {
   "cell_type": "markdown",
   "metadata": {
    "nb-title": true,
    "title": "Welcome back! Introducing Data Science"
   },
   "source": [
    "<img src=\"https://ucfai.org/core/fa19/2019-09-11-welcome-back/welcome-back/banner.png\">\n",
    "\n",
    "<div class=\"col-12\">\n",
    "    <span class=\"btn btn-success btn-block\">\n",
    "        Meeting in-person? Have you signed in?\n",
    "    </span>\n",
    "</div>\n",
    "\n",
    "<div class=\"col-12\">\n",
    "    <h1> Welcome back! Introducing Data Science </h1>\n",
    "    <hr>\n",
    "</div>\n",
    "\n",
    "<div style=\"line-height: 2em;\">\n",
    "    <p>by: \n",
    "        <strong> None</strong>\n",
    "        (<a href=\"https://github.com/sirroboto\">@sirroboto</a>)\n",
    "     on 2019-09-11</p>\n",
    "</div>"
   ]
  }
 ],
 "metadata": {
  "autobot": {
   "authors": [
    {
     "author": null,
     "github": "sirroboto",
     "web": null
    }
   ],
   "categories": [
    "fa19"
   ],
   "date": "2019-09-11",
   "description": "Welcome back or welcome aboard to AI@UCF! We'll be covering what we do, how we do it, and what opportunities are available for you. Food and drink will be provided, so take the time to eat, chat, and learn about our club. See you there!",
   "tags": [
    "club"
   ],
   "title": "Welcome back! Introducing Data Science"
  }
 },
 "nbformat": 4,
 "nbformat_minor": 2
}
