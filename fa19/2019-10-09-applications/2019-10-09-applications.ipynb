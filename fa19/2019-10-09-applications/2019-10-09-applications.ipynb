{
 "cells": [
  {
   "cell_type": "markdown",
   "metadata": {
    "nb-title": true,
    "title": "Applications"
   },
   "source": [
    "<img src=\"https://ucfai.org//core/fa19/applications/banner.jpg\">\n",
    "\n",
    "<div class=\"col-12\">\n",
    "    <span class=\"btn btn-success btn-block\">\n",
    "        Meeting in-person? Have you signed in?\n",
    "    </span>\n",
    "</div>\n",
    "\n",
    "<div class=\"col-12\">\n",
    "    <h1> Applications </h1>\n",
    "    <hr>\n",
    "</div>\n",
    "\n",
    "<div style=\"line-height: 2em;\">\n",
    "    <p>by: \n",
    "        <strong> Liam Jarvis</strong>\n",
    "        (<a href=\"https://github.com/jarviseq\">@jarviseq</a>)\n",
    "     on 2019-10-09</p>\n",
    "</div>"
   ]
  }
 ],
 "metadata": {
  "autobot": {
   "authors": [
    {
     "author": "Liam Jarvis",
     "github": "jarviseq",
     "web": null
    }
   ],
   "categories": [
    "fa19"
   ],
   "date": "2019-10-09",
   "description": "You know what they are, but \"how do?\" In this meeting, we let you loose on a    dataset to help you apply your newly developed or honed data science skills.  Along the way, we go over the importance of visulisations and why it is  important to be able to pick apart a dataset.",
   "tags": [
    "neural-nets",
    "applications",
    "random-forest",
    "svms"
   ],
   "title": "Applications"
  }
 },
 "nbformat": 4,
 "nbformat_minor": 2
}
