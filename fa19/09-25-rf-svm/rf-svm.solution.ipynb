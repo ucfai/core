{
 "cells": [
  {
   "cell_type": "markdown",
   "metadata": {
    "tags": [
     "nb-title",
     "template"
    ],
    "title": "A Walk Through the Random Forest"
   },
   "source": [
    "<img\n",
    "    style=\"border-radius: 0.5em;\"\n",
    "    src=\"https://ucfai.org/groups/core/fa19/rf-svm/banner.png\">\n",
    "\n",
    "<div class=\"col-12\">\n",
    "    <h1> A Walk Through the Random Forest </h1>\n",
    "    <hr>\n",
    "</div>\n",
    "\n",
    "<div style=\"line-height: 2em;\">\n",
    "    <p>by: \n",
    "        <a href=\"https://ucfai.org/authors/jarviseq\">@jarviseq</a> on Sep 25, 2019</p>\n",
    "</div>"
   ]
  },
  {
   "cell_type": "code",
   "execution_count": null,
   "metadata": {
    "language": "python",
    "tags": [
     "template"
    ]
   },
   "outputs": [],
   "source": [
    "from pathlib import Path\n",
    "\n",
    "DATA_DIR = Path(\"/kaggle/input\")\n",
    "if (DATA_DIR / \"ucfai-core-fa19-rf-svm\").exists():\n",
    "    DATA_DIR /= \"ucfai-core-fa19-rf-svm\"\n",
    "elif DATA_DIR.exists():\n",
    "    # no-op to keep the proper data path for Kaggle\n",
    "    pass\n",
    "else:\n",
    "    # You'll need to download the data from Kaggle and place it in the `data/`\n",
    "    #   directory beside this notebook.\n",
    "    # The data should be here: https://kaggle.com/c/ucfai-core-fa19-rf-svm/data\n",
    "    DATA_DIR = Path(\"data\")"
   ]
  },
  {
   "cell_type": "markdown",
   "metadata": {},
   "source": [
    "## Overview\n",
    "\n",
    "Before getting going on more complex examples, we're going to take a look at a very simple example using the Iris Dataset. \n",
    "\n",
    "The final example deals with credit card fraud and how to identify if fraud is taking place based a dataset of over 280,000 entries. "
   ]
  },
  {
   "cell_type": "code",
   "execution_count": 2,
   "metadata": {
    "pycharm": {
     "name": "#%%\n"
    }
   },
   "outputs": [],
   "source": [
    "# Importing the important stuff\n",
    "import pandas as pd\n",
    "import numpy as np\n",
    "import matplotlib.pyplot as plt\n",
    "import time\n",
    "from sklearn import svm\n",
    "from sklearn.model_selection import train_test_split\n",
    "from sklearn.ensemble import RandomForestClassifier\n",
    "from sklearn.metrics import confusion_matrix, matthews_corrcoef"
   ]
  },
  {
   "cell_type": "markdown",
   "metadata": {},
   "source": [
    "## Iris Data Set\n",
    "\n",
    "This is a classic dataset of flowers. The goal is to have the model classify the types of flowers based on 4 factors. \n",
    "Those factors are *sepal length*, *sepal width*, *petal length*, and *petal width*, which are all measured in cm. \n",
    "The dataset is very old in comparison to many of the datasets we use, coming from a \n",
    "[1936 paper about taxonomy](https://onlinelibrary.wiley.com/doi/abs/10.1111/j.1469-1809.1936.tb02137.x).\n",
    "\n",
    "### Getting the Data Set\n",
    "\n",
    "`sklearn` has the dataset built into the the library, so getting the data will be easy. Once we do that, we'll do a test-train split."
   ]
  },
  {
   "cell_type": "code",
   "execution_count": 3,
   "metadata": {
    "pycharm": {
     "name": "#%%\n"
    }
   },
   "outputs": [],
   "source": [
    "from sklearn.datasets import load_iris\n",
    "\n",
    "iris = load_iris()\n",
    "split = train_test_split(iris.data, iris.target, test_size=0.1)\n",
    "X_train, X_test, Y_train, Y_test = split"
   ]
  },
  {
   "cell_type": "markdown",
   "metadata": {},
   "source": [
    "### Making the Model\n",
    "\n",
    "Making a Random Forests model is very easy, taking just two lines of code! \n",
    "Training can take a second, though, but in this example is small so the training time is minimal."
   ]
  },
  {
   "cell_type": "code",
   "execution_count": 4,
   "metadata": {
    "pycharm": {
     "name": "#%%\n"
    }
   },
   "outputs": [
    {
     "data": {
      "text/plain": [
       "RandomForestClassifier(n_estimators=150, n_jobs=-1)"
      ]
     },
     "execution_count": 4,
     "metadata": {},
     "output_type": "execute_result"
    }
   ],
   "source": [
    "trees = RandomForestClassifier(n_estimators=150, n_jobs=-1)\n",
    "trees.fit(X_train, Y_train)"
   ]
  },
  {
   "cell_type": "markdown",
   "metadata": {
    "pycharm": {
     "name": "#%% md\n"
    }
   },
   "source": [
    "`sklearn` has a few parameters that we can tweak to tune our model. \n",
    "We won't be going into those different parameters in this notebook, \n",
    "but if you want to give it a look, \n",
    "[here is the documentation.](https://scikit-learn.org/stable/modules/generated/sklearn.ensemble.RandomForestClassifier.html)  \n",
    "\n",
    "### We need to figure out how well this model does\n",
    "\n",
    "There are a few ways we are going to test for accuracy using a **Confusion Matrix** and the **Matthews Correlation Coefficient**.\n",
    "\n",
    "#### Confusion Matrix\n",
    "\n",
    "A Confusion Matrix shows us where the model is messing up. Below is an example from [Data School](https://www.dataschool.io). Confusion Matrices are great ways to visual your model's performance.\n",
    "\n",
    "![alt text](https://www.dataschool.io/content/images/2015/01/confusion_matrix_simple2.png)"
   ]
  },
  {
   "cell_type": "code",
   "execution_count": 5,
   "metadata": {
    "pycharm": {
     "name": "#%%\n"
    }
   },
   "outputs": [
    {
     "data": {
      "text/plain": [
       "array([[5, 0, 0],\n",
       "       [0, 6, 0],\n",
       "       [0, 0, 4]])"
      ]
     },
     "execution_count": 5,
     "metadata": {},
     "output_type": "execute_result"
    }
   ],
   "source": [
    "predictions = trees.predict(X_test)\n",
    "confusion_matrix(Y_test, predictions)"
   ]
  },
  {
   "cell_type": "markdown",
   "metadata": {},
   "source": [
    "#### Matthews Correlation Coefficient (MCC)\n",
    "\n",
    "This is used to find the quality of binary classification. Its based on the values found in the Confusion Matrix and tries to boil those values down to a single number. It is generally considered one of the better measures of quality for classification. MCC does not rely on class size, so in cases where we have very different class sizes, we can get a realiable measure of how well it did. \n",
    "\n",
    "\n",
    "MCC ranges from $[-1, 1]$. $-1$ represents total disagreement between the prediction and the observation, while $1$ represents prefect prediction. \n",
    "In other words, the closer to $1$ we get the better the model is considered."
   ]
  },
  {
   "cell_type": "code",
   "execution_count": 6,
   "metadata": {
    "pycharm": {
     "name": "#%%\n"
    }
   },
   "outputs": [
    {
     "name": "stdout",
     "output_type": "stream",
     "text": [
      "1.0\n"
     ]
    }
   ],
   "source": [
    "print(matthews_corrcoef(Y_test, predictions))"
   ]
  },
  {
   "cell_type": "markdown",
   "metadata": {},
   "source": [
    "### Now, what about SVMs?\n",
    "\n",
    "We want to see how well SVMs can work on the Iris, so let's see it in action.\n",
    "\n",
    "First, let's define the models; one for `linear`, `poly` and `rbf`."
   ]
  },
  {
   "cell_type": "code",
   "execution_count": 8,
   "metadata": {
    "pycharm": {
     "name": "#%%\n"
    }
   },
   "outputs": [],
   "source": [
    "# SVM regularization parameter, we'll keep it simple for now\n",
    "C = 1.0 \n",
    "\n",
    "models = (svm.SVC(kernel='linear', C=C),\n",
    "          svm.SVC(kernel='poly', degree=3, C=C),\n",
    "          svm.SVC(kernel='rbf', gamma=0.7, C=C))"
   ]
  },
  {
   "cell_type": "markdown",
   "metadata": {},
   "source": [
    "So you know what the parameters mean:\n",
    "* `degree` refers to the degree of the polynomial\n",
    "* `gamma` refer to the influence of a single training example reaches\n",
    "> * with low values meaning ‘far’ and high values meaning ‘close’\n",
    "\n",
    "Once we have the models defined, let's train them!"
   ]
  },
  {
   "cell_type": "code",
   "execution_count": 9,
   "metadata": {
    "pycharm": {
     "name": "#%%\n"
    }
   },
   "outputs": [],
   "source": [
    "models = (clf.fit(X_train, Y_train) for clf in models)"
   ]
  },
  {
   "cell_type": "markdown",
   "metadata": {},
   "source": [
    "Now we are see how the confusion matrices look like:"
   ]
  },
  {
   "cell_type": "code",
   "execution_count": 10,
   "metadata": {
    "pycharm": {
     "name": "#%%\n"
    }
   },
   "outputs": [
    {
     "name": "stdout",
     "output_type": "stream",
     "text": [
      "[[5 0 0]\n",
      " [0 6 0]\n",
      " [0 0 4]]\n",
      "[[5 0 0]\n",
      " [0 6 0]\n",
      " [0 0 4]]\n",
      "[[5 0 0]\n",
      " [0 6 0]\n",
      " [0 0 4]]\n"
     ]
    }
   ],
   "source": [
    "for clf in models:\n",
    "    predictions = clf.predict(X_test)\n",
    "    print(confusion_matrix(Y_test, predictions))"
   ]
  },
  {
   "cell_type": "markdown",
   "metadata": {},
   "source": [
    "The Confusion Matrix is all nice and dandy, but let's check out what the Matthews Coefficient has to say about our models."
   ]
  },
  {
   "cell_type": "code",
   "execution_count": 12,
   "metadata": {
    "pycharm": {
     "name": "#%%\n"
    }
   },
   "outputs": [],
   "source": [
    "for clf in models:\n",
    "    predictions = clf.predict(X_test)\n",
    "    print(matthews_corrcoef(Y_test, predictions))"
   ]
  },
  {
   "cell_type": "markdown",
   "metadata": {},
   "source": [
    "That wasn't too bad was it? Both Random Forests and SVMs are very easy models to implement, and their low training times means that the model can be used without the overheads associated with neural networks, which we will learn more about next week.\n",
    "\n",
    "## Credit Card Fraud Dataset\n",
    "\n",
    "As always, we are going to need a dataset to work on! Credit card fraud detection is a serious issue, and as such is something that data scientists have looked into. This dataset is from a Kaggle competition with over 2,000 Kernals based on it. Let's see how well Random Forests can do with this dataset!\n",
    "\n",
    "Lets read in the data and use `.info()` to find out some meta-data"
   ]
  },
  {
   "cell_type": "code",
   "execution_count": null,
   "metadata": {
    "pycharm": {
     "name": "#%%\n"
    }
   },
   "outputs": [],
   "source": [
    "data = pd.read_csv(DATA_DIR / \"train.csv\")\n",
    "data.info()"
   ]
  },
  {
   "cell_type": "markdown",
   "metadata": {},
   "source": [
    "What's going on with this V stuff?\n",
    "Credit Card information is a bit sensitive, and as such raw information had to be obscured in some way to protect that information.\n",
    "\n",
    "In this case, the data provider used a method know as Principle Components Analysis (PCA) to hide those features that would be considered sensitive.  PCA is a very useful technique for dimension reduction. For now, know that this technique allows us to take data and transform it in a way that maintains the patterns in that data.\n",
    "\n",
    "If you are interested in learning more about PCA, [consider checking out this article](https://towardsdatascience.com/a-step-by-step-explanation-of-principal-component-analysis-b836fb9c97e2). Unfortunately, there is a lot that we want to cover in Core and not enough time to do all of it. :(\n",
    "\n",
    "Next, let's get some basic statistical info from this data."
   ]
  },
  {
   "cell_type": "code",
   "execution_count": null,
   "metadata": {
    "pycharm": {
     "name": "#%%\n"
    }
   },
   "outputs": [],
   "source": [
    "data.describe()"
   ]
  },
  {
   "cell_type": "markdown",
   "metadata": {
    "pycharm": {
     "name": "#%% md\n"
    }
   },
   "source": [
    "### Some important points about this data \n",
    "\n",
    "For most of the features, there is not a lot we can gather since it's been obscured with PCA. However, there are three features that have been left in for us to see. \n",
    "\n",
    "#### 1. Time\n",
    "\n",
    "Time is the amount of time from first transaction in seconds. \n",
    "The max is 172792, so the data was collected for around 48 hours. \n",
    "\n",
    "#### 2. Amount\n",
    "\n",
    "Amount is the amount that the transaction was for. \n",
    "The denomination of the transactions was not given, so we're going to be calling them \"Simoleons\" as a place holder. \n",
    "Some interesting points about this feature is the STD, or standard deviation, which is 250§. That's quite large, \n",
    "but makes sense when the min and max are 0§ and 25,691§ respectively. \n",
    "There is a lot of variance in this feature, which is to be expected. The 75% amount is only in 77§, \n",
    "which means that the whole set skews to the lower end.\n",
    "\n",
    "#### 3. Class\n",
    "\n",
    "This tells us if the transaction was fraud or not. 0 is for no fraud, 1 if it is fraud. \n",
    "If you look at the mean, it is .001727, which means that only .1727% of the 284,807 cases are fraud. \n",
    "There are only 492 fraud examples in this data set, so we're looking for a needle in a haystack in this case.\n",
    "\n",
    "Now that we have that out of the way, let's start making this model! We need to split our data first"
   ]
  },
  {
   "cell_type": "code",
   "execution_count": null,
   "metadata": {
    "pycharm": {
     "name": "#%%\n"
    }
   },
   "outputs": [],
   "source": [
    "X = data.drop(columns='Class', axis=1)\n",
    "Y = data['Class']\n",
    "\n",
    "# sklearn requires a shape with dimensions (N, 1), \n",
    "# so we expand dimensions of x and y to put a 1 in the second dimension\n",
    "print(f\"X shape: {X.shape} Y shape: {Y.shape}\")"
   ]
  },
  {
   "cell_type": "markdown",
   "metadata": {
    "pycharm": {
     "name": "#%% md\n"
    }
   },
   "source": [
    "### Some Points about Training\n",
    "\n",
    "With Random Forest and SVMs, training time is very quick, so we can finish training the model in realitively short order, \n",
    "even when our dataset contains 284,807 entries. This is done without the need of GPU acceleration, \n",
    "which Random Forests cannot take advantage of.\n",
    "\n",
    "The area is left blank, \n",
    "but there's examples on how to make the models earlier in the notebook that can be used as an example if you need it. \n",
    "What model and the parameters you choose are up to you, so have fun!"
   ]
  },
  {
   "cell_type": "code",
   "execution_count": null,
   "metadata": {
    "nbgrader": {
     "solution": true
    },
    "pycharm": {
     "name": "#%%\n"
    }
   },
   "outputs": [],
   "source": [
    "# Make the magic happen!\n",
    "# https://scikit-learn.org/stable/modules/generated/sklearn.ensemble.RandomForestClassifier.html\n",
    "X_test = pd.read_csv(DATA_DIR / \"test.csv\")\n",
    "\n",
    "# to expedite things: pass `n_jobs=-1` so you can run across all available CPUs\n",
    "### BEGIN SOLUTION\n",
    "rf = RandomForestClassifier(n_estimators=10, n_jobs=-1)\n",
    "rf.fit(X, Y)\n",
    "predictions = rf.predict(X_test.values)\n",
    "### END SOLUTION"
   ]
  },
  {
   "cell_type": "markdown",
   "metadata": {},
   "source": [
    "### Submitting your Solution\n",
    "\n",
    "To submit your solution to kaggle, you'll need to save you data.\n",
    "\n",
    "Luckily, we got the code you need to do that below. "
   ]
  },
  {
   "cell_type": "code",
   "execution_count": null,
   "metadata": {},
   "outputs": [],
   "source": [
    "predictions = pd.DataFrame({'Id': Y_test.index, 'Class': predictions})\n",
    "\n",
    "predictions.to_csv('submission.csv', header=['Id', 'Class'], index=False)"
   ]
  },
  {
   "cell_type": "markdown",
   "metadata": {
    "pycharm": {
     "name": "#%% md\n"
    }
   },
   "source": [
    "## Thank You\n",
    "\n",
    "We hope that you enjoyed being here today.\n",
    "\n",
    "Please fill out [this questionaire](https://docs.google.com/forms/d/e/1FAIpQLSemUFE7YNrnKYT-KBUJcsWbmNkBIj_1aT0mtw3LszJLOMAXLA/viewform?usp=sf_link) so we can get some feedback about tonight's meeting.\n",
    "\n",
    "We hope to see you here again next week for our Core meeting on *Neural Networks*.\n",
    "\n",
    "### Vevu en Virtu \n"
   ]
  }
 ],
 "metadata": {
  "autobot": {
   "abstract": "In this lecture, we explore powerful yet lightweight models that are often  overlooked. We will see the power of combining multiple simple models together and how they can yield amazing results. You won't believe how easy it is to  classify with just a line!",
   "authors": [
    "jarviseq"
   ],
   "date": "2019-09-25T17:30:00",
   "group": "core",
   "semester": "fa19",
   "tags": [
    "random forests",
    "svms"
   ],
   "title": "A Walk Through the Random Forest"
  },
  "kernelspec": {
   "display_name": "Python 3",
   "language": "python",
   "name": "python3"
  },
  "language_info": {
   "codemirror_mode": {
    "name": "ipython",
    "version": 3
   },
   "file_extension": ".py",
   "mimetype": "text/x-python",
   "name": "python",
   "nbconvert_exporter": "python",
   "pygments_lexer": "ipython3",
   "version": "3.7.7"
  }
 },
 "nbformat": 4,
 "nbformat_minor": 4
}
