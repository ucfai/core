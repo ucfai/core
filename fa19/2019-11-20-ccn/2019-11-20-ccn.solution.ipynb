{
 "cells": [
  {
   "cell_type": "markdown",
   "metadata": {
    "nb-title": true,
    "title": "Understanding the Nature of [Human] Intelligence"
   },
   "source": [
    "<img src=\"https://ucfai.org/core/fa19/2019-11-20-ccn/ccn/banner.png\">\n",
    "\n",
    "<div class=\"col-12\">\n",
    "    <span class=\"btn btn-success btn-block\">\n",
    "        Meeting in-person? Have you signed in?\n",
    "    </span>\n",
    "</div>\n",
    "\n",
    "<div class=\"col-12\">\n",
    "    <h1> Understanding the Nature of [Human] Intelligence </h1>\n",
    "    <hr>\n",
    "</div>\n",
    "\n",
    "<div style=\"line-height: 2em;\">\n",
    "    <p>by: \n",
    "        <strong> John Muchovej</strong>\n",
    "        (<a href=\"https://github.com/ionlights\">@ionlights</a>)\n",
    "     on 2019-11-20</p>\n",
    "</div>"
   ]
  }
 ],
 "metadata": {
  "autobot": {
   "authors": [
    {
     "author": "John Muchovej",
     "github": "ionlights",
     "web": null
    }
   ],
   "categories": [
    "fa19"
   ],
   "date": "2019-11-20",
   "description": "A temporary placeholder.",
   "tags": [],
   "title": "Understanding the Nature of [Human] Intelligence"
  }
 },
 "nbformat": 4,
 "nbformat_minor": 2
}
