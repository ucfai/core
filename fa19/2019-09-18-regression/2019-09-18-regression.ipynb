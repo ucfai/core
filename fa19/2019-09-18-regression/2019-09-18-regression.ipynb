{
 "cells": [
  {
   "cell_type": "markdown",
   "metadata": {
    "nb-title": true,
    "title": "Getting Started, Regression"
   },
   "source": [
    "<img src=\"https://ucfai.org//core/fa19/regression/banner.jpg\">\n",
    "\n",
    "<div class=\"col-12\">\n",
    "    <span class=\"btn btn-success btn-block\">\n",
    "        Meeting in-person? Have you signed in?\n",
    "    </span>\n",
    "</div>\n",
    "\n",
    "<div class=\"col-12\">\n",
    "    <h1> Getting Started, Regression </h1>\n",
    "    <hr>\n",
    "</div>\n",
    "\n",
    "<div style=\"line-height: 2em;\">\n",
    "    <p>by: \n",
    "        <strong> Liam Jarvis</strong>\n",
    "        (<a href=\"https://github.com/jarviseq\">@jarviseq</a>)\n",
    "     on 2019-09-18</p>\n",
    "</div>"
   ]
  }
 ],
 "metadata": {
  "autobot": {
   "authors": [
    {
     "author": "Liam Jarvis",
     "github": "jarviseq",
     "web": null
    }
   ],
   "categories": [
    "fa19"
   ],
   "date": "2019-09-18",
   "description": "You always start with the basics, and in this meeting we are doing just that!  We will be going over what Machine Learning consists of and how we can use  models to do awesome stuff!",
   "tags": [
    "Regresssion",
    "Linear Regression",
    "Logistic Regression",
    "non-nn"
   ],
   "title": "Getting Started, Regression"
  }
 },
 "nbformat": 4,
 "nbformat_minor": 2
}
