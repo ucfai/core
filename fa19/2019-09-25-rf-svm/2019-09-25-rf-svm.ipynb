{
 "cells": [
  {
   "cell_type": "markdown",
   "metadata": {
    "nb-title": true,
    "title": "A Walk Through the Random Forest"
   },
   "source": [
    "<img src=\"https://ucfai.org//core/fa19/rf-svm/banner.jpg\">\n",
    "\n",
    "<div class=\"col-12\">\n",
    "    <span class=\"btn btn-success btn-block\">\n",
    "        Meeting in-person? Have you signed in?\n",
    "    </span>\n",
    "</div>\n",
    "\n",
    "<div class=\"col-12\">\n",
    "    <h1> A Walk Through the Random Forest </h1>\n",
    "    <hr>\n",
    "</div>\n",
    "\n",
    "<div style=\"line-height: 2em;\">\n",
    "    <p>by: \n",
    "        <strong> Liam Jarvis</strong>\n",
    "        (<a href=\"https://github.com/jarviseq\">@jarviseq</a>)\n",
    "     on 2019-09-25</p>\n",
    "</div>"
   ]
  }
 ],
 "metadata": {
  "autobot": {
   "authors": [
    {
     "author": "Liam Jarvis",
     "github": "jarviseq",
     "web": null
    }
   ],
   "categories": [
    "fa19"
   ],
   "date": "2019-09-25",
   "description": "In this lecture, we explore powerful yet lightweight models that are often  overlooked. We will see the power of combining multiple simple models together and how they can yield amazing results. You won't believe how easy it is to  classify with just a line!",
   "tags": [
    "random-forests",
    "svms",
    "weak-models",
    "non-nn"
   ],
   "title": "A Walk Through the Random Forest"
  }
 },
 "nbformat": 4,
 "nbformat_minor": 2
}
