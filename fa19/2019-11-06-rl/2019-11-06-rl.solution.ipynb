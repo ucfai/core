{
 "cells": [
  {
   "cell_type": "markdown",
   "metadata": {
    "nb-title": true,
    "title": "Training Machines to Learn From Experience"
   },
   "source": [
    "<img src=\"https://ucfai.org/core/fa19/rl/banner.png\">\n",
    "\n",
    "<div class=\"col-12\">\n",
    "    <span class=\"btn btn-success btn-block\">\n",
    "        Meeting in-person? Have you signed in?\n",
    "    </span>\n",
    "</div>\n",
    "\n",
    "<div class=\"col-12\">\n",
    "    <h1> Training Machines to Learn From Experience </h1>\n",
    "    <hr>\n",
    "</div>\n",
    "\n",
    "<div style=\"line-height: 2em;\">\n",
    "    <p>by: \n",
    "        <strong> None</strong>\n",
    "        (<a href=\"https://github.com/cg021\">@cg021</a>)\n",
    "     on 2019-11-06</p>\n",
    "</div>"
   ]
  }
 ],
 "metadata": {
  "autobot": {
   "authors": [
    {
     "author": null,
     "github": "cg021",
     "web": null
    }
   ],
   "categories": [
    "fa19"
   ],
   "date": "2019-11-06",
   "description": "We all remember when DeepMind’s AlphaGo beat Lee Sedol, but what actually made the program  powerful enough to outperform an international champion? In this lecture, we’ll dive into the mechanics  of reinforcement learning and its applications.",
   "tags": [
    "reinforcement learning",
    "machine learning"
   ],
   "title": "Training Machines to Learn From Experience"
  }
 },
 "nbformat": 4,
 "nbformat_minor": 2
}
